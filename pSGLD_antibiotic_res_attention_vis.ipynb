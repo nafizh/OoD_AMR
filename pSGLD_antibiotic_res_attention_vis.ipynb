{
 "cells": [
  {
   "cell_type": "markdown",
   "metadata": {},
   "source": [
    "## Import libraries"
   ]
  },
  {
   "cell_type": "code",
   "execution_count": 1,
   "metadata": {},
   "outputs": [
    {
     "name": "stderr",
     "output_type": "stream",
     "text": [
      "/home/nafizh/anaconda3/lib/python3.6/site-packages/h5py/__init__.py:34: FutureWarning: Conversion of the second argument of issubdtype from `float` to `np.floating` is deprecated. In future, it will be treated as `np.float64 == np.dtype(float).type`.\n",
      "  from ._conv import register_converters as _register_converters\n",
      "Using TensorFlow backend.\n",
      "/home/nafizh/anaconda3/lib/python3.6/importlib/_bootstrap.py:219: RuntimeWarning: compiletime version 3.5 of module 'tensorflow.python.framework.fast_tensor_util' does not match runtime version 3.6\n",
      "  return f(*args, **kwds)\n"
     ]
    },
    {
     "name": "stdout",
     "output_type": "stream",
     "text": [
      "1.0.0.dev20180921\n",
      "1\n",
      "TITAN X (Pascal)\n"
     ]
    },
    {
     "data": {
      "text/plain": [
       "<torch._C.Generator at 0x7f93cfdd3250>"
      ]
     },
     "execution_count": 1,
     "metadata": {},
     "output_type": "execute_result"
    }
   ],
   "source": [
    "%matplotlib inline\n",
    "%reload_ext autoreload\n",
    "%autoreload 2\n",
    "\n",
    "import matplotlib.pyplot as plt\n",
    "import matplotlib.ticker as ticker\n",
    "import numpy as np\n",
    "import pandas as pd\n",
    "import math\n",
    "from collections import defaultdict\n",
    "\n",
    "from Bio import SeqIO\n",
    "from sklearn.preprocessing import LabelBinarizer\n",
    "from sklearn.utils import shuffle\n",
    "from sklearn.model_selection import train_test_split\n",
    "from sklearn.metrics import precision_score\n",
    "from sklearn.metrics import recall_score\n",
    "from sklearn.metrics import f1_score\n",
    "from sklearn.metrics import precision_recall_curve\n",
    "from sklearn.metrics import auc\n",
    "from sklearn.metrics import roc_curve\n",
    "\n",
    "from keras.preprocessing.text import Tokenizer\n",
    "from keras.preprocessing.sequence import pad_sequences\n",
    "from keras.utils import to_categorical\n",
    "\n",
    "import torch\n",
    "import torch.utils.data\n",
    "import torch.nn as nn\n",
    "import torch.nn.functional as F\n",
    "from torch.autograd import Variable\n",
    "from torch.nn.utils.rnn import pack_padded_sequence, pad_packed_sequence, PackedSequence\n",
    "from torch.nn import Module\n",
    "from torch.utils.data import Dataset\n",
    "\n",
    "#from attention_visualization import createHTML\n",
    "\n",
    "use_cuda = torch.cuda.is_available()\n",
    "print(torch.__version__)\n",
    "print(torch.cuda.device_count())\n",
    "print(torch.cuda.get_device_name(0))\n",
    "torch.cuda.set_device(0)\n",
    "torch.manual_seed(42)"
   ]
  },
  {
   "cell_type": "markdown",
   "metadata": {
    "heading_collapsed": true
   },
   "source": [
    "## Data pre-processing "
   ]
  },
  {
   "cell_type": "code",
   "execution_count": 634,
   "metadata": {
    "hidden": true
   },
   "outputs": [
    {
     "name": "stdout",
     "output_type": "stream",
     "text": [
      "defaultdict(<class 'int'>, {'multidrug': 1091, 'beta_lactam': 5194, 'aminoglycoside': 869, 'rifampin': 26, 'tetracenomycin': 9, 'tetracycline': 266, 'multidrug-mutation': 1, 'quinolone': 131, 'macrolide-lincosamide-streptogramin': 1106, 'acriflavin': 1, 'peptide': 11, 'fosfomycin': 292, 'polymyxin': 897, 'chloramphenicol': 470, 'bacitracin': 4206, 'pleuromutilin': 1, 'kasugamycin': 34, 'bleomycin': 1, 'beta_lactam ': 1, 'puromycin': 2, 'streptothricin': 2, 'qa_compound': 3, 'trimethoprim': 82, 'sulfonamide': 20, 'fusidic_acid': 6, 'triclosan': 4, 'glycopeptide': 223, 'quinolone ': 1, 'tunicamycin': 3, 'fosmidomycin': 10, 'mupirocin': 5, 'thiostrepton': 4, 'elfamycin': 1, 'aminocoumarin': 1})\n",
      "34\n",
      "14974\n"
     ]
    }
   ],
   "source": [
    "# Whole dataset\n",
    "abiotic_num = defaultdict(int)\n",
    "with open('features.fasta', 'r') as in_handle:\n",
    "    for index, record in enumerate(SeqIO.parse(in_handle, 'fasta')):\n",
    "        abiotic = record.description.split(\"|\")[3]\n",
    "        src = record.description.split(\"|\")[2]\n",
    "        #if src != 'UNIPROT':\n",
    "        abiotic_num[abiotic] += 1\n",
    "        #print (abiotic)\n",
    "        #break\n",
    "print (abiotic_num)\n",
    "print ((len(abiotic_num)))\n",
    "count = 0\n",
    "for key, val in abiotic_num.items():\n",
    "    #print (val)\n",
    "    count = count + val\n",
    "print (count)"
   ]
  },
  {
   "cell_type": "code",
   "execution_count": 2,
   "metadata": {
    "hidden": true,
    "scrolled": true
   },
   "outputs": [
    {
     "name": "stdout",
     "output_type": "stream",
     "text": [
      "defaultdict(<class 'int'>, {'multidrug': 923, 'beta_lactam': 1657, 'aminoglycoside': 270, 'rifampin': 26, 'tetracenomycin': 9, 'tetracycline': 264, 'multidrug-mutation': 1, 'quinolone': 129, 'macrolide-lincosamide-streptogramin': 252, 'acriflavin': 1, 'peptide': 11, 'fosfomycin': 69, 'polymyxin': 48, 'chloramphenicol': 77, 'bacitracin': 250, 'pleuromutilin': 1, 'kasugamycin': 34, 'bleomycin': 1, 'puromycin': 2, 'streptothricin': 2, 'qa_compound': 3, 'trimethoprim': 80, 'fusidic_acid': 6, 'triclosan': 4, 'glycopeptide': 196, 'quinolone ': 1, 'sulfonamide': 19, 'tunicamycin': 3, 'fosmidomycin': 9, 'mupirocin': 1, 'thiostrepton': 4, 'elfamycin': 1, 'aminocoumarin': 1})\n",
      "33\n",
      "4355\n"
     ]
    }
   ],
   "source": [
    "# Just CARD and ARDB\n",
    "from collections import defaultdict\n",
    "\n",
    "abiotic_num = defaultdict(int)\n",
    "with open('features.fasta', 'r') as in_handle:\n",
    "    for index, record in enumerate(SeqIO.parse(in_handle, 'fasta')):\n",
    "        abiotic = record.description.split(\"|\")[3]\n",
    "        src = record.description.split(\"|\")[2]\n",
    "        if src != 'UNIPROT':\n",
    "            abiotic_num[abiotic] += 1\n",
    "        #print (abiotic)\n",
    "        #break\n",
    "print (abiotic_num)\n",
    "print ((len(abiotic_num)))\n",
    "count = 0\n",
    "for key, val in abiotic_num.items():\n",
    "    #print (val)\n",
    "    count = count + val\n",
    "print (count)"
   ]
  },
  {
   "cell_type": "code",
   "execution_count": 635,
   "metadata": {
    "hidden": true
   },
   "outputs": [
    {
     "name": "stdout",
     "output_type": "stream",
     "text": [
      "defaultdict(<class 'int'>, {'multidrug': 1091, 'beta_lactam': 5194, 'aminoglycoside': 869, 'rifampin': 26, 'tetracenomycin': 9, 'tetracycline': 266, 'multidrug-mutation': 1, 'quinolone': 131, 'macrolide-lincosamide-streptogramin': 1106, 'acriflavin': 1, 'peptide': 11, 'fosfomycin': 292, 'polymyxin': 897, 'chloramphenicol': 470, 'bacitracin': 4206, 'pleuromutilin': 1, 'kasugamycin': 34, 'bleomycin': 1, 'beta_lactam ': 1, 'puromycin': 2, 'streptothricin': 2, 'qa_compound': 3, 'trimethoprim': 82, 'sulfonamide': 20, 'fusidic_acid': 6, 'triclosan': 4, 'glycopeptide': 223, 'quinolone ': 1, 'tunicamycin': 3, 'fosmidomycin': 10, 'mupirocin': 5, 'thiostrepton': 4, 'elfamycin': 1, 'aminocoumarin': 1})\n",
      "34\n",
      "14974\n"
     ]
    }
   ],
   "source": [
    "# Whole dataset\n",
    "from collections import defaultdict\n",
    "\n",
    "abiotic_num = defaultdict(int)\n",
    "with open('features.fasta', 'r') as in_handle:\n",
    "    for index, record in enumerate(SeqIO.parse(in_handle, 'fasta')):\n",
    "        abiotic = record.description.split(\"|\")[3]\n",
    "        src = record.description.split(\"|\")[2]\n",
    "        abiotic_num[abiotic] += 1\n",
    "        #print (abiotic)\n",
    "        #break\n",
    "print (abiotic_num)\n",
    "print ((len(abiotic_num)))\n",
    "count = 0\n",
    "for key, val in abiotic_num.items():\n",
    "    #print (val)\n",
    "    count = count + val\n",
    "print (count)"
   ]
  },
  {
   "cell_type": "code",
   "execution_count": 636,
   "metadata": {
    "hidden": true
   },
   "outputs": [
    {
     "name": "stdout",
     "output_type": "stream",
     "text": [
      "tetracenomycin 9\n",
      "multidrug-mutation 1\n",
      "acriflavin 1\n",
      "peptide 11\n",
      "pleuromutilin 1\n",
      "bleomycin 1\n",
      "beta_lactam  1\n",
      "puromycin 2\n",
      "streptothricin 2\n",
      "qa_compound 3\n",
      "fusidic_acid 6\n",
      "triclosan 4\n",
      "quinolone  1\n",
      "tunicamycin 3\n",
      "fosmidomycin 10\n",
      "mupirocin 5\n",
      "thiostrepton 4\n",
      "elfamycin 1\n",
      "aminocoumarin 1\n",
      "19\n",
      "['tetracenomycin', 'multidrug-mutation', 'acriflavin', 'peptide', 'pleuromutilin', 'bleomycin', 'beta_lactam ', 'puromycin', 'streptothricin', 'qa_compound', 'fusidic_acid', 'triclosan', 'quinolone ', 'tunicamycin', 'fosmidomycin', 'mupirocin', 'thiostrepton', 'elfamycin', 'aminocoumarin']\n"
     ]
    }
   ],
   "source": [
    "count = 0\n",
    "redacted_classes = []\n",
    "for key, val in abiotic_num.items():\n",
    "    if val < 20:\n",
    "        print (key, val)\n",
    "        count = count + 1\n",
    "        redacted_classes.append(key)\n",
    "print (count)\n",
    "print (redacted_classes)"
   ]
  },
  {
   "cell_type": "code",
   "execution_count": 637,
   "metadata": {
    "hidden": true
   },
   "outputs": [
    {
     "name": "stdout",
     "output_type": "stream",
     "text": [
      "Done\n"
     ]
    }
   ],
   "source": [
    "\"\"\"\n",
    "Writing down sequences for classes that were not included in the whole dataset \n",
    "\"\"\"\n",
    "out_handle = open('not_included_classes_whole_antibiotic_res_dataset_pruned.fa', 'w')\n",
    "with open('features.fasta', 'r') as in_handle:\n",
    "    for index, record in enumerate(SeqIO.parse(in_handle, 'fasta')):\n",
    "        abiotic = record.description.split(\"|\")[3]\n",
    "        src = record.description.split(\"|\")[2]\n",
    "        if abiotic in redacted_classes:\n",
    "            out_handle.write(\">%s\\n%s\\n\" % (record.description, record.seq))\n",
    "out_handle.close()\n",
    "print (\"Done\")"
   ]
  },
  {
   "cell_type": "code",
   "execution_count": 200,
   "metadata": {
    "hidden": true
   },
   "outputs": [
    {
     "name": "stdout",
     "output_type": "stream",
     "text": [
      "Done\n"
     ]
    }
   ],
   "source": [
    "\"\"\"\n",
    "Writing down sequences for classes in the whole dataset that has >=20 training\n",
    "examples\n",
    "\"\"\"\n",
    "out_handle = open('whole_antibiotic_res_dataset_pruned.fa', 'w')\n",
    "with open('features.fasta', 'r') as in_handle:\n",
    "    for index, record in enumerate(SeqIO.parse(in_handle, 'fasta')):\n",
    "        abiotic = record.description.split(\"|\")[3]\n",
    "        src = record.description.split(\"|\")[2]\n",
    "        if abiotic not in redacted_classes:\n",
    "            out_handle.write(\">%s\\n%s\\n\" % (record.description, record.seq))\n",
    "out_handle.close()\n",
    "print (\"Done\")"
   ]
  },
  {
   "cell_type": "code",
   "execution_count": 9,
   "metadata": {
    "hidden": true
   },
   "outputs": [
    {
     "name": "stdout",
     "output_type": "stream",
     "text": [
      "Done\n"
     ]
    }
   ],
   "source": [
    "\"\"\"\n",
    "Writing down sequences for classes in card and ardb that has more than 9 training\n",
    "examples\n",
    "\"\"\"\n",
    "out_handle = open('card_ardb_pruned.fa', 'w')\n",
    "with open('features.fasta', 'r') as in_handle:\n",
    "    for index, record in enumerate(SeqIO.parse(in_handle, 'fasta')):\n",
    "        abiotic = record.description.split(\"|\")[3]\n",
    "        src = record.description.split(\"|\")[2]\n",
    "        if src != 'UNIPROT':\n",
    "            if abiotic not in redacted_classes:\n",
    "                out_handle.write(\">%s\\n%s\\n\" % (record.description, record.seq))\n",
    "out_handle.close()\n",
    "print (\"Done\")"
   ]
  },
  {
   "cell_type": "code",
   "execution_count": 16,
   "metadata": {
    "hidden": true
   },
   "outputs": [
    {
     "name": "stdout",
     "output_type": "stream",
     "text": [
      "1576\n"
     ]
    }
   ],
   "source": [
    "max_ = 0\n",
    "with open('features.fasta', 'r') as in_handle:\n",
    "    for index, record in enumerate(SeqIO.parse(in_handle, 'fasta')):\n",
    "        if len(record.seq) > max_:\n",
    "            max_ = len(record.seq)\n",
    "            \n",
    "print (max_)"
   ]
  },
  {
   "cell_type": "code",
   "execution_count": 22,
   "metadata": {
    "hidden": true
   },
   "outputs": [
    {
     "name": "stdout",
     "output_type": "stream",
     "text": [
      "4323 1576 47\n"
     ]
    }
   ],
   "source": [
    "sizes = [len(record.seq) for record in SeqIO.parse('card_ardb_pruned.fa', 'fasta')]\n",
    "print (len(sizes), max(sizes), min(sizes))"
   ]
  },
  {
   "cell_type": "code",
   "execution_count": 14,
   "metadata": {
    "hidden": true,
    "scrolled": true
   },
   "outputs": [
    {
     "name": "stdout",
     "output_type": "stream",
     "text": [
      "15\n",
      "defaultdict(<class 'int'>, {'multidrug': 0, 'beta_lactam': 1, 'aminoglycoside': 2, 'rifampin': 3, 'tetracycline': 4, 'quinolone': 5, 'macrolide-lincosamide-streptogramin': 6, 'fosfomycin': 7, 'polymyxin': 8, 'chloramphenicol': 9, 'bacitracin': 10, 'kasugamycin': 11, 'trimethoprim': 12, 'sulfonamide': 13, 'glycopeptide': 14})\n"
     ]
    }
   ],
   "source": [
    "# Making a dictionary for family_name: class_label\n",
    "ar_name_to_label = defaultdict(int)\n",
    "count = 0\n",
    "for index, record in enumerate(SeqIO.parse('whole_antibiotic_res_dataset_pruned.fa', 'fasta')):\n",
    "    ar_name = record.description.split('|')[3]\n",
    "    if ar_name not in ar_name_to_label:\n",
    "        ar_name_to_label[ar_name] = count\n",
    "        count = count + 1\n",
    "        \n",
    "print (len(ar_name_to_label))\n",
    "print (ar_name_to_label)"
   ]
  },
  {
   "cell_type": "code",
   "execution_count": 15,
   "metadata": {
    "hidden": true
   },
   "outputs": [
    {
     "name": "stdout",
     "output_type": "stream",
     "text": [
      "['A', 'R', 'N', 'D', 'C', 'E', 'Q', 'G', 'H', 'I', 'L', 'K', 'M', 'F', 'P', 'S', 'T', 'W', 'Y', 'V']\n"
     ]
    }
   ],
   "source": [
    "amino_acids = list(\"ARNDCEQGHILKMFPSTWYV\")\n",
    "print (amino_acids)"
   ]
  },
  {
   "cell_type": "code",
   "execution_count": 203,
   "metadata": {
    "hidden": true
   },
   "outputs": [
    {
     "name": "stdout",
     "output_type": "stream",
     "text": [
      "Processing text dataset\n",
      "14907\n",
      " M I N R Q L S R L L L C S I L G S T T L I S G C A L V R K D S A P H Q Q L K P E Q I K L A D D I H L A S S G W P Q A Q W W K Q L N D P Q L D A L I Q R T L S G S H T L A E A K L R E E K A Q S Q A D L L D A G S Q L Q V A A L G M L N R Q R V S A N G F L S P Y S M D A P A L G M D G P Y Y T E A T V G L F A G L D L D L W G V H R S A V A A A I G A H N A A L A E T A A V E L S L A T G V A Q L Y Y S M Q A S Y Q M L D L L E Q T H D V I D Y A V K A H Q S K V A H G L E A Q V P F H G A R A Q I L A V D K Q I V A V K G Q I T E T R E S L R A L I G A G A S D M P E I R P V A L P Q V Q T G I P A T L S Y E L L A R R P D L Q A M R W Y V Q A S L D Q V D S A R A L F Y P S F D I K A F F G L D S I H L H T L F K K T S R Q F N F I P G L K L P L F D G G R L N A N L E G T R A A S N M M I E R Y N Q S V L N A V R D V A V N G T R L Q T L N D E R E M Q A E R V E A T R F T Q R A A E A A Y Q R G L T S R L Q A T E A R L P V L A E E M S L L M L D S R R V I Q S I Q L M K S L G G G Y Q A G P V V E K K\n"
     ]
    }
   ],
   "source": [
    "# # Creating lists of separate trigrams for each sequence\n",
    "# print('Processing text dataset')\n",
    "\n",
    "# texts = []\n",
    "# for index, record in enumerate(SeqIO.parse('whole_antibiotic_res_dataset_pruned.fa', 'fasta')):\n",
    "#     #tri_tokens = trigrams(record.seq)\n",
    "#     temp_str = \"\"\n",
    "#     for item in (record.seq):\n",
    "#         if item in amino_acids:\n",
    "#             temp_str = temp_str + \" \" + item\n",
    "#     #print (temp_str)\n",
    "#     texts.append(temp_str)\n",
    "#     #break\n",
    "#     #break\n",
    "# print (len(texts))\n",
    "# print (texts[0])"
   ]
  },
  {
   "cell_type": "code",
   "execution_count": 204,
   "metadata": {
    "hidden": true
   },
   "outputs": [],
   "source": [
    "#np.save('ab_res_texts.npy', texts)\n",
    "#np.save('ab_res_whole_dataset_texts.npy', texts)"
   ]
  },
  {
   "cell_type": "code",
   "execution_count": 16,
   "metadata": {
    "hidden": true
   },
   "outputs": [],
   "source": [
    "texts = np.load('ab_res_whole_dataset_texts.npy')"
   ]
  },
  {
   "cell_type": "code",
   "execution_count": 17,
   "metadata": {
    "hidden": true
   },
   "outputs": [],
   "source": [
    "# defining the essential constant values\n",
    "MAX_SEQUENCE_LENGTH = 1600\n",
    "MAX_NB_CHARS = 20"
   ]
  },
  {
   "cell_type": "code",
   "execution_count": 18,
   "metadata": {
    "hidden": true
   },
   "outputs": [
    {
     "name": "stdout",
     "output_type": "stream",
     "text": [
      "Found 20 unique tokens.\n"
     ]
    }
   ],
   "source": [
    "# finally, vectorize the text samples into a 2D integer tensor\n",
    "tokenizer = Tokenizer(num_words=MAX_NB_CHARS) #MAX_NB_WORDS = 10334\n",
    "tokenizer.fit_on_texts(texts)\n",
    "sequences = tokenizer.texts_to_sequences(texts)\n",
    "\n",
    "char_index = tokenizer.word_index\n",
    "print('Found %s unique tokens.' % len(char_index))"
   ]
  },
  {
   "cell_type": "code",
   "execution_count": 13,
   "metadata": {
    "hidden": true
   },
   "outputs": [
    {
     "name": "stdout",
     "output_type": "stream",
     "text": [
      "14907\n",
      "<class 'dict'>\n",
      "{'l': 1, 'a': 2, 'g': 3, 'v': 4, 'i': 5, 's': 6, 't': 7, 'f': 8, 'r': 9, 'e': 10, 'k': 11, 'd': 12, 'p': 13, 'q': 14, 'n': 15, 'y': 16, 'm': 17, 'h': 18, 'w': 19, 'c': 20}\n"
     ]
    }
   ],
   "source": [
    "print (len(sequences))\n",
    "#print (sequences[0])\n",
    "print (type(char_index))\n",
    "print (char_index)"
   ]
  },
  {
   "cell_type": "code",
   "execution_count": 91,
   "metadata": {
    "hidden": true
   },
   "outputs": [
    {
     "name": "stdout",
     "output_type": "stream",
     "text": [
      "14907\n",
      "<class 'dict'>\n",
      "{'l': 1, 'a': 2, 'g': 3, 'v': 4, 'i': 5, 's': 6, 't': 7, 'f': 8, 'r': 9, 'e': 10, 'k': 11, 'd': 12, 'p': 13, 'q': 14, 'n': 15, 'y': 16, 'm': 17, 'h': 18, 'w': 19, 'c': 20}\n"
     ]
    }
   ],
   "source": [
    "# Original index that was trained on, don't run this cell\n",
    "print (len(sequences))\n",
    "#print (sequences[0])\n",
    "print (type(char_index))\n",
    "print (char_index)"
   ]
  },
  {
   "cell_type": "code",
   "execution_count": 16,
   "metadata": {
    "hidden": true
   },
   "outputs": [
    {
     "name": "stdout",
     "output_type": "stream",
     "text": [
      "done\n"
     ]
    }
   ],
   "source": [
    "# Creating labels for the protein sequences\n",
    "sequences_labels = np.empty([len(sequences), 1])\n",
    "for index, record in enumerate(SeqIO.parse('whole_antibiotic_res_dataset_pruned.fa', 'fasta')):\n",
    "    ar_id = record.description.split('|')[3]\n",
    "    #print (family_id)\n",
    "    sequences_labels[index] = ar_name_to_label[ar_id]\n",
    "    #break\n",
    "print ('done')"
   ]
  },
  {
   "cell_type": "code",
   "execution_count": 17,
   "metadata": {
    "hidden": true
   },
   "outputs": [
    {
     "name": "stdout",
     "output_type": "stream",
     "text": [
      "Shape of data tensor: (14907, 1600)\n",
      "Shape of label tensor: (14907, 1)\n"
     ]
    }
   ],
   "source": [
    "data = pad_sequences(sequences, maxlen=MAX_SEQUENCE_LENGTH) #MAX_SEQUENCE_LENGTH = 1602\n",
    "\n",
    "#labels = to_categorical(np.asarray(labels))\n",
    "print('Shape of data tensor:', data.shape)\n",
    "print('Shape of label tensor:', sequences_labels.shape)"
   ]
  },
  {
   "cell_type": "code",
   "execution_count": 94,
   "metadata": {
    "hidden": true
   },
   "outputs": [
    {
     "name": "stdout",
     "output_type": "stream",
     "text": [
      "[ 0  0  0 ... 10 11 11]\n",
      "[0.]\n"
     ]
    }
   ],
   "source": [
    "print (data[0])\n",
    "print (sequences_labels[0])"
   ]
  },
  {
   "cell_type": "code",
   "execution_count": 18,
   "metadata": {
    "hidden": true
   },
   "outputs": [
    {
     "name": "stdout",
     "output_type": "stream",
     "text": [
      "[ 0.91090742  0.19133616  1.14361335 38.22307692  3.73609023  7.58625954\n",
      "  0.89855335  3.40342466  1.10791527  2.11446809  0.2362815  29.22941176\n",
      " 12.1195122  49.69        4.45650224]\n"
     ]
    }
   ],
   "source": [
    "from sklearn.utils import class_weight\n",
    "c, r = sequences_labels.shape\n",
    "temp_word = sequences_labels.reshape(c,)\n",
    "class_weight = class_weight.compute_class_weight('balanced',  np.unique(sequences_labels), \n",
    "                                                 temp_word )\n",
    "print (class_weight)"
   ]
  },
  {
   "cell_type": "code",
   "execution_count": 19,
   "metadata": {
    "hidden": true
   },
   "outputs": [],
   "source": [
    "np.save('class_weights.npy', class_weight)"
   ]
  },
  {
   "cell_type": "code",
   "execution_count": 20,
   "metadata": {
    "hidden": true
   },
   "outputs": [
    {
     "data": {
      "text/plain": [
       "array([ 0.91090742,  0.19133616,  1.14361335, 38.22307692,  3.73609023,\n",
       "        7.58625954,  0.89855335,  3.40342466,  1.10791527,  2.11446809,\n",
       "        0.2362815 , 29.22941176, 12.1195122 , 49.69      ,  4.45650224])"
      ]
     },
     "execution_count": 20,
     "metadata": {},
     "output_type": "execute_result"
    }
   ],
   "source": [
    "class_weight = np.load('class_weights.npy')\n",
    "class_weight"
   ]
  },
  {
   "cell_type": "code",
   "execution_count": 96,
   "metadata": {
    "hidden": true
   },
   "outputs": [
    {
     "name": "stdout",
     "output_type": "stream",
     "text": [
      "[[1 0 0 0 0 0 0 0 0 0 0 0 0 0 0]\n",
      " [0 1 0 0 0 0 0 0 0 0 0 0 0 0 0]]\n"
     ]
    }
   ],
   "source": [
    "# label_binarizer = LabelBinarizer()\n",
    "# label_binarizer.fit(sequences_labels) \n",
    "# one_hot_label_seqs = label_binarizer.transform(sequences_labels)\n",
    "# print (one_hot_label_seqs[0:2])"
   ]
  },
  {
   "cell_type": "code",
   "execution_count": 97,
   "metadata": {
    "hidden": true
   },
   "outputs": [
    {
     "name": "stdout",
     "output_type": "stream",
     "text": [
      "14907\n",
      "14907\n"
     ]
    }
   ],
   "source": [
    "print (len(data))\n",
    "print (len(one_hot_label_seqs))"
   ]
  },
  {
   "cell_type": "code",
   "execution_count": 98,
   "metadata": {
    "hidden": true
   },
   "outputs": [],
   "source": [
    "sequences_labels = np.reshape(sequences_labels, (sequences_labels.shape[0], ))"
   ]
  },
  {
   "cell_type": "code",
   "execution_count": 99,
   "metadata": {
    "hidden": true
   },
   "outputs": [
    {
     "name": "stdout",
     "output_type": "stream",
     "text": [
      "<bound method NDFrame.head of        0     1     2     3     4     5     6     7     8     9     ...   1590  \\\n",
      "0         0     0     0     0     0     0     0     0     0     0  ...     16   \n",
      "1         0     0     0     0     0     0     0     0     0     0  ...     10   \n",
      "2         0     0     0     0     0     0     0     0     0     0  ...     11   \n",
      "3         0     0     0     0     0     0     0     0     0     0  ...      2   \n",
      "4         0     0     0     0     0     0     0     0     0     0  ...     16   \n",
      "5         0     0     0     0     0     0     0     0     0     0  ...      3   \n",
      "6         0     0     0     0     0     0     0     0     0     0  ...     10   \n",
      "7         0     0     0     0     0     0     0     0     0     0  ...      5   \n",
      "8         0     0     0     0     0     0     0     0     0     0  ...      9   \n",
      "9         0     0     0     0     0     0     0     0     0     0  ...      1   \n",
      "10        0     0     0     0     0     0     0     0     0     0  ...      2   \n",
      "11        0     0     0     0     0     0     0     0     0     0  ...     15   \n",
      "12        0     0     0     0     0     0     0     0     0     0  ...      2   \n",
      "13        0     0     0     0     0     0     0     0     0     0  ...      3   \n",
      "14        0     0     0     0     0     0     0     0     0     0  ...      5   \n",
      "15        0     0     0     0     0     0     0     0     0     0  ...     18   \n",
      "16        0     0     0     0     0     0     0     0     0     0  ...      8   \n",
      "17        0     0     0     0     0     0     0     0     0     0  ...      6   \n",
      "18        0     0     0     0     0     0     0     0     0     0  ...     16   \n",
      "19        0     0     0     0     0     0     0     0     0     0  ...      2   \n",
      "20        0     0     0     0     0     0     0     0     0     0  ...      9   \n",
      "21        0     0     0     0     0     0     0     0     0     0  ...      3   \n",
      "22        0     0     0     0     0     0     0     0     0     0  ...      7   \n",
      "23        0     0     0     0     0     0     0     0     0     0  ...      2   \n",
      "24        0     0     0     0     0     0     0     0     0     0  ...     10   \n",
      "25        0     0     0     0     0     0     0     0     0     0  ...     14   \n",
      "26        0     0     0     0     0     0     0     0     0     0  ...      3   \n",
      "27        0     0     0     0     0     0     0     0     0     0  ...      2   \n",
      "28        0     0     0     0     0     0     0     0     0     0  ...      3   \n",
      "29        0     0     0     0     0     0     0     0     0     0  ...     14   \n",
      "...     ...   ...   ...   ...   ...   ...   ...   ...   ...   ...  ...    ...   \n",
      "14877     0     0     0     0     0     0     0     0     0     0  ...      2   \n",
      "14878     0     0     0     0     0     0     0     0     0     0  ...      6   \n",
      "14879     0     0     0     0     0     0     0     0     0     0  ...      8   \n",
      "14880     0     0     0     0     0     0     0     0     0     0  ...      4   \n",
      "14881     0     0     0     0     0     0     0     0     0     0  ...     14   \n",
      "14882     0     0     0     0     0     0     0     0     0     0  ...     10   \n",
      "14883     0     0     0     0     0     0     0     0     0     0  ...      6   \n",
      "14884     0     0     0     0     0     0     0     0     0     0  ...     17   \n",
      "14885     0     0     0     0     0     0     0     0     0     0  ...      2   \n",
      "14886     0     0     0     0     0     0     0     0     0     0  ...      2   \n",
      "14887     0     0     0     0     0     0     0     0     0     0  ...      1   \n",
      "14888     0     0     0     0     0     0     0     0     0     0  ...      3   \n",
      "14889     0     0     0     0     0     0     0     0     0     0  ...      1   \n",
      "14890     0     0     0     0     0     0     0     0     0     0  ...     14   \n",
      "14891     0     0     0     0     0     0     0     0     0     0  ...      9   \n",
      "14892     0     0     0     0     0     0     0     0     0     0  ...      9   \n",
      "14893     0     0     0     0     0     0     0     0     0     0  ...      9   \n",
      "14894     0     0     0     0     0     0     0     0     0     0  ...      9   \n",
      "14895     0     0     0     0     0     0     0     0     0     0  ...      9   \n",
      "14896     0     0     0     0     0     0     0     0     0     0  ...      9   \n",
      "14897     0     0     0     0     0     0     0     0     0     0  ...      9   \n",
      "14898     0     0     0     0     0     0     0     0     0     0  ...      9   \n",
      "14899     0     0     0     0     0     0     0     0     0     0  ...      9   \n",
      "14900     0     0     0     0     0     0     0     0     0     0  ...      9   \n",
      "14901     0     0     0     0     0     0     0     0     0     0  ...      5   \n",
      "14902     0     0     0     0     0     0     0     0     0     0  ...      9   \n",
      "14903     0     0     0     0     0     0     0     0     0     0  ...     14   \n",
      "14904     0     0     0     0     0     0     0     0     0     0  ...      9   \n",
      "14905     0     0     0     0     0     0     0     0     0     0  ...      9   \n",
      "14906     0     0     0     0     0     0     0     0     0     0  ...      9   \n",
      "\n",
      "       1591  1592  1593  1594  1595  1596  1597  1598  1599  \n",
      "0        14     2     3    13     4     4    10    11    11  \n",
      "1        16    14    14    11    14    11     2     6    15  \n",
      "2         4     1     3     3     3     5     6    11     4  \n",
      "3         2     9     9     1     1    10     9    12     2  \n",
      "4        10    18     1    16     6     5    14    15     1  \n",
      "5         1    11     9    12     7    14     7     3    11  \n",
      "6         2     4    10     9     6    10    13     6     3  \n",
      "7        15     4     8     6    11    15     7    18     1  \n",
      "8         9     9     9     5    13    14     4     6    15  \n",
      "9         6     1     8     1    15     9    15    11    17  \n",
      "10        2    18    10    10     5    18    18    18     2  \n",
      "11        3    11     7    14     8    12     5    12    14  \n",
      "12        5     6     9     9    11     9     6     2    14  \n",
      "13        7    10     3    16     5    10     1     1     6  \n",
      "14       10    18     6    18     7     4    12    18    18  \n",
      "15       14     2     2    10     1     4    10    10    14  \n",
      "16        4    10    13     5    15     9    11    14    11  \n",
      "17       10     2    11    13     2     6    10     2    11  \n",
      "18        1    15     7    11     9     1     6    14     7  \n",
      "19        6     2     4     2    15     1    10    13    14  \n",
      "20        3     4     3    16    11     2     3    13    13  \n",
      "21        5     7     3     6    12    12     6    14    18  \n",
      "22        9    17     6    18    14     3    14    13     4  \n",
      "23        7    10    14     2    14     3     2     7    14  \n",
      "24        5     3     2     6     1     5    11    18    19  \n",
      "25        2     8    10     9     7     9     6    12     2  \n",
      "26       15    10     1     5    16     4     5    14    11  \n",
      "27        2    17     9     4     6     4    10    10     2  \n",
      "28        2     2     1     5    10    18    19    14     9  \n",
      "29        1     5     1    10    18    16    11    10     6  \n",
      "...     ...   ...   ...   ...   ...   ...   ...   ...   ...  \n",
      "14877     5     7     5     1    15     7     1    15     1  \n",
      "14878     2     2    11     5     4     7    12     3     1  \n",
      "14879     1     3     4     1    15     1     6     2     5  \n",
      "14880     2     2     2     4    16     4     4     8     8  \n",
      "14881     1     4     1    12    10    16    11    15     5  \n",
      "14882     1     2     2    10    18    10     2    19     1  \n",
      "14883    16     6     3     1     5     4    19     6    10  \n",
      "14884    11     6     1    11    14     1    15     5     5  \n",
      "14885     3     1     7     3     1     1     4    19     3  \n",
      "14886    16     4     4     1    15     2     5    11    11  \n",
      "14887     3    17     2     2     1     3    17     5     2  \n",
      "14888     2     2     1     5    10    18    19    14     9  \n",
      "14889    12    13     4    12     2     1     2     9    10  \n",
      "14890    11    11     5    11    10     9     4    10     3  \n",
      "14891    10     3    19     1     3     4    14    14    13  \n",
      "14892    10     3    19     1     3     4    14    14    13  \n",
      "14893    10     3    19     1     3     4    14    14    13  \n",
      "14894    10     3    19     1     3     4    14    14    13  \n",
      "14895    10     3    19     1     3     4    14    11    13  \n",
      "14896    10     3    19     1     3     4    14    11    13  \n",
      "14897    10     3    19     1     3     4    14    14    13  \n",
      "14898    10     3    19     1     3     4    14    11    13  \n",
      "14899    10     3    19     1     3     4    14    11    13  \n",
      "14900    10     3    19     1     3     4    14    11    13  \n",
      "14901     5     9     3     3     5    11    12    10    10  \n",
      "14902    10     3    19     1     3     4    14    11    13  \n",
      "14903    11    11     5    11    10     9     4    10     3  \n",
      "14904    10     3    19     1     3     4    14    14    13  \n",
      "14905    10     3    19     1     3     4    14    14    13  \n",
      "14906    10     3    19     1     3     4    14    14    13  \n",
      "\n",
      "[14907 rows x 1600 columns]>\n",
      "<bound method NDFrame.head of 0         0.0\n",
      "1         1.0\n",
      "2         0.0\n",
      "3         0.0\n",
      "4         0.0\n",
      "5         0.0\n",
      "6         2.0\n",
      "7         0.0\n",
      "8         0.0\n",
      "9         0.0\n",
      "10        0.0\n",
      "11        1.0\n",
      "12        0.0\n",
      "13        3.0\n",
      "14        0.0\n",
      "15        0.0\n",
      "16        4.0\n",
      "17        0.0\n",
      "18        0.0\n",
      "19        0.0\n",
      "20        0.0\n",
      "21        0.0\n",
      "22        0.0\n",
      "23        0.0\n",
      "24        1.0\n",
      "25        2.0\n",
      "26        2.0\n",
      "27        5.0\n",
      "28        1.0\n",
      "29        1.0\n",
      "         ... \n",
      "14877     1.0\n",
      "14878     1.0\n",
      "14879    10.0\n",
      "14880    10.0\n",
      "14881     1.0\n",
      "14882     9.0\n",
      "14883    10.0\n",
      "14884     1.0\n",
      "14885    10.0\n",
      "14886     1.0\n",
      "14887    10.0\n",
      "14888     1.0\n",
      "14889     6.0\n",
      "14890     2.0\n",
      "14891    14.0\n",
      "14892    14.0\n",
      "14893    14.0\n",
      "14894    14.0\n",
      "14895    14.0\n",
      "14896    14.0\n",
      "14897    14.0\n",
      "14898    14.0\n",
      "14899    14.0\n",
      "14900    14.0\n",
      "14901     2.0\n",
      "14902    14.0\n",
      "14903     2.0\n",
      "14904    14.0\n",
      "14905    14.0\n",
      "14906    14.0\n",
      "Length: 14907, dtype: float64>\n"
     ]
    }
   ],
   "source": [
    "X = pd.DataFrame(data)\n",
    "print (X.head)\n",
    "y = pd.Series(sequences_labels)\n",
    "print (y.head)"
   ]
  },
  {
   "cell_type": "code",
   "execution_count": 100,
   "metadata": {
    "hidden": true,
    "scrolled": true
   },
   "outputs": [
    {
     "name": "stdout",
     "output_type": "stream",
     "text": [
      "   0     1     2     3     4     5     6     7     8     9     ...   1590  \\\n",
      "0     0     0     0     0     0     0     0     0     0     0  ...     16   \n",
      "1     0     0     0     0     0     0     0     0     0     0  ...     10   \n",
      "\n",
      "   1591  1592  1593  1594  1595  1596  1597  1598  1599  \n",
      "0    14     2     3    13     4     4    10    11    11  \n",
      "1    16    14    14    11    14    11     2     6    15  \n",
      "\n",
      "[2 rows x 1600 columns]\n"
     ]
    }
   ],
   "source": [
    "print (X[:2])"
   ]
  },
  {
   "cell_type": "code",
   "execution_count": 101,
   "metadata": {
    "hidden": true
   },
   "outputs": [
    {
     "name": "stdout",
     "output_type": "stream",
     "text": [
      "[ 0  0  0 ... 10 11 11]\n"
     ]
    }
   ],
   "source": [
    "print (data[0])"
   ]
  },
  {
   "cell_type": "code",
   "execution_count": 102,
   "metadata": {
    "hidden": true,
    "scrolled": true
   },
   "outputs": [
    {
     "name": "stdout",
     "output_type": "stream",
     "text": [
      "(10732, 1600) (10732,) (2684, 1600) (2684,) (1491, 1600) (1491,)\n"
     ]
    }
   ],
   "source": [
    "# Shuffle the dataset in unision\n",
    "X, y = shuffle(X, y, random_state = 1)\n",
    "\n",
    "# Dividing the data set into train, val, and test set\n",
    "X_train, X_test, y_train, y_test = train_test_split(X, y, test_size=0.1, random_state=1, \n",
    "                                                    stratify = y)\n",
    "\n",
    "X_train, X_val, y_train, y_val = train_test_split(X_train, y_train, test_size=0.2, random_state=1,\n",
    "                                                 stratify = y_train)\n",
    "\n",
    "print (X_train.shape, y_train.shape, X_val.shape, y_val.shape, X_test.shape, y_test.shape)"
   ]
  },
  {
   "cell_type": "code",
   "execution_count": 158,
   "metadata": {
    "collapsed": true,
    "hidden": true
   },
   "outputs": [
    {
     "data": {
      "text/html": [
       "<div>\n",
       "<style scoped>\n",
       "    .dataframe tbody tr th:only-of-type {\n",
       "        vertical-align: middle;\n",
       "    }\n",
       "\n",
       "    .dataframe tbody tr th {\n",
       "        vertical-align: top;\n",
       "    }\n",
       "\n",
       "    .dataframe thead th {\n",
       "        text-align: right;\n",
       "    }\n",
       "</style>\n",
       "<table border=\"1\" class=\"dataframe\">\n",
       "  <thead>\n",
       "    <tr style=\"text-align: right;\">\n",
       "      <th></th>\n",
       "      <th>0</th>\n",
       "      <th>1</th>\n",
       "      <th>2</th>\n",
       "      <th>3</th>\n",
       "      <th>4</th>\n",
       "      <th>5</th>\n",
       "      <th>6</th>\n",
       "      <th>7</th>\n",
       "      <th>8</th>\n",
       "      <th>9</th>\n",
       "      <th>...</th>\n",
       "      <th>1592</th>\n",
       "      <th>1593</th>\n",
       "      <th>1594</th>\n",
       "      <th>1595</th>\n",
       "      <th>1596</th>\n",
       "      <th>1597</th>\n",
       "      <th>1598</th>\n",
       "      <th>1599</th>\n",
       "      <th>1600</th>\n",
       "      <th>1601</th>\n",
       "    </tr>\n",
       "  </thead>\n",
       "  <tbody>\n",
       "    <tr>\n",
       "      <th>18111</th>\n",
       "      <td>0</td>\n",
       "      <td>0</td>\n",
       "      <td>0</td>\n",
       "      <td>0</td>\n",
       "      <td>0</td>\n",
       "      <td>0</td>\n",
       "      <td>0</td>\n",
       "      <td>0</td>\n",
       "      <td>0</td>\n",
       "      <td>0</td>\n",
       "      <td>...</td>\n",
       "      <td>5</td>\n",
       "      <td>5</td>\n",
       "      <td>14</td>\n",
       "      <td>4</td>\n",
       "      <td>7</td>\n",
       "      <td>4</td>\n",
       "      <td>17</td>\n",
       "      <td>17</td>\n",
       "      <td>2</td>\n",
       "      <td>7</td>\n",
       "    </tr>\n",
       "    <tr>\n",
       "      <th>167069</th>\n",
       "      <td>0</td>\n",
       "      <td>0</td>\n",
       "      <td>0</td>\n",
       "      <td>0</td>\n",
       "      <td>0</td>\n",
       "      <td>0</td>\n",
       "      <td>0</td>\n",
       "      <td>0</td>\n",
       "      <td>0</td>\n",
       "      <td>0</td>\n",
       "      <td>...</td>\n",
       "      <td>3</td>\n",
       "      <td>15</td>\n",
       "      <td>6</td>\n",
       "      <td>12</td>\n",
       "      <td>3</td>\n",
       "      <td>4</td>\n",
       "      <td>7</td>\n",
       "      <td>7</td>\n",
       "      <td>2</td>\n",
       "      <td>9</td>\n",
       "    </tr>\n",
       "    <tr>\n",
       "      <th>81383</th>\n",
       "      <td>0</td>\n",
       "      <td>0</td>\n",
       "      <td>0</td>\n",
       "      <td>0</td>\n",
       "      <td>0</td>\n",
       "      <td>0</td>\n",
       "      <td>0</td>\n",
       "      <td>0</td>\n",
       "      <td>0</td>\n",
       "      <td>0</td>\n",
       "      <td>...</td>\n",
       "      <td>5</td>\n",
       "      <td>14</td>\n",
       "      <td>4</td>\n",
       "      <td>2</td>\n",
       "      <td>9</td>\n",
       "      <td>8</td>\n",
       "      <td>9</td>\n",
       "      <td>2</td>\n",
       "      <td>9</td>\n",
       "      <td>9</td>\n",
       "    </tr>\n",
       "    <tr>\n",
       "      <th>172051</th>\n",
       "      <td>0</td>\n",
       "      <td>0</td>\n",
       "      <td>0</td>\n",
       "      <td>0</td>\n",
       "      <td>0</td>\n",
       "      <td>0</td>\n",
       "      <td>0</td>\n",
       "      <td>0</td>\n",
       "      <td>0</td>\n",
       "      <td>0</td>\n",
       "      <td>...</td>\n",
       "      <td>8</td>\n",
       "      <td>1</td>\n",
       "      <td>2</td>\n",
       "      <td>2</td>\n",
       "      <td>2</td>\n",
       "      <td>4</td>\n",
       "      <td>7</td>\n",
       "      <td>2</td>\n",
       "      <td>1</td>\n",
       "      <td>2</td>\n",
       "    </tr>\n",
       "    <tr>\n",
       "      <th>53890</th>\n",
       "      <td>0</td>\n",
       "      <td>0</td>\n",
       "      <td>0</td>\n",
       "      <td>0</td>\n",
       "      <td>0</td>\n",
       "      <td>0</td>\n",
       "      <td>0</td>\n",
       "      <td>0</td>\n",
       "      <td>0</td>\n",
       "      <td>0</td>\n",
       "      <td>...</td>\n",
       "      <td>15</td>\n",
       "      <td>6</td>\n",
       "      <td>19</td>\n",
       "      <td>10</td>\n",
       "      <td>2</td>\n",
       "      <td>4</td>\n",
       "      <td>8</td>\n",
       "      <td>7</td>\n",
       "      <td>2</td>\n",
       "      <td>2</td>\n",
       "    </tr>\n",
       "    <tr>\n",
       "      <th>58423</th>\n",
       "      <td>0</td>\n",
       "      <td>0</td>\n",
       "      <td>0</td>\n",
       "      <td>0</td>\n",
       "      <td>0</td>\n",
       "      <td>0</td>\n",
       "      <td>0</td>\n",
       "      <td>0</td>\n",
       "      <td>0</td>\n",
       "      <td>0</td>\n",
       "      <td>...</td>\n",
       "      <td>9</td>\n",
       "      <td>9</td>\n",
       "      <td>7</td>\n",
       "      <td>12</td>\n",
       "      <td>12</td>\n",
       "      <td>2</td>\n",
       "      <td>11</td>\n",
       "      <td>6</td>\n",
       "      <td>5</td>\n",
       "      <td>5</td>\n",
       "    </tr>\n",
       "    <tr>\n",
       "      <th>213534</th>\n",
       "      <td>0</td>\n",
       "      <td>0</td>\n",
       "      <td>0</td>\n",
       "      <td>0</td>\n",
       "      <td>0</td>\n",
       "      <td>0</td>\n",
       "      <td>0</td>\n",
       "      <td>0</td>\n",
       "      <td>0</td>\n",
       "      <td>0</td>\n",
       "      <td>...</td>\n",
       "      <td>5</td>\n",
       "      <td>15</td>\n",
       "      <td>18</td>\n",
       "      <td>7</td>\n",
       "      <td>6</td>\n",
       "      <td>13</td>\n",
       "      <td>8</td>\n",
       "      <td>15</td>\n",
       "      <td>15</td>\n",
       "      <td>3</td>\n",
       "    </tr>\n",
       "    <tr>\n",
       "      <th>13535</th>\n",
       "      <td>0</td>\n",
       "      <td>0</td>\n",
       "      <td>0</td>\n",
       "      <td>0</td>\n",
       "      <td>0</td>\n",
       "      <td>0</td>\n",
       "      <td>0</td>\n",
       "      <td>0</td>\n",
       "      <td>0</td>\n",
       "      <td>0</td>\n",
       "      <td>...</td>\n",
       "      <td>10</td>\n",
       "      <td>16</td>\n",
       "      <td>6</td>\n",
       "      <td>7</td>\n",
       "      <td>5</td>\n",
       "      <td>4</td>\n",
       "      <td>3</td>\n",
       "      <td>5</td>\n",
       "      <td>2</td>\n",
       "      <td>8</td>\n",
       "    </tr>\n",
       "    <tr>\n",
       "      <th>119263</th>\n",
       "      <td>0</td>\n",
       "      <td>0</td>\n",
       "      <td>0</td>\n",
       "      <td>0</td>\n",
       "      <td>0</td>\n",
       "      <td>0</td>\n",
       "      <td>0</td>\n",
       "      <td>0</td>\n",
       "      <td>0</td>\n",
       "      <td>0</td>\n",
       "      <td>...</td>\n",
       "      <td>10</td>\n",
       "      <td>10</td>\n",
       "      <td>2</td>\n",
       "      <td>10</td>\n",
       "      <td>5</td>\n",
       "      <td>11</td>\n",
       "      <td>5</td>\n",
       "      <td>3</td>\n",
       "      <td>7</td>\n",
       "      <td>10</td>\n",
       "    </tr>\n",
       "    <tr>\n",
       "      <th>209259</th>\n",
       "      <td>0</td>\n",
       "      <td>0</td>\n",
       "      <td>0</td>\n",
       "      <td>0</td>\n",
       "      <td>0</td>\n",
       "      <td>0</td>\n",
       "      <td>0</td>\n",
       "      <td>0</td>\n",
       "      <td>0</td>\n",
       "      <td>0</td>\n",
       "      <td>...</td>\n",
       "      <td>4</td>\n",
       "      <td>2</td>\n",
       "      <td>2</td>\n",
       "      <td>2</td>\n",
       "      <td>4</td>\n",
       "      <td>16</td>\n",
       "      <td>4</td>\n",
       "      <td>4</td>\n",
       "      <td>14</td>\n",
       "      <td>14</td>\n",
       "    </tr>\n",
       "    <tr>\n",
       "      <th>97580</th>\n",
       "      <td>0</td>\n",
       "      <td>0</td>\n",
       "      <td>0</td>\n",
       "      <td>0</td>\n",
       "      <td>0</td>\n",
       "      <td>0</td>\n",
       "      <td>0</td>\n",
       "      <td>0</td>\n",
       "      <td>0</td>\n",
       "      <td>0</td>\n",
       "      <td>...</td>\n",
       "      <td>4</td>\n",
       "      <td>1</td>\n",
       "      <td>18</td>\n",
       "      <td>14</td>\n",
       "      <td>2</td>\n",
       "      <td>3</td>\n",
       "      <td>6</td>\n",
       "      <td>2</td>\n",
       "      <td>12</td>\n",
       "      <td>7</td>\n",
       "    </tr>\n",
       "    <tr>\n",
       "      <th>3563</th>\n",
       "      <td>0</td>\n",
       "      <td>0</td>\n",
       "      <td>0</td>\n",
       "      <td>0</td>\n",
       "      <td>0</td>\n",
       "      <td>0</td>\n",
       "      <td>0</td>\n",
       "      <td>0</td>\n",
       "      <td>0</td>\n",
       "      <td>0</td>\n",
       "      <td>...</td>\n",
       "      <td>8</td>\n",
       "      <td>16</td>\n",
       "      <td>5</td>\n",
       "      <td>4</td>\n",
       "      <td>4</td>\n",
       "      <td>9</td>\n",
       "      <td>5</td>\n",
       "      <td>15</td>\n",
       "      <td>5</td>\n",
       "      <td>4</td>\n",
       "    </tr>\n",
       "    <tr>\n",
       "      <th>136054</th>\n",
       "      <td>0</td>\n",
       "      <td>0</td>\n",
       "      <td>0</td>\n",
       "      <td>0</td>\n",
       "      <td>0</td>\n",
       "      <td>0</td>\n",
       "      <td>0</td>\n",
       "      <td>0</td>\n",
       "      <td>0</td>\n",
       "      <td>0</td>\n",
       "      <td>...</td>\n",
       "      <td>1</td>\n",
       "      <td>4</td>\n",
       "      <td>5</td>\n",
       "      <td>7</td>\n",
       "      <td>2</td>\n",
       "      <td>7</td>\n",
       "      <td>2</td>\n",
       "      <td>2</td>\n",
       "      <td>1</td>\n",
       "      <td>4</td>\n",
       "    </tr>\n",
       "    <tr>\n",
       "      <th>123660</th>\n",
       "      <td>0</td>\n",
       "      <td>0</td>\n",
       "      <td>0</td>\n",
       "      <td>0</td>\n",
       "      <td>0</td>\n",
       "      <td>0</td>\n",
       "      <td>0</td>\n",
       "      <td>0</td>\n",
       "      <td>0</td>\n",
       "      <td>0</td>\n",
       "      <td>...</td>\n",
       "      <td>8</td>\n",
       "      <td>8</td>\n",
       "      <td>11</td>\n",
       "      <td>11</td>\n",
       "      <td>9</td>\n",
       "      <td>16</td>\n",
       "      <td>8</td>\n",
       "      <td>8</td>\n",
       "      <td>7</td>\n",
       "      <td>9</td>\n",
       "    </tr>\n",
       "    <tr>\n",
       "      <th>33331</th>\n",
       "      <td>0</td>\n",
       "      <td>0</td>\n",
       "      <td>0</td>\n",
       "      <td>0</td>\n",
       "      <td>0</td>\n",
       "      <td>0</td>\n",
       "      <td>0</td>\n",
       "      <td>0</td>\n",
       "      <td>0</td>\n",
       "      <td>0</td>\n",
       "      <td>...</td>\n",
       "      <td>6</td>\n",
       "      <td>15</td>\n",
       "      <td>17</td>\n",
       "      <td>8</td>\n",
       "      <td>12</td>\n",
       "      <td>11</td>\n",
       "      <td>5</td>\n",
       "      <td>15</td>\n",
       "      <td>4</td>\n",
       "      <td>11</td>\n",
       "    </tr>\n",
       "    <tr>\n",
       "      <th>154083</th>\n",
       "      <td>0</td>\n",
       "      <td>0</td>\n",
       "      <td>0</td>\n",
       "      <td>0</td>\n",
       "      <td>0</td>\n",
       "      <td>0</td>\n",
       "      <td>0</td>\n",
       "      <td>0</td>\n",
       "      <td>0</td>\n",
       "      <td>0</td>\n",
       "      <td>...</td>\n",
       "      <td>4</td>\n",
       "      <td>13</td>\n",
       "      <td>11</td>\n",
       "      <td>13</td>\n",
       "      <td>18</td>\n",
       "      <td>12</td>\n",
       "      <td>16</td>\n",
       "      <td>18</td>\n",
       "      <td>8</td>\n",
       "      <td>5</td>\n",
       "    </tr>\n",
       "    <tr>\n",
       "      <th>15204</th>\n",
       "      <td>0</td>\n",
       "      <td>0</td>\n",
       "      <td>0</td>\n",
       "      <td>0</td>\n",
       "      <td>0</td>\n",
       "      <td>0</td>\n",
       "      <td>0</td>\n",
       "      <td>0</td>\n",
       "      <td>0</td>\n",
       "      <td>0</td>\n",
       "      <td>...</td>\n",
       "      <td>16</td>\n",
       "      <td>6</td>\n",
       "      <td>3</td>\n",
       "      <td>5</td>\n",
       "      <td>9</td>\n",
       "      <td>6</td>\n",
       "      <td>5</td>\n",
       "      <td>10</td>\n",
       "      <td>18</td>\n",
       "      <td>18</td>\n",
       "    </tr>\n",
       "    <tr>\n",
       "      <th>205492</th>\n",
       "      <td>0</td>\n",
       "      <td>0</td>\n",
       "      <td>0</td>\n",
       "      <td>0</td>\n",
       "      <td>0</td>\n",
       "      <td>0</td>\n",
       "      <td>0</td>\n",
       "      <td>0</td>\n",
       "      <td>0</td>\n",
       "      <td>0</td>\n",
       "      <td>...</td>\n",
       "      <td>13</td>\n",
       "      <td>11</td>\n",
       "      <td>4</td>\n",
       "      <td>2</td>\n",
       "      <td>9</td>\n",
       "      <td>9</td>\n",
       "      <td>1</td>\n",
       "      <td>13</td>\n",
       "      <td>6</td>\n",
       "      <td>10</td>\n",
       "    </tr>\n",
       "    <tr>\n",
       "      <th>31613</th>\n",
       "      <td>0</td>\n",
       "      <td>0</td>\n",
       "      <td>0</td>\n",
       "      <td>0</td>\n",
       "      <td>0</td>\n",
       "      <td>0</td>\n",
       "      <td>0</td>\n",
       "      <td>0</td>\n",
       "      <td>0</td>\n",
       "      <td>0</td>\n",
       "      <td>...</td>\n",
       "      <td>13</td>\n",
       "      <td>8</td>\n",
       "      <td>7</td>\n",
       "      <td>7</td>\n",
       "      <td>8</td>\n",
       "      <td>6</td>\n",
       "      <td>13</td>\n",
       "      <td>14</td>\n",
       "      <td>7</td>\n",
       "      <td>10</td>\n",
       "    </tr>\n",
       "    <tr>\n",
       "      <th>63188</th>\n",
       "      <td>0</td>\n",
       "      <td>0</td>\n",
       "      <td>0</td>\n",
       "      <td>0</td>\n",
       "      <td>0</td>\n",
       "      <td>0</td>\n",
       "      <td>0</td>\n",
       "      <td>0</td>\n",
       "      <td>0</td>\n",
       "      <td>0</td>\n",
       "      <td>...</td>\n",
       "      <td>2</td>\n",
       "      <td>7</td>\n",
       "      <td>2</td>\n",
       "      <td>3</td>\n",
       "      <td>2</td>\n",
       "      <td>12</td>\n",
       "      <td>4</td>\n",
       "      <td>8</td>\n",
       "      <td>11</td>\n",
       "      <td>4</td>\n",
       "    </tr>\n",
       "    <tr>\n",
       "      <th>44449</th>\n",
       "      <td>0</td>\n",
       "      <td>0</td>\n",
       "      <td>0</td>\n",
       "      <td>0</td>\n",
       "      <td>0</td>\n",
       "      <td>0</td>\n",
       "      <td>0</td>\n",
       "      <td>0</td>\n",
       "      <td>0</td>\n",
       "      <td>0</td>\n",
       "      <td>...</td>\n",
       "      <td>10</td>\n",
       "      <td>4</td>\n",
       "      <td>11</td>\n",
       "      <td>2</td>\n",
       "      <td>14</td>\n",
       "      <td>12</td>\n",
       "      <td>14</td>\n",
       "      <td>12</td>\n",
       "      <td>8</td>\n",
       "      <td>9</td>\n",
       "    </tr>\n",
       "    <tr>\n",
       "      <th>104782</th>\n",
       "      <td>0</td>\n",
       "      <td>0</td>\n",
       "      <td>0</td>\n",
       "      <td>0</td>\n",
       "      <td>0</td>\n",
       "      <td>0</td>\n",
       "      <td>0</td>\n",
       "      <td>0</td>\n",
       "      <td>0</td>\n",
       "      <td>0</td>\n",
       "      <td>...</td>\n",
       "      <td>7</td>\n",
       "      <td>5</td>\n",
       "      <td>18</td>\n",
       "      <td>12</td>\n",
       "      <td>2</td>\n",
       "      <td>4</td>\n",
       "      <td>2</td>\n",
       "      <td>2</td>\n",
       "      <td>4</td>\n",
       "      <td>9</td>\n",
       "    </tr>\n",
       "    <tr>\n",
       "      <th>105284</th>\n",
       "      <td>0</td>\n",
       "      <td>0</td>\n",
       "      <td>0</td>\n",
       "      <td>0</td>\n",
       "      <td>0</td>\n",
       "      <td>0</td>\n",
       "      <td>0</td>\n",
       "      <td>0</td>\n",
       "      <td>0</td>\n",
       "      <td>0</td>\n",
       "      <td>...</td>\n",
       "      <td>14</td>\n",
       "      <td>7</td>\n",
       "      <td>8</td>\n",
       "      <td>7</td>\n",
       "      <td>8</td>\n",
       "      <td>5</td>\n",
       "      <td>7</td>\n",
       "      <td>10</td>\n",
       "      <td>12</td>\n",
       "      <td>5</td>\n",
       "    </tr>\n",
       "    <tr>\n",
       "      <th>2404</th>\n",
       "      <td>0</td>\n",
       "      <td>0</td>\n",
       "      <td>0</td>\n",
       "      <td>0</td>\n",
       "      <td>0</td>\n",
       "      <td>0</td>\n",
       "      <td>0</td>\n",
       "      <td>0</td>\n",
       "      <td>0</td>\n",
       "      <td>0</td>\n",
       "      <td>...</td>\n",
       "      <td>2</td>\n",
       "      <td>4</td>\n",
       "      <td>7</td>\n",
       "      <td>14</td>\n",
       "      <td>6</td>\n",
       "      <td>13</td>\n",
       "      <td>9</td>\n",
       "      <td>1</td>\n",
       "      <td>5</td>\n",
       "      <td>7</td>\n",
       "    </tr>\n",
       "    <tr>\n",
       "      <th>207146</th>\n",
       "      <td>0</td>\n",
       "      <td>0</td>\n",
       "      <td>0</td>\n",
       "      <td>0</td>\n",
       "      <td>0</td>\n",
       "      <td>0</td>\n",
       "      <td>0</td>\n",
       "      <td>0</td>\n",
       "      <td>0</td>\n",
       "      <td>0</td>\n",
       "      <td>...</td>\n",
       "      <td>1</td>\n",
       "      <td>4</td>\n",
       "      <td>5</td>\n",
       "      <td>1</td>\n",
       "      <td>10</td>\n",
       "      <td>2</td>\n",
       "      <td>12</td>\n",
       "      <td>3</td>\n",
       "      <td>19</td>\n",
       "      <td>12</td>\n",
       "    </tr>\n",
       "    <tr>\n",
       "      <th>140315</th>\n",
       "      <td>0</td>\n",
       "      <td>0</td>\n",
       "      <td>0</td>\n",
       "      <td>0</td>\n",
       "      <td>0</td>\n",
       "      <td>0</td>\n",
       "      <td>0</td>\n",
       "      <td>0</td>\n",
       "      <td>0</td>\n",
       "      <td>0</td>\n",
       "      <td>...</td>\n",
       "      <td>6</td>\n",
       "      <td>7</td>\n",
       "      <td>8</td>\n",
       "      <td>7</td>\n",
       "      <td>5</td>\n",
       "      <td>5</td>\n",
       "      <td>5</td>\n",
       "      <td>5</td>\n",
       "      <td>5</td>\n",
       "      <td>5</td>\n",
       "    </tr>\n",
       "    <tr>\n",
       "      <th>116869</th>\n",
       "      <td>0</td>\n",
       "      <td>0</td>\n",
       "      <td>0</td>\n",
       "      <td>0</td>\n",
       "      <td>0</td>\n",
       "      <td>0</td>\n",
       "      <td>0</td>\n",
       "      <td>0</td>\n",
       "      <td>0</td>\n",
       "      <td>0</td>\n",
       "      <td>...</td>\n",
       "      <td>7</td>\n",
       "      <td>2</td>\n",
       "      <td>2</td>\n",
       "      <td>15</td>\n",
       "      <td>5</td>\n",
       "      <td>13</td>\n",
       "      <td>8</td>\n",
       "      <td>4</td>\n",
       "      <td>7</td>\n",
       "      <td>7</td>\n",
       "    </tr>\n",
       "    <tr>\n",
       "      <th>122330</th>\n",
       "      <td>0</td>\n",
       "      <td>0</td>\n",
       "      <td>0</td>\n",
       "      <td>0</td>\n",
       "      <td>0</td>\n",
       "      <td>0</td>\n",
       "      <td>0</td>\n",
       "      <td>0</td>\n",
       "      <td>0</td>\n",
       "      <td>0</td>\n",
       "      <td>...</td>\n",
       "      <td>1</td>\n",
       "      <td>2</td>\n",
       "      <td>17</td>\n",
       "      <td>1</td>\n",
       "      <td>2</td>\n",
       "      <td>15</td>\n",
       "      <td>5</td>\n",
       "      <td>13</td>\n",
       "      <td>3</td>\n",
       "      <td>3</td>\n",
       "    </tr>\n",
       "    <tr>\n",
       "      <th>156636</th>\n",
       "      <td>0</td>\n",
       "      <td>0</td>\n",
       "      <td>0</td>\n",
       "      <td>0</td>\n",
       "      <td>0</td>\n",
       "      <td>0</td>\n",
       "      <td>0</td>\n",
       "      <td>0</td>\n",
       "      <td>0</td>\n",
       "      <td>0</td>\n",
       "      <td>...</td>\n",
       "      <td>4</td>\n",
       "      <td>8</td>\n",
       "      <td>8</td>\n",
       "      <td>19</td>\n",
       "      <td>1</td>\n",
       "      <td>9</td>\n",
       "      <td>8</td>\n",
       "      <td>1</td>\n",
       "      <td>9</td>\n",
       "      <td>8</td>\n",
       "    </tr>\n",
       "    <tr>\n",
       "      <th>54907</th>\n",
       "      <td>0</td>\n",
       "      <td>0</td>\n",
       "      <td>0</td>\n",
       "      <td>0</td>\n",
       "      <td>0</td>\n",
       "      <td>0</td>\n",
       "      <td>0</td>\n",
       "      <td>0</td>\n",
       "      <td>0</td>\n",
       "      <td>0</td>\n",
       "      <td>...</td>\n",
       "      <td>1</td>\n",
       "      <td>11</td>\n",
       "      <td>12</td>\n",
       "      <td>2</td>\n",
       "      <td>2</td>\n",
       "      <td>12</td>\n",
       "      <td>1</td>\n",
       "      <td>1</td>\n",
       "      <td>14</td>\n",
       "      <td>12</td>\n",
       "    </tr>\n",
       "    <tr>\n",
       "      <th>...</th>\n",
       "      <td>...</td>\n",
       "      <td>...</td>\n",
       "      <td>...</td>\n",
       "      <td>...</td>\n",
       "      <td>...</td>\n",
       "      <td>...</td>\n",
       "      <td>...</td>\n",
       "      <td>...</td>\n",
       "      <td>...</td>\n",
       "      <td>...</td>\n",
       "      <td>...</td>\n",
       "      <td>...</td>\n",
       "      <td>...</td>\n",
       "      <td>...</td>\n",
       "      <td>...</td>\n",
       "      <td>...</td>\n",
       "      <td>...</td>\n",
       "      <td>...</td>\n",
       "      <td>...</td>\n",
       "      <td>...</td>\n",
       "      <td>...</td>\n",
       "    </tr>\n",
       "    <tr>\n",
       "      <th>131772</th>\n",
       "      <td>0</td>\n",
       "      <td>0</td>\n",
       "      <td>0</td>\n",
       "      <td>0</td>\n",
       "      <td>0</td>\n",
       "      <td>0</td>\n",
       "      <td>0</td>\n",
       "      <td>0</td>\n",
       "      <td>0</td>\n",
       "      <td>0</td>\n",
       "      <td>...</td>\n",
       "      <td>7</td>\n",
       "      <td>2</td>\n",
       "      <td>2</td>\n",
       "      <td>3</td>\n",
       "      <td>3</td>\n",
       "      <td>5</td>\n",
       "      <td>4</td>\n",
       "      <td>6</td>\n",
       "      <td>1</td>\n",
       "      <td>2</td>\n",
       "    </tr>\n",
       "    <tr>\n",
       "      <th>205776</th>\n",
       "      <td>0</td>\n",
       "      <td>0</td>\n",
       "      <td>0</td>\n",
       "      <td>0</td>\n",
       "      <td>0</td>\n",
       "      <td>0</td>\n",
       "      <td>0</td>\n",
       "      <td>0</td>\n",
       "      <td>0</td>\n",
       "      <td>0</td>\n",
       "      <td>...</td>\n",
       "      <td>16</td>\n",
       "      <td>5</td>\n",
       "      <td>7</td>\n",
       "      <td>6</td>\n",
       "      <td>6</td>\n",
       "      <td>2</td>\n",
       "      <td>1</td>\n",
       "      <td>9</td>\n",
       "      <td>7</td>\n",
       "      <td>14</td>\n",
       "    </tr>\n",
       "    <tr>\n",
       "      <th>81278</th>\n",
       "      <td>0</td>\n",
       "      <td>0</td>\n",
       "      <td>0</td>\n",
       "      <td>0</td>\n",
       "      <td>0</td>\n",
       "      <td>0</td>\n",
       "      <td>0</td>\n",
       "      <td>0</td>\n",
       "      <td>0</td>\n",
       "      <td>0</td>\n",
       "      <td>...</td>\n",
       "      <td>2</td>\n",
       "      <td>11</td>\n",
       "      <td>9</td>\n",
       "      <td>8</td>\n",
       "      <td>8</td>\n",
       "      <td>8</td>\n",
       "      <td>3</td>\n",
       "      <td>4</td>\n",
       "      <td>4</td>\n",
       "      <td>4</td>\n",
       "    </tr>\n",
       "    <tr>\n",
       "      <th>75135</th>\n",
       "      <td>0</td>\n",
       "      <td>0</td>\n",
       "      <td>0</td>\n",
       "      <td>0</td>\n",
       "      <td>0</td>\n",
       "      <td>0</td>\n",
       "      <td>0</td>\n",
       "      <td>0</td>\n",
       "      <td>0</td>\n",
       "      <td>0</td>\n",
       "      <td>...</td>\n",
       "      <td>16</td>\n",
       "      <td>16</td>\n",
       "      <td>19</td>\n",
       "      <td>17</td>\n",
       "      <td>15</td>\n",
       "      <td>2</td>\n",
       "      <td>11</td>\n",
       "      <td>15</td>\n",
       "      <td>14</td>\n",
       "      <td>12</td>\n",
       "    </tr>\n",
       "    <tr>\n",
       "      <th>123544</th>\n",
       "      <td>0</td>\n",
       "      <td>0</td>\n",
       "      <td>0</td>\n",
       "      <td>0</td>\n",
       "      <td>0</td>\n",
       "      <td>0</td>\n",
       "      <td>0</td>\n",
       "      <td>0</td>\n",
       "      <td>0</td>\n",
       "      <td>0</td>\n",
       "      <td>...</td>\n",
       "      <td>8</td>\n",
       "      <td>5</td>\n",
       "      <td>18</td>\n",
       "      <td>2</td>\n",
       "      <td>16</td>\n",
       "      <td>2</td>\n",
       "      <td>11</td>\n",
       "      <td>2</td>\n",
       "      <td>4</td>\n",
       "      <td>10</td>\n",
       "    </tr>\n",
       "    <tr>\n",
       "      <th>14390</th>\n",
       "      <td>0</td>\n",
       "      <td>0</td>\n",
       "      <td>0</td>\n",
       "      <td>0</td>\n",
       "      <td>0</td>\n",
       "      <td>0</td>\n",
       "      <td>0</td>\n",
       "      <td>0</td>\n",
       "      <td>0</td>\n",
       "      <td>0</td>\n",
       "      <td>...</td>\n",
       "      <td>5</td>\n",
       "      <td>6</td>\n",
       "      <td>4</td>\n",
       "      <td>3</td>\n",
       "      <td>3</td>\n",
       "      <td>2</td>\n",
       "      <td>5</td>\n",
       "      <td>2</td>\n",
       "      <td>1</td>\n",
       "      <td>7</td>\n",
       "    </tr>\n",
       "    <tr>\n",
       "      <th>99275</th>\n",
       "      <td>0</td>\n",
       "      <td>0</td>\n",
       "      <td>0</td>\n",
       "      <td>0</td>\n",
       "      <td>0</td>\n",
       "      <td>0</td>\n",
       "      <td>0</td>\n",
       "      <td>0</td>\n",
       "      <td>0</td>\n",
       "      <td>0</td>\n",
       "      <td>...</td>\n",
       "      <td>10</td>\n",
       "      <td>12</td>\n",
       "      <td>8</td>\n",
       "      <td>14</td>\n",
       "      <td>2</td>\n",
       "      <td>12</td>\n",
       "      <td>8</td>\n",
       "      <td>10</td>\n",
       "      <td>9</td>\n",
       "      <td>5</td>\n",
       "    </tr>\n",
       "    <tr>\n",
       "      <th>212680</th>\n",
       "      <td>0</td>\n",
       "      <td>0</td>\n",
       "      <td>0</td>\n",
       "      <td>0</td>\n",
       "      <td>0</td>\n",
       "      <td>0</td>\n",
       "      <td>0</td>\n",
       "      <td>0</td>\n",
       "      <td>0</td>\n",
       "      <td>0</td>\n",
       "      <td>...</td>\n",
       "      <td>4</td>\n",
       "      <td>8</td>\n",
       "      <td>8</td>\n",
       "      <td>16</td>\n",
       "      <td>16</td>\n",
       "      <td>13</td>\n",
       "      <td>8</td>\n",
       "      <td>5</td>\n",
       "      <td>11</td>\n",
       "      <td>1</td>\n",
       "    </tr>\n",
       "    <tr>\n",
       "      <th>188898</th>\n",
       "      <td>0</td>\n",
       "      <td>0</td>\n",
       "      <td>0</td>\n",
       "      <td>0</td>\n",
       "      <td>0</td>\n",
       "      <td>0</td>\n",
       "      <td>0</td>\n",
       "      <td>0</td>\n",
       "      <td>0</td>\n",
       "      <td>0</td>\n",
       "      <td>...</td>\n",
       "      <td>4</td>\n",
       "      <td>1</td>\n",
       "      <td>13</td>\n",
       "      <td>11</td>\n",
       "      <td>9</td>\n",
       "      <td>11</td>\n",
       "      <td>5</td>\n",
       "      <td>15</td>\n",
       "      <td>5</td>\n",
       "      <td>12</td>\n",
       "    </tr>\n",
       "    <tr>\n",
       "      <th>94431</th>\n",
       "      <td>0</td>\n",
       "      <td>0</td>\n",
       "      <td>0</td>\n",
       "      <td>0</td>\n",
       "      <td>0</td>\n",
       "      <td>0</td>\n",
       "      <td>0</td>\n",
       "      <td>0</td>\n",
       "      <td>0</td>\n",
       "      <td>0</td>\n",
       "      <td>...</td>\n",
       "      <td>1</td>\n",
       "      <td>16</td>\n",
       "      <td>19</td>\n",
       "      <td>1</td>\n",
       "      <td>3</td>\n",
       "      <td>9</td>\n",
       "      <td>18</td>\n",
       "      <td>12</td>\n",
       "      <td>9</td>\n",
       "      <td>14</td>\n",
       "    </tr>\n",
       "    <tr>\n",
       "      <th>44251</th>\n",
       "      <td>0</td>\n",
       "      <td>0</td>\n",
       "      <td>0</td>\n",
       "      <td>0</td>\n",
       "      <td>0</td>\n",
       "      <td>0</td>\n",
       "      <td>0</td>\n",
       "      <td>0</td>\n",
       "      <td>0</td>\n",
       "      <td>0</td>\n",
       "      <td>...</td>\n",
       "      <td>3</td>\n",
       "      <td>8</td>\n",
       "      <td>4</td>\n",
       "      <td>3</td>\n",
       "      <td>1</td>\n",
       "      <td>3</td>\n",
       "      <td>12</td>\n",
       "      <td>8</td>\n",
       "      <td>2</td>\n",
       "      <td>8</td>\n",
       "    </tr>\n",
       "    <tr>\n",
       "      <th>157013</th>\n",
       "      <td>0</td>\n",
       "      <td>0</td>\n",
       "      <td>0</td>\n",
       "      <td>0</td>\n",
       "      <td>0</td>\n",
       "      <td>0</td>\n",
       "      <td>0</td>\n",
       "      <td>0</td>\n",
       "      <td>0</td>\n",
       "      <td>0</td>\n",
       "      <td>...</td>\n",
       "      <td>8</td>\n",
       "      <td>8</td>\n",
       "      <td>18</td>\n",
       "      <td>19</td>\n",
       "      <td>8</td>\n",
       "      <td>15</td>\n",
       "      <td>2</td>\n",
       "      <td>12</td>\n",
       "      <td>2</td>\n",
       "      <td>9</td>\n",
       "    </tr>\n",
       "    <tr>\n",
       "      <th>191020</th>\n",
       "      <td>0</td>\n",
       "      <td>0</td>\n",
       "      <td>0</td>\n",
       "      <td>0</td>\n",
       "      <td>0</td>\n",
       "      <td>0</td>\n",
       "      <td>0</td>\n",
       "      <td>0</td>\n",
       "      <td>0</td>\n",
       "      <td>0</td>\n",
       "      <td>...</td>\n",
       "      <td>8</td>\n",
       "      <td>5</td>\n",
       "      <td>1</td>\n",
       "      <td>8</td>\n",
       "      <td>6</td>\n",
       "      <td>8</td>\n",
       "      <td>6</td>\n",
       "      <td>5</td>\n",
       "      <td>5</td>\n",
       "      <td>3</td>\n",
       "    </tr>\n",
       "    <tr>\n",
       "      <th>89897</th>\n",
       "      <td>0</td>\n",
       "      <td>0</td>\n",
       "      <td>0</td>\n",
       "      <td>0</td>\n",
       "      <td>0</td>\n",
       "      <td>0</td>\n",
       "      <td>0</td>\n",
       "      <td>0</td>\n",
       "      <td>0</td>\n",
       "      <td>0</td>\n",
       "      <td>...</td>\n",
       "      <td>2</td>\n",
       "      <td>12</td>\n",
       "      <td>2</td>\n",
       "      <td>1</td>\n",
       "      <td>3</td>\n",
       "      <td>5</td>\n",
       "      <td>8</td>\n",
       "      <td>10</td>\n",
       "      <td>2</td>\n",
       "      <td>12</td>\n",
       "    </tr>\n",
       "    <tr>\n",
       "      <th>36531</th>\n",
       "      <td>0</td>\n",
       "      <td>0</td>\n",
       "      <td>0</td>\n",
       "      <td>0</td>\n",
       "      <td>0</td>\n",
       "      <td>0</td>\n",
       "      <td>0</td>\n",
       "      <td>0</td>\n",
       "      <td>0</td>\n",
       "      <td>0</td>\n",
       "      <td>...</td>\n",
       "      <td>13</td>\n",
       "      <td>3</td>\n",
       "      <td>12</td>\n",
       "      <td>15</td>\n",
       "      <td>3</td>\n",
       "      <td>6</td>\n",
       "      <td>11</td>\n",
       "      <td>11</td>\n",
       "      <td>6</td>\n",
       "      <td>3</td>\n",
       "    </tr>\n",
       "    <tr>\n",
       "      <th>146242</th>\n",
       "      <td>0</td>\n",
       "      <td>0</td>\n",
       "      <td>0</td>\n",
       "      <td>0</td>\n",
       "      <td>0</td>\n",
       "      <td>0</td>\n",
       "      <td>0</td>\n",
       "      <td>0</td>\n",
       "      <td>0</td>\n",
       "      <td>0</td>\n",
       "      <td>...</td>\n",
       "      <td>18</td>\n",
       "      <td>4</td>\n",
       "      <td>6</td>\n",
       "      <td>16</td>\n",
       "      <td>7</td>\n",
       "      <td>5</td>\n",
       "      <td>2</td>\n",
       "      <td>7</td>\n",
       "      <td>6</td>\n",
       "      <td>7</td>\n",
       "    </tr>\n",
       "    <tr>\n",
       "      <th>190020</th>\n",
       "      <td>0</td>\n",
       "      <td>0</td>\n",
       "      <td>0</td>\n",
       "      <td>0</td>\n",
       "      <td>0</td>\n",
       "      <td>0</td>\n",
       "      <td>0</td>\n",
       "      <td>0</td>\n",
       "      <td>0</td>\n",
       "      <td>0</td>\n",
       "      <td>...</td>\n",
       "      <td>11</td>\n",
       "      <td>12</td>\n",
       "      <td>5</td>\n",
       "      <td>3</td>\n",
       "      <td>9</td>\n",
       "      <td>14</td>\n",
       "      <td>5</td>\n",
       "      <td>4</td>\n",
       "      <td>11</td>\n",
       "      <td>7</td>\n",
       "    </tr>\n",
       "    <tr>\n",
       "      <th>100331</th>\n",
       "      <td>0</td>\n",
       "      <td>0</td>\n",
       "      <td>0</td>\n",
       "      <td>0</td>\n",
       "      <td>0</td>\n",
       "      <td>0</td>\n",
       "      <td>0</td>\n",
       "      <td>0</td>\n",
       "      <td>0</td>\n",
       "      <td>0</td>\n",
       "      <td>...</td>\n",
       "      <td>2</td>\n",
       "      <td>1</td>\n",
       "      <td>7</td>\n",
       "      <td>7</td>\n",
       "      <td>6</td>\n",
       "      <td>6</td>\n",
       "      <td>6</td>\n",
       "      <td>13</td>\n",
       "      <td>7</td>\n",
       "      <td>13</td>\n",
       "    </tr>\n",
       "    <tr>\n",
       "      <th>57471</th>\n",
       "      <td>0</td>\n",
       "      <td>0</td>\n",
       "      <td>0</td>\n",
       "      <td>0</td>\n",
       "      <td>0</td>\n",
       "      <td>0</td>\n",
       "      <td>0</td>\n",
       "      <td>0</td>\n",
       "      <td>0</td>\n",
       "      <td>0</td>\n",
       "      <td>...</td>\n",
       "      <td>7</td>\n",
       "      <td>2</td>\n",
       "      <td>15</td>\n",
       "      <td>9</td>\n",
       "      <td>3</td>\n",
       "      <td>5</td>\n",
       "      <td>11</td>\n",
       "      <td>7</td>\n",
       "      <td>9</td>\n",
       "      <td>2</td>\n",
       "    </tr>\n",
       "    <tr>\n",
       "      <th>174252</th>\n",
       "      <td>0</td>\n",
       "      <td>0</td>\n",
       "      <td>0</td>\n",
       "      <td>0</td>\n",
       "      <td>0</td>\n",
       "      <td>0</td>\n",
       "      <td>0</td>\n",
       "      <td>0</td>\n",
       "      <td>0</td>\n",
       "      <td>0</td>\n",
       "      <td>...</td>\n",
       "      <td>5</td>\n",
       "      <td>9</td>\n",
       "      <td>5</td>\n",
       "      <td>4</td>\n",
       "      <td>4</td>\n",
       "      <td>5</td>\n",
       "      <td>5</td>\n",
       "      <td>5</td>\n",
       "      <td>5</td>\n",
       "      <td>7</td>\n",
       "    </tr>\n",
       "    <tr>\n",
       "      <th>52051</th>\n",
       "      <td>0</td>\n",
       "      <td>0</td>\n",
       "      <td>0</td>\n",
       "      <td>0</td>\n",
       "      <td>0</td>\n",
       "      <td>0</td>\n",
       "      <td>0</td>\n",
       "      <td>0</td>\n",
       "      <td>0</td>\n",
       "      <td>0</td>\n",
       "      <td>...</td>\n",
       "      <td>3</td>\n",
       "      <td>19</td>\n",
       "      <td>14</td>\n",
       "      <td>7</td>\n",
       "      <td>4</td>\n",
       "      <td>12</td>\n",
       "      <td>7</td>\n",
       "      <td>6</td>\n",
       "      <td>6</td>\n",
       "      <td>5</td>\n",
       "    </tr>\n",
       "    <tr>\n",
       "      <th>17210</th>\n",
       "      <td>0</td>\n",
       "      <td>0</td>\n",
       "      <td>0</td>\n",
       "      <td>0</td>\n",
       "      <td>0</td>\n",
       "      <td>0</td>\n",
       "      <td>0</td>\n",
       "      <td>0</td>\n",
       "      <td>0</td>\n",
       "      <td>0</td>\n",
       "      <td>...</td>\n",
       "      <td>12</td>\n",
       "      <td>4</td>\n",
       "      <td>10</td>\n",
       "      <td>14</td>\n",
       "      <td>9</td>\n",
       "      <td>10</td>\n",
       "      <td>1</td>\n",
       "      <td>12</td>\n",
       "      <td>12</td>\n",
       "      <td>1</td>\n",
       "    </tr>\n",
       "    <tr>\n",
       "      <th>45604</th>\n",
       "      <td>0</td>\n",
       "      <td>0</td>\n",
       "      <td>0</td>\n",
       "      <td>0</td>\n",
       "      <td>0</td>\n",
       "      <td>0</td>\n",
       "      <td>0</td>\n",
       "      <td>0</td>\n",
       "      <td>0</td>\n",
       "      <td>0</td>\n",
       "      <td>...</td>\n",
       "      <td>2</td>\n",
       "      <td>5</td>\n",
       "      <td>1</td>\n",
       "      <td>7</td>\n",
       "      <td>2</td>\n",
       "      <td>17</td>\n",
       "      <td>6</td>\n",
       "      <td>4</td>\n",
       "      <td>10</td>\n",
       "      <td>7</td>\n",
       "    </tr>\n",
       "    <tr>\n",
       "      <th>142652</th>\n",
       "      <td>0</td>\n",
       "      <td>0</td>\n",
       "      <td>0</td>\n",
       "      <td>0</td>\n",
       "      <td>0</td>\n",
       "      <td>0</td>\n",
       "      <td>0</td>\n",
       "      <td>0</td>\n",
       "      <td>0</td>\n",
       "      <td>0</td>\n",
       "      <td>...</td>\n",
       "      <td>8</td>\n",
       "      <td>4</td>\n",
       "      <td>7</td>\n",
       "      <td>18</td>\n",
       "      <td>1</td>\n",
       "      <td>1</td>\n",
       "      <td>3</td>\n",
       "      <td>9</td>\n",
       "      <td>11</td>\n",
       "      <td>7</td>\n",
       "    </tr>\n",
       "    <tr>\n",
       "      <th>88690</th>\n",
       "      <td>0</td>\n",
       "      <td>0</td>\n",
       "      <td>0</td>\n",
       "      <td>0</td>\n",
       "      <td>0</td>\n",
       "      <td>0</td>\n",
       "      <td>0</td>\n",
       "      <td>0</td>\n",
       "      <td>0</td>\n",
       "      <td>0</td>\n",
       "      <td>...</td>\n",
       "      <td>13</td>\n",
       "      <td>7</td>\n",
       "      <td>15</td>\n",
       "      <td>19</td>\n",
       "      <td>1</td>\n",
       "      <td>1</td>\n",
       "      <td>11</td>\n",
       "      <td>2</td>\n",
       "      <td>7</td>\n",
       "      <td>9</td>\n",
       "    </tr>\n",
       "    <tr>\n",
       "      <th>208695</th>\n",
       "      <td>0</td>\n",
       "      <td>0</td>\n",
       "      <td>0</td>\n",
       "      <td>0</td>\n",
       "      <td>0</td>\n",
       "      <td>0</td>\n",
       "      <td>0</td>\n",
       "      <td>0</td>\n",
       "      <td>0</td>\n",
       "      <td>0</td>\n",
       "      <td>...</td>\n",
       "      <td>14</td>\n",
       "      <td>1</td>\n",
       "      <td>3</td>\n",
       "      <td>1</td>\n",
       "      <td>2</td>\n",
       "      <td>17</td>\n",
       "      <td>9</td>\n",
       "      <td>16</td>\n",
       "      <td>18</td>\n",
       "      <td>14</td>\n",
       "    </tr>\n",
       "    <tr>\n",
       "      <th>103747</th>\n",
       "      <td>0</td>\n",
       "      <td>0</td>\n",
       "      <td>0</td>\n",
       "      <td>0</td>\n",
       "      <td>0</td>\n",
       "      <td>0</td>\n",
       "      <td>0</td>\n",
       "      <td>0</td>\n",
       "      <td>0</td>\n",
       "      <td>0</td>\n",
       "      <td>...</td>\n",
       "      <td>1</td>\n",
       "      <td>12</td>\n",
       "      <td>3</td>\n",
       "      <td>6</td>\n",
       "      <td>7</td>\n",
       "      <td>2</td>\n",
       "      <td>6</td>\n",
       "      <td>13</td>\n",
       "      <td>13</td>\n",
       "      <td>7</td>\n",
       "    </tr>\n",
       "    <tr>\n",
       "      <th>177417</th>\n",
       "      <td>0</td>\n",
       "      <td>0</td>\n",
       "      <td>0</td>\n",
       "      <td>0</td>\n",
       "      <td>0</td>\n",
       "      <td>0</td>\n",
       "      <td>0</td>\n",
       "      <td>0</td>\n",
       "      <td>0</td>\n",
       "      <td>0</td>\n",
       "      <td>...</td>\n",
       "      <td>5</td>\n",
       "      <td>2</td>\n",
       "      <td>13</td>\n",
       "      <td>8</td>\n",
       "      <td>2</td>\n",
       "      <td>14</td>\n",
       "      <td>9</td>\n",
       "      <td>18</td>\n",
       "      <td>16</td>\n",
       "      <td>8</td>\n",
       "    </tr>\n",
       "    <tr>\n",
       "      <th>161493</th>\n",
       "      <td>0</td>\n",
       "      <td>0</td>\n",
       "      <td>0</td>\n",
       "      <td>0</td>\n",
       "      <td>0</td>\n",
       "      <td>0</td>\n",
       "      <td>0</td>\n",
       "      <td>0</td>\n",
       "      <td>0</td>\n",
       "      <td>0</td>\n",
       "      <td>...</td>\n",
       "      <td>19</td>\n",
       "      <td>1</td>\n",
       "      <td>1</td>\n",
       "      <td>12</td>\n",
       "      <td>3</td>\n",
       "      <td>2</td>\n",
       "      <td>11</td>\n",
       "      <td>8</td>\n",
       "      <td>9</td>\n",
       "      <td>9</td>\n",
       "    </tr>\n",
       "    <tr>\n",
       "      <th>132400</th>\n",
       "      <td>0</td>\n",
       "      <td>0</td>\n",
       "      <td>0</td>\n",
       "      <td>0</td>\n",
       "      <td>0</td>\n",
       "      <td>0</td>\n",
       "      <td>0</td>\n",
       "      <td>0</td>\n",
       "      <td>0</td>\n",
       "      <td>0</td>\n",
       "      <td>...</td>\n",
       "      <td>10</td>\n",
       "      <td>1</td>\n",
       "      <td>5</td>\n",
       "      <td>3</td>\n",
       "      <td>3</td>\n",
       "      <td>2</td>\n",
       "      <td>3</td>\n",
       "      <td>9</td>\n",
       "      <td>5</td>\n",
       "      <td>13</td>\n",
       "    </tr>\n",
       "  </tbody>\n",
       "</table>\n",
       "<p>140176 rows × 1602 columns</p>\n",
       "</div>"
      ],
      "text/plain": [
       "        0     1     2     3     4     5     6     7     8     9     ...   \\\n",
       "18111      0     0     0     0     0     0     0     0     0     0  ...    \n",
       "167069     0     0     0     0     0     0     0     0     0     0  ...    \n",
       "81383      0     0     0     0     0     0     0     0     0     0  ...    \n",
       "172051     0     0     0     0     0     0     0     0     0     0  ...    \n",
       "53890      0     0     0     0     0     0     0     0     0     0  ...    \n",
       "58423      0     0     0     0     0     0     0     0     0     0  ...    \n",
       "213534     0     0     0     0     0     0     0     0     0     0  ...    \n",
       "13535      0     0     0     0     0     0     0     0     0     0  ...    \n",
       "119263     0     0     0     0     0     0     0     0     0     0  ...    \n",
       "209259     0     0     0     0     0     0     0     0     0     0  ...    \n",
       "97580      0     0     0     0     0     0     0     0     0     0  ...    \n",
       "3563       0     0     0     0     0     0     0     0     0     0  ...    \n",
       "136054     0     0     0     0     0     0     0     0     0     0  ...    \n",
       "123660     0     0     0     0     0     0     0     0     0     0  ...    \n",
       "33331      0     0     0     0     0     0     0     0     0     0  ...    \n",
       "154083     0     0     0     0     0     0     0     0     0     0  ...    \n",
       "15204      0     0     0     0     0     0     0     0     0     0  ...    \n",
       "205492     0     0     0     0     0     0     0     0     0     0  ...    \n",
       "31613      0     0     0     0     0     0     0     0     0     0  ...    \n",
       "63188      0     0     0     0     0     0     0     0     0     0  ...    \n",
       "44449      0     0     0     0     0     0     0     0     0     0  ...    \n",
       "104782     0     0     0     0     0     0     0     0     0     0  ...    \n",
       "105284     0     0     0     0     0     0     0     0     0     0  ...    \n",
       "2404       0     0     0     0     0     0     0     0     0     0  ...    \n",
       "207146     0     0     0     0     0     0     0     0     0     0  ...    \n",
       "140315     0     0     0     0     0     0     0     0     0     0  ...    \n",
       "116869     0     0     0     0     0     0     0     0     0     0  ...    \n",
       "122330     0     0     0     0     0     0     0     0     0     0  ...    \n",
       "156636     0     0     0     0     0     0     0     0     0     0  ...    \n",
       "54907      0     0     0     0     0     0     0     0     0     0  ...    \n",
       "...      ...   ...   ...   ...   ...   ...   ...   ...   ...   ...  ...    \n",
       "131772     0     0     0     0     0     0     0     0     0     0  ...    \n",
       "205776     0     0     0     0     0     0     0     0     0     0  ...    \n",
       "81278      0     0     0     0     0     0     0     0     0     0  ...    \n",
       "75135      0     0     0     0     0     0     0     0     0     0  ...    \n",
       "123544     0     0     0     0     0     0     0     0     0     0  ...    \n",
       "14390      0     0     0     0     0     0     0     0     0     0  ...    \n",
       "99275      0     0     0     0     0     0     0     0     0     0  ...    \n",
       "212680     0     0     0     0     0     0     0     0     0     0  ...    \n",
       "188898     0     0     0     0     0     0     0     0     0     0  ...    \n",
       "94431      0     0     0     0     0     0     0     0     0     0  ...    \n",
       "44251      0     0     0     0     0     0     0     0     0     0  ...    \n",
       "157013     0     0     0     0     0     0     0     0     0     0  ...    \n",
       "191020     0     0     0     0     0     0     0     0     0     0  ...    \n",
       "89897      0     0     0     0     0     0     0     0     0     0  ...    \n",
       "36531      0     0     0     0     0     0     0     0     0     0  ...    \n",
       "146242     0     0     0     0     0     0     0     0     0     0  ...    \n",
       "190020     0     0     0     0     0     0     0     0     0     0  ...    \n",
       "100331     0     0     0     0     0     0     0     0     0     0  ...    \n",
       "57471      0     0     0     0     0     0     0     0     0     0  ...    \n",
       "174252     0     0     0     0     0     0     0     0     0     0  ...    \n",
       "52051      0     0     0     0     0     0     0     0     0     0  ...    \n",
       "17210      0     0     0     0     0     0     0     0     0     0  ...    \n",
       "45604      0     0     0     0     0     0     0     0     0     0  ...    \n",
       "142652     0     0     0     0     0     0     0     0     0     0  ...    \n",
       "88690      0     0     0     0     0     0     0     0     0     0  ...    \n",
       "208695     0     0     0     0     0     0     0     0     0     0  ...    \n",
       "103747     0     0     0     0     0     0     0     0     0     0  ...    \n",
       "177417     0     0     0     0     0     0     0     0     0     0  ...    \n",
       "161493     0     0     0     0     0     0     0     0     0     0  ...    \n",
       "132400     0     0     0     0     0     0     0     0     0     0  ...    \n",
       "\n",
       "        1592  1593  1594  1595  1596  1597  1598  1599  1600  1601  \n",
       "18111      5     5    14     4     7     4    17    17     2     7  \n",
       "167069     3    15     6    12     3     4     7     7     2     9  \n",
       "81383      5    14     4     2     9     8     9     2     9     9  \n",
       "172051     8     1     2     2     2     4     7     2     1     2  \n",
       "53890     15     6    19    10     2     4     8     7     2     2  \n",
       "58423      9     9     7    12    12     2    11     6     5     5  \n",
       "213534     5    15    18     7     6    13     8    15    15     3  \n",
       "13535     10    16     6     7     5     4     3     5     2     8  \n",
       "119263    10    10     2    10     5    11     5     3     7    10  \n",
       "209259     4     2     2     2     4    16     4     4    14    14  \n",
       "97580      4     1    18    14     2     3     6     2    12     7  \n",
       "3563       8    16     5     4     4     9     5    15     5     4  \n",
       "136054     1     4     5     7     2     7     2     2     1     4  \n",
       "123660     8     8    11    11     9    16     8     8     7     9  \n",
       "33331      6    15    17     8    12    11     5    15     4    11  \n",
       "154083     4    13    11    13    18    12    16    18     8     5  \n",
       "15204     16     6     3     5     9     6     5    10    18    18  \n",
       "205492    13    11     4     2     9     9     1    13     6    10  \n",
       "31613     13     8     7     7     8     6    13    14     7    10  \n",
       "63188      2     7     2     3     2    12     4     8    11     4  \n",
       "44449     10     4    11     2    14    12    14    12     8     9  \n",
       "104782     7     5    18    12     2     4     2     2     4     9  \n",
       "105284    14     7     8     7     8     5     7    10    12     5  \n",
       "2404       2     4     7    14     6    13     9     1     5     7  \n",
       "207146     1     4     5     1    10     2    12     3    19    12  \n",
       "140315     6     7     8     7     5     5     5     5     5     5  \n",
       "116869     7     2     2    15     5    13     8     4     7     7  \n",
       "122330     1     2    17     1     2    15     5    13     3     3  \n",
       "156636     4     8     8    19     1     9     8     1     9     8  \n",
       "54907      1    11    12     2     2    12     1     1    14    12  \n",
       "...      ...   ...   ...   ...   ...   ...   ...   ...   ...   ...  \n",
       "131772     7     2     2     3     3     5     4     6     1     2  \n",
       "205776    16     5     7     6     6     2     1     9     7    14  \n",
       "81278      2    11     9     8     8     8     3     4     4     4  \n",
       "75135     16    16    19    17    15     2    11    15    14    12  \n",
       "123544     8     5    18     2    16     2    11     2     4    10  \n",
       "14390      5     6     4     3     3     2     5     2     1     7  \n",
       "99275     10    12     8    14     2    12     8    10     9     5  \n",
       "212680     4     8     8    16    16    13     8     5    11     1  \n",
       "188898     4     1    13    11     9    11     5    15     5    12  \n",
       "94431      1    16    19     1     3     9    18    12     9    14  \n",
       "44251      3     8     4     3     1     3    12     8     2     8  \n",
       "157013     8     8    18    19     8    15     2    12     2     9  \n",
       "191020     8     5     1     8     6     8     6     5     5     3  \n",
       "89897      2    12     2     1     3     5     8    10     2    12  \n",
       "36531     13     3    12    15     3     6    11    11     6     3  \n",
       "146242    18     4     6    16     7     5     2     7     6     7  \n",
       "190020    11    12     5     3     9    14     5     4    11     7  \n",
       "100331     2     1     7     7     6     6     6    13     7    13  \n",
       "57471      7     2    15     9     3     5    11     7     9     2  \n",
       "174252     5     9     5     4     4     5     5     5     5     7  \n",
       "52051      3    19    14     7     4    12     7     6     6     5  \n",
       "17210     12     4    10    14     9    10     1    12    12     1  \n",
       "45604      2     5     1     7     2    17     6     4    10     7  \n",
       "142652     8     4     7    18     1     1     3     9    11     7  \n",
       "88690     13     7    15    19     1     1    11     2     7     9  \n",
       "208695    14     1     3     1     2    17     9    16    18    14  \n",
       "103747     1    12     3     6     7     2     6    13    13     7  \n",
       "177417     5     2    13     8     2    14     9    18    16     8  \n",
       "161493    19     1     1    12     3     2    11     8     9     9  \n",
       "132400    10     1     5     3     3     2     3     9     5    13  \n",
       "\n",
       "[140176 rows x 1602 columns]"
      ]
     },
     "execution_count": 158,
     "metadata": {},
     "output_type": "execute_result"
    }
   ],
   "source": [
    "X_train"
   ]
  },
  {
   "cell_type": "code",
   "execution_count": 103,
   "metadata": {
    "hidden": true
   },
   "outputs": [],
   "source": [
    "# X_train.to_pickle('X_train_ar_whole.pkl')\n",
    "# y_train.to_pickle('y_train_ar_whole.pkl')\n",
    "# X_val.to_pickle('X_val_ar_whole.pkl')\n",
    "# y_val.to_pickle('y_val_ar_whole.pkl')\n",
    "# X_test.to_pickle('X_test_ar_whole.pkl')\n",
    "# y_test.to_pickle('y_test_ar_whole.pkl')"
   ]
  },
  {
   "cell_type": "code",
   "execution_count": 88,
   "metadata": {
    "hidden": true
   },
   "outputs": [],
   "source": [
    "# X_train.to_pickle('X_train_ar.pkl')\n",
    "# y_train.to_pickle('y_train_ar.pkl')\n",
    "# X_val.to_pickle('X_val_ar.pkl')\n",
    "# y_val.to_pickle('y_val_ar.pkl')\n",
    "# X_test.to_pickle('X_test_ar.pkl')\n",
    "# y_test.to_pickle('y_test_ar.pkl')"
   ]
  },
  {
   "cell_type": "code",
   "execution_count": 104,
   "metadata": {
    "hidden": true
   },
   "outputs": [
    {
     "name": "stdout",
     "output_type": "stream",
     "text": [
      "{'A': array([1, 0, 0, 0, 0, 0, 0, 0, 0, 0, 0, 0, 0, 0, 0, 0, 0, 0, 0, 0]), 'R': array([0, 1, 0, 0, 0, 0, 0, 0, 0, 0, 0, 0, 0, 0, 0, 0, 0, 0, 0, 0]), 'N': array([0, 0, 1, 0, 0, 0, 0, 0, 0, 0, 0, 0, 0, 0, 0, 0, 0, 0, 0, 0]), 'D': array([0, 0, 0, 1, 0, 0, 0, 0, 0, 0, 0, 0, 0, 0, 0, 0, 0, 0, 0, 0]), 'C': array([0, 0, 0, 0, 1, 0, 0, 0, 0, 0, 0, 0, 0, 0, 0, 0, 0, 0, 0, 0]), 'E': array([0, 0, 0, 0, 0, 1, 0, 0, 0, 0, 0, 0, 0, 0, 0, 0, 0, 0, 0, 0]), 'Q': array([0, 0, 0, 0, 0, 0, 1, 0, 0, 0, 0, 0, 0, 0, 0, 0, 0, 0, 0, 0]), 'G': array([0, 0, 0, 0, 0, 0, 0, 1, 0, 0, 0, 0, 0, 0, 0, 0, 0, 0, 0, 0]), 'H': array([0, 0, 0, 0, 0, 0, 0, 0, 1, 0, 0, 0, 0, 0, 0, 0, 0, 0, 0, 0]), 'I': array([0, 0, 0, 0, 0, 0, 0, 0, 0, 1, 0, 0, 0, 0, 0, 0, 0, 0, 0, 0]), 'L': array([0, 0, 0, 0, 0, 0, 0, 0, 0, 0, 1, 0, 0, 0, 0, 0, 0, 0, 0, 0]), 'K': array([0, 0, 0, 0, 0, 0, 0, 0, 0, 0, 0, 1, 0, 0, 0, 0, 0, 0, 0, 0]), 'M': array([0, 0, 0, 0, 0, 0, 0, 0, 0, 0, 0, 0, 1, 0, 0, 0, 0, 0, 0, 0]), 'F': array([0, 0, 0, 0, 0, 0, 0, 0, 0, 0, 0, 0, 0, 1, 0, 0, 0, 0, 0, 0]), 'P': array([0, 0, 0, 0, 0, 0, 0, 0, 0, 0, 0, 0, 0, 0, 1, 0, 0, 0, 0, 0]), 'S': array([0, 0, 0, 0, 0, 0, 0, 0, 0, 0, 0, 0, 0, 0, 0, 1, 0, 0, 0, 0]), 'T': array([0, 0, 0, 0, 0, 0, 0, 0, 0, 0, 0, 0, 0, 0, 0, 0, 1, 0, 0, 0]), 'W': array([0, 0, 0, 0, 0, 0, 0, 0, 0, 0, 0, 0, 0, 0, 0, 0, 0, 1, 0, 0]), 'Y': array([0, 0, 0, 0, 0, 0, 0, 0, 0, 0, 0, 0, 0, 0, 0, 0, 0, 0, 1, 0]), 'V': array([0, 0, 0, 0, 0, 0, 0, 0, 0, 0, 0, 0, 0, 0, 0, 0, 0, 0, 0, 1])}\n"
     ]
    }
   ],
   "source": [
    "# amino_acid_idx = range(20)\n",
    "# label_binarizer = LabelBinarizer()\n",
    "# label_binarizer.fit(amino_acid_idx) \n",
    "# one_hot_amino_acid_idx = label_binarizer.transform(amino_acid_idx)\n",
    "# #print ((one_hot_amino_acid_idx))\n",
    "\n",
    "# amino_acid_dict = {}\n",
    "# for index, i in enumerate(one_hot_amino_acid_idx):\n",
    "#     #print (i)\n",
    "#     amino_acid_dict[amino_acids[index]] = i\n",
    "#     #break\n",
    "# print (amino_acid_dict)"
   ]
  },
  {
   "cell_type": "code",
   "execution_count": 105,
   "metadata": {
    "hidden": true
   },
   "outputs": [
    {
     "name": "stdout",
     "output_type": "stream",
     "text": [
      "20\n",
      "(21, 20)\n",
      "[[0. 0. 0. 0. 0. 0. 0. 0. 0. 0. 0. 0. 0. 0. 0. 0. 0. 0. 0. 0.]\n",
      " [0. 0. 0. 0. 0. 0. 0. 0. 0. 0. 1. 0. 0. 0. 0. 0. 0. 0. 0. 0.]\n",
      " [1. 0. 0. 0. 0. 0. 0. 0. 0. 0. 0. 0. 0. 0. 0. 0. 0. 0. 0. 0.]\n",
      " [0. 0. 0. 0. 0. 0. 0. 1. 0. 0. 0. 0. 0. 0. 0. 0. 0. 0. 0. 0.]\n",
      " [0. 0. 0. 0. 0. 0. 0. 0. 0. 0. 0. 0. 0. 0. 0. 0. 0. 0. 0. 1.]\n",
      " [0. 0. 0. 0. 0. 0. 0. 0. 0. 1. 0. 0. 0. 0. 0. 0. 0. 0. 0. 0.]\n",
      " [0. 0. 0. 0. 0. 0. 0. 0. 0. 0. 0. 0. 0. 0. 0. 1. 0. 0. 0. 0.]\n",
      " [0. 0. 0. 0. 0. 0. 0. 0. 0. 0. 0. 0. 0. 0. 0. 0. 1. 0. 0. 0.]\n",
      " [0. 0. 0. 0. 0. 0. 0. 0. 0. 0. 0. 0. 0. 1. 0. 0. 0. 0. 0. 0.]\n",
      " [0. 1. 0. 0. 0. 0. 0. 0. 0. 0. 0. 0. 0. 0. 0. 0. 0. 0. 0. 0.]\n",
      " [0. 0. 0. 0. 0. 1. 0. 0. 0. 0. 0. 0. 0. 0. 0. 0. 0. 0. 0. 0.]\n",
      " [0. 0. 0. 0. 0. 0. 0. 0. 0. 0. 0. 1. 0. 0. 0. 0. 0. 0. 0. 0.]\n",
      " [0. 0. 0. 1. 0. 0. 0. 0. 0. 0. 0. 0. 0. 0. 0. 0. 0. 0. 0. 0.]\n",
      " [0. 0. 0. 0. 0. 0. 0. 0. 0. 0. 0. 0. 0. 0. 1. 0. 0. 0. 0. 0.]\n",
      " [0. 0. 0. 0. 0. 0. 1. 0. 0. 0. 0. 0. 0. 0. 0. 0. 0. 0. 0. 0.]\n",
      " [0. 0. 1. 0. 0. 0. 0. 0. 0. 0. 0. 0. 0. 0. 0. 0. 0. 0. 0. 0.]\n",
      " [0. 0. 0. 0. 0. 0. 0. 0. 0. 0. 0. 0. 0. 0. 0. 0. 0. 0. 1. 0.]\n",
      " [0. 0. 0. 0. 0. 0. 0. 0. 0. 0. 0. 0. 1. 0. 0. 0. 0. 0. 0. 0.]\n",
      " [0. 0. 0. 0. 0. 0. 0. 0. 1. 0. 0. 0. 0. 0. 0. 0. 0. 0. 0. 0.]\n",
      " [0. 0. 0. 0. 0. 0. 0. 0. 0. 0. 0. 0. 0. 0. 0. 0. 0. 1. 0. 0.]\n",
      " [0. 0. 0. 0. 1. 0. 0. 0. 0. 0. 0. 0. 0. 0. 0. 0. 0. 0. 0. 0.]]\n"
     ]
    }
   ],
   "source": [
    "# # prepare embedding matrix\n",
    "# num_chars = MAX_NB_CHARS \n",
    "# print (num_chars)\n",
    "# embedding_matrix = np.zeros((num_chars + 1, EMBEDDING_DIM))\n",
    "# print (embedding_matrix.shape)\n",
    "# for char, i in char_index.items():\n",
    "#     embedding_vector = amino_acid_dict[char.upper()]\n",
    "#     if embedding_vector is not None:\n",
    "#         embedding_matrix[i] = embedding_vector\n",
    "        \n",
    "# print (embedding_matrix)"
   ]
  },
  {
   "cell_type": "markdown",
   "metadata": {},
   "source": [
    "## Run from here when kernel restarts"
   ]
  },
  {
   "cell_type": "code",
   "execution_count": 2,
   "metadata": {},
   "outputs": [],
   "source": [
    "X_train = pd.read_pickle('X_train_ar_whole.pkl')\n",
    "y_train = pd.read_pickle('y_train_ar_whole.pkl')\n",
    "X_val = pd.read_pickle('X_val_ar_whole.pkl')\n",
    "y_val = pd.read_pickle('y_val_ar_whole.pkl')\n",
    "X_test = pd.read_pickle('X_test_ar_whole.pkl')\n",
    "y_test = pd.read_pickle('y_test_ar_whole.pkl')"
   ]
  },
  {
   "cell_type": "code",
   "execution_count": 3,
   "metadata": {},
   "outputs": [
    {
     "data": {
      "text/plain": [
       "((10732, 1600), (10732,), (2684, 1600), (2684,), (1491, 1600), (1491,))"
      ]
     },
     "execution_count": 3,
     "metadata": {},
     "output_type": "execute_result"
    }
   ],
   "source": [
    "X_train.shape, y_train.shape, X_val.shape, y_val.shape, X_test.shape, y_test.shape"
   ]
  },
  {
   "cell_type": "code",
   "execution_count": 4,
   "metadata": {},
   "outputs": [
    {
     "data": {
      "text/plain": [
       "array([ 0.91090742,  0.19133616,  1.14361335, 38.22307692,  3.73609023,\n",
       "        7.58625954,  0.89855335,  3.40342466,  1.10791527,  2.11446809,\n",
       "        0.2362815 , 29.22941176, 12.1195122 , 49.69      ,  4.45650224])"
      ]
     },
     "execution_count": 4,
     "metadata": {},
     "output_type": "execute_result"
    }
   ],
   "source": [
    "class_weight = np.load('class_weights.npy')\n",
    "class_weight"
   ]
  },
  {
   "cell_type": "markdown",
   "metadata": {
    "heading_collapsed": true
   },
   "source": [
    "## pSGLD model"
   ]
  },
  {
   "cell_type": "code",
   "execution_count": 5,
   "metadata": {
    "hidden": true
   },
   "outputs": [
    {
     "name": "stdout",
     "output_type": "stream",
     "text": [
      "torch.Size([10732, 1600])\n",
      "torch.Size([10732])\n"
     ]
    }
   ],
   "source": [
    "batch_size = 64\n",
    "tensor_x = torch.from_numpy(X_train.values) #[0:64*48] 0:32*97\n",
    "tensor_y = torch.from_numpy(y_train.values)\n",
    "print (tensor_x.size())\n",
    "print (tensor_y.size())\n",
    "train_dataset = torch.utils.data.TensorDataset(tensor_x,tensor_y) # create your datset\n",
    "train_dataloader = torch.utils.data.DataLoader(train_dataset, batch_size=batch_size, shuffle = True, \n",
    "                                            drop_last = False, pin_memory = True) \n",
    "\n",
    "val_tensor_x = torch.from_numpy(X_val.values) # [0:64*12]\n",
    "val_tensor_y = torch.from_numpy(y_val.values)\n",
    "val_dataset = torch.utils.data.TensorDataset(val_tensor_x, val_tensor_y) \n",
    "val_dataloader = torch.utils.data.DataLoader(val_dataset, \n",
    "                                             batch_size=batch_size,\n",
    "                                            shuffle = True, \n",
    "                                            drop_last = False, \n",
    "                                             pin_memory = True) # create your dataloader"
   ]
  },
  {
   "cell_type": "code",
   "execution_count": 6,
   "metadata": {
    "hidden": true
   },
   "outputs": [],
   "source": [
    "# Architecture for network without bayesian sgld\n",
    "# Hyper Parameters\n",
    "# Architecture code taken and modified from \n",
    "# https://github.com/kaushalshetty/Structured-Self-Attention\n",
    "\n",
    "nb_tokens = 20\n",
    "num_classes = 15\n",
    "batch_size = 64\n",
    "\n",
    "# BiRNN Model (Many-to-One)\n",
    "class SelfAttentionRNN(nn.Module):\n",
    "    def __init__(self, hidden_size, num_layers, nb_tokens, embedding_dim, num_classes):\n",
    "        super(SelfAttentionRNN, self).__init__()\n",
    "        self.hidden_size = hidden_size\n",
    "        self.num_layers = num_layers\n",
    "        self.embed = nn.Embedding(nb_tokens, embedding_dim, padding_idx=0)\n",
    "        self.lstm = nn.LSTM(embedding_dim, hidden_size, num_layers, \n",
    "                            batch_first=True, dropout = 0.4, bidirectional=True)#dr=0.3before\n",
    "        self.linear_first = nn.Linear(hidden_size * 2, d_a)\n",
    "        self.linear_first.bias.data.fill_(0)\n",
    "        self.linear_second = torch.nn.Linear(d_a, r)\n",
    "        self.linear_second.bias.data.fill_(0)\n",
    "        self.batch_size = batch_size\n",
    "        self.hidden_state = self.init_hidden()\n",
    "        self.fc = nn.Linear(hidden_size*2, num_classes)  # 2 for bidirection \n",
    "    \n",
    "    def init_hidden(self):\n",
    "        h0 = Variable(torch.zeros(self.num_layers*2, self.batch_size, self.hidden_size)).cuda() # 2 for bidirection \n",
    "        c0 = Variable(torch.zeros(self.num_layers*2, self.batch_size, self.hidden_size)).cuda()\n",
    "        return (h0, c0)\n",
    "        \n",
    "    def softmax(self,input, axis=1):\n",
    "        input_size = input.size()\n",
    "        trans_input = input.transpose(axis, len(input_size)-1)\n",
    "        trans_size = trans_input.size()\n",
    "        input_2d = trans_input.contiguous().view(-1, trans_size[-1])\n",
    "        soft_max_2d = F.softmax(input_2d, dim = 1)\n",
    "        soft_max_nd = soft_max_2d.view(*trans_size)\n",
    "        return soft_max_nd.transpose(axis, len(input_size)-1)\n",
    "\n",
    "    def forward(self, x):\n",
    "        emb = self.embed(x)\n",
    "        #print (emb.size())\n",
    "        #dr = nn.Dropout(p = 0.4)\n",
    "        #emb = dr(emb)\n",
    "        outputs, self.hidden_state = self.lstm(emb, self.hidden_state)\n",
    "        #print (outputs.size())\n",
    "        \n",
    "        x = torch.tanh(self.linear_first(outputs))\n",
    "        dr = nn.Dropout(p = 0.4)\n",
    "        x = dr(x)\n",
    "        x = self.linear_second(x)\n",
    "        #dr = nn.Dropout(p = 0.5)\n",
    "        #x = dr(x)\n",
    "        x = self.softmax(x,1)       \n",
    "        attention = x.transpose(1,2)       \n",
    "        sentence_embeddings = attention @ outputs       \n",
    "        avg_sentence_embeddings = torch.sum(sentence_embeddings,1) / r\n",
    "        \n",
    "        #print (avg_sentence_embeddings.size())\n",
    "        outputs = F.log_softmax(self.fc(avg_sentence_embeddings), dim = 1)\n",
    "        \n",
    "        #print (attention.size())\n",
    "        return outputs, attention\n",
    "\n",
    "# normal_rnn = SelfAttentionRNN(hidden_size, num_layers, nb_tokens, embedding_dim, num_classes)\n",
    "# normal_rnn = normal_rnn.cuda()"
   ]
  },
  {
   "cell_type": "code",
   "execution_count": 8,
   "metadata": {
    "hidden": true,
    "scrolled": true
   },
   "outputs": [
    {
     "name": "stderr",
     "output_type": "stream",
     "text": [
      "/home/nafizh/anaconda3/lib/python3.6/site-packages/torch/nn/modules/rnn.py:46: UserWarning: dropout option adds dropout after all but last recurrent layer, so non-zero dropout expects num_layers greater than 1, but got dropout=0.4 and num_layers=1\n",
      "  \"num_layers={}\".format(dropout, num_layers))\n"
     ]
    },
    {
     "name": "stdout",
     "output_type": "stream",
     "text": [
      "Epoch [1/200], Step [168/167], Loss: 1.411967\n",
      "Validation Loss: 0.723976\n",
      "Validation Accuracy of the model: 92.064083 %\n",
      "\n",
      "Epoch [2/200], Step [168/167], Loss: 0.409428\n",
      "Validation Loss: 0.428507\n",
      "Validation Accuracy of the model: 95.417288 %\n",
      "\n",
      "Epoch [3/200], Step [168/167], Loss: 0.252402\n",
      "Validation Loss: 0.375431\n",
      "Validation Accuracy of the model: 96.311475 %\n",
      "\n",
      "Epoch [4/200], Step [168/167], Loss: 0.170475\n",
      "Validation Loss: 0.690638\n",
      "Validation Accuracy of the model: 91.877794 %\n",
      "\n"
     ]
    },
    {
     "ename": "KeyboardInterrupt",
     "evalue": "",
     "output_type": "error",
     "traceback": [
      "\u001b[0;31m---------------------------------------------------------------------------\u001b[0m",
      "\u001b[0;31mKeyboardInterrupt\u001b[0m                         Traceback (most recent call last)",
      "\u001b[0;32m<ipython-input-8-6941277757d0>\u001b[0m in \u001b[0;36m<module>\u001b[0;34m()\u001b[0m\n\u001b[1;32m     35\u001b[0m \u001b[0;34m\u001b[0m\u001b[0m\n\u001b[1;32m     36\u001b[0m         \u001b[0moptimizer\u001b[0m\u001b[0;34m.\u001b[0m\u001b[0mzero_grad\u001b[0m\u001b[0;34m(\u001b[0m\u001b[0;34m)\u001b[0m\u001b[0;34m\u001b[0m\u001b[0;34m\u001b[0m\u001b[0m\n\u001b[0;32m---> 37\u001b[0;31m         \u001b[0mloss\u001b[0m\u001b[0;34m.\u001b[0m\u001b[0mbackward\u001b[0m\u001b[0;34m(\u001b[0m\u001b[0;34m)\u001b[0m\u001b[0;34m\u001b[0m\u001b[0;34m\u001b[0m\u001b[0m\n\u001b[0m\u001b[1;32m     38\u001b[0m \u001b[0;34m\u001b[0m\u001b[0m\n\u001b[1;32m     39\u001b[0m         \u001b[0moptimizer\u001b[0m\u001b[0;34m.\u001b[0m\u001b[0mstep\u001b[0m\u001b[0;34m(\u001b[0m\u001b[0;34m)\u001b[0m\u001b[0;34m\u001b[0m\u001b[0;34m\u001b[0m\u001b[0m\n",
      "\u001b[0;32m~/anaconda3/lib/python3.6/site-packages/torch/tensor.py\u001b[0m in \u001b[0;36mbackward\u001b[0;34m(self, gradient, retain_graph, create_graph)\u001b[0m\n\u001b[1;32m     94\u001b[0m                 \u001b[0mproducts\u001b[0m\u001b[0;34m.\u001b[0m \u001b[0mDefaults\u001b[0m \u001b[0mto\u001b[0m\u001b[0;31m \u001b[0m\u001b[0;31m`\u001b[0m\u001b[0;31m`\u001b[0m\u001b[0;32mFalse\u001b[0m\u001b[0;31m`\u001b[0m\u001b[0;31m`\u001b[0m\u001b[0;34m.\u001b[0m\u001b[0;34m\u001b[0m\u001b[0;34m\u001b[0m\u001b[0m\n\u001b[1;32m     95\u001b[0m         \"\"\"\n\u001b[0;32m---> 96\u001b[0;31m         \u001b[0mtorch\u001b[0m\u001b[0;34m.\u001b[0m\u001b[0mautograd\u001b[0m\u001b[0;34m.\u001b[0m\u001b[0mbackward\u001b[0m\u001b[0;34m(\u001b[0m\u001b[0mself\u001b[0m\u001b[0;34m,\u001b[0m \u001b[0mgradient\u001b[0m\u001b[0;34m,\u001b[0m \u001b[0mretain_graph\u001b[0m\u001b[0;34m,\u001b[0m \u001b[0mcreate_graph\u001b[0m\u001b[0;34m)\u001b[0m\u001b[0;34m\u001b[0m\u001b[0;34m\u001b[0m\u001b[0m\n\u001b[0m\u001b[1;32m     97\u001b[0m \u001b[0;34m\u001b[0m\u001b[0m\n\u001b[1;32m     98\u001b[0m     \u001b[0;32mdef\u001b[0m \u001b[0mregister_hook\u001b[0m\u001b[0;34m(\u001b[0m\u001b[0mself\u001b[0m\u001b[0;34m,\u001b[0m \u001b[0mhook\u001b[0m\u001b[0;34m)\u001b[0m\u001b[0;34m:\u001b[0m\u001b[0;34m\u001b[0m\u001b[0;34m\u001b[0m\u001b[0m\n",
      "\u001b[0;32m~/anaconda3/lib/python3.6/site-packages/torch/autograd/__init__.py\u001b[0m in \u001b[0;36mbackward\u001b[0;34m(tensors, grad_tensors, retain_graph, create_graph, grad_variables)\u001b[0m\n\u001b[1;32m     88\u001b[0m     Variable._execution_engine.run_backward(\n\u001b[1;32m     89\u001b[0m         \u001b[0mtensors\u001b[0m\u001b[0;34m,\u001b[0m \u001b[0mgrad_tensors\u001b[0m\u001b[0;34m,\u001b[0m \u001b[0mretain_graph\u001b[0m\u001b[0;34m,\u001b[0m \u001b[0mcreate_graph\u001b[0m\u001b[0;34m,\u001b[0m\u001b[0;34m\u001b[0m\u001b[0;34m\u001b[0m\u001b[0m\n\u001b[0;32m---> 90\u001b[0;31m         allow_unreachable=True)  # allow_unreachable flag\n\u001b[0m\u001b[1;32m     91\u001b[0m \u001b[0;34m\u001b[0m\u001b[0m\n\u001b[1;32m     92\u001b[0m \u001b[0;34m\u001b[0m\u001b[0m\n",
      "\u001b[0;31mKeyboardInterrupt\u001b[0m: "
     ]
    }
   ],
   "source": [
    "from pSGLD import pSGLD\n",
    "num_epochs = 200\n",
    "# iter_per_ep = 280\n",
    "# base_lr = 0.0001\n",
    "# max_lr = 0.6\n",
    "\n",
    "hidden_size = 128\n",
    "num_layers = 1\n",
    "embedding_dim = 400\n",
    "d_a = 2000\n",
    "r = 1000\n",
    "sgld_rnn = SelfAttentionRNN(hidden_size, num_layers, nb_tokens, embedding_dim, num_classes)\n",
    "sgld_rnn = sgld_rnn.cuda()\n",
    "criterion = nn.NLLLoss(weight = Variable(torch.from_numpy(class_weight)).float().cuda())\n",
    "optimizer = pSGLD(sgld_rnn.parameters(), lr = 0.001)\n",
    "\n",
    "\n",
    "min_ = 1000000\n",
    "batch_step = -1\n",
    "# Train the Model\n",
    "for epoch in range(num_epochs):\n",
    "    sgld_rnn.train()\n",
    "    n_batches = 0\n",
    "    total_loss = 0\n",
    "    for i, (seqs, labels) in enumerate(train_dataloader):\n",
    "        #scheduler.batch_step()\n",
    "        batch_step += 1\n",
    "        sgld_rnn.batch_size = seqs.size(0)\n",
    "        sgld_rnn.hidden_state = sgld_rnn.init_hidden()\n",
    "        seqs = Variable(seqs).long().cuda()\n",
    "        labels = Variable(labels).long().cuda()\n",
    "\n",
    "        outputs, attention = sgld_rnn(seqs)\n",
    "        loss = criterion(outputs, labels)\n",
    "\n",
    "        optimizer.zero_grad()\n",
    "        loss.backward()\n",
    "        \n",
    "        optimizer.step()\n",
    "        total_loss += loss.data\n",
    "        n_batches += 1\n",
    "        \n",
    "\n",
    "    train_loss = total_loss/n_batches\n",
    "    print ('Epoch [%d/%d], Step [%d/%d], Loss: %f' \n",
    "           %(epoch+1, num_epochs, i+1, len(X_train)//batch_size, total_loss/n_batches))\n",
    "\n",
    "\n",
    "    # Validation loss checking\n",
    "    sgld_rnn.eval()\n",
    "    # create your datset\n",
    "    \n",
    "    n_batches = 0\n",
    "    total_loss = 0\n",
    "    predictions = []\n",
    "    correct = 0\n",
    "    total = 0\n",
    "    for seqs, label_s in val_dataloader:\n",
    "        #print (seqs.size())\n",
    "        #print (labels.size())\n",
    "        sgld_rnn.batch_size = seqs.size(0)\n",
    "        sgld_rnn.hidden_state = sgld_rnn.init_hidden()\n",
    "                  \n",
    "        seqs = Variable(seqs).long().cuda()\n",
    "        labels = Variable(label_s).long().cuda()\n",
    "        \n",
    "        outputs, attention = sgld_rnn(seqs)\n",
    "        loss = criterion(outputs, labels)\n",
    "        total_loss += loss.data\n",
    "        n_batches += 1\n",
    "        _, predicted = torch.max(outputs.data, 1)\n",
    "        total += label_s.size(0)\n",
    "        correct += (predicted.cpu() == label_s.long()).sum()\n",
    "        predictions.append(predicted.cpu())\n",
    "    \n",
    "    \n",
    "    vloss = (total_loss/n_batches)\n",
    "    print ('Validation Loss: %f' \n",
    "           %(vloss))\n",
    "    print('Validation Accuracy of the model: %f %%' % (100 * correct.item() / total))\n",
    "    #print (\"lr: \", base_lr)\n",
    "    print ()\n",
    "    \n",
    "    if ((100 * correct.item() / total) > 92):\n",
    "        min_ = vloss.cpu().item()\n",
    "        torch.save(sgld_rnn.state_dict(), \n",
    "        'psgld_rnn_with_att_ab_res_%f_acc_%f_cyclical.pkl' % (vloss.cpu().item(), \n",
    "                                                                100 * (correct.item() / total)))  \n",
    "        \n",
    "    #############################################\n",
    "    # update learning rate\n",
    "#     base_lr = cyclical_learning_rate(batch_step=batch_step,\n",
    "#                                      step_size=num_epochs*iter_per_ep,\n",
    "#                                      base_lr=base_lr,\n",
    "#                                      max_lr=max_lr)\n",
    "#     for g in optimizer.param_groups:\n",
    "#         g['lr'] = base_lr\n",
    "    ############################################"
   ]
  },
  {
   "cell_type": "code",
   "execution_count": 7,
   "metadata": {
    "hidden": true
   },
   "outputs": [
    {
     "name": "stderr",
     "output_type": "stream",
     "text": [
      "/home/nafizh/anaconda3/lib/python3.6/site-packages/torch/nn/modules/rnn.py:46: UserWarning: dropout option adds dropout after all but last recurrent layer, so non-zero dropout expects num_layers greater than 1, but got dropout=0.4 and num_layers=1\n",
      "  \"num_layers={}\".format(dropout, num_layers))\n"
     ]
    },
    {
     "name": "stdout",
     "output_type": "stream",
     "text": [
      "torch.Size([1491, 1600])\n",
      "torch.Size([1491])\n",
      "Test Accuracy of the model: 95.506372 %\n",
      "24\n"
     ]
    }
   ],
   "source": [
    "hidden_size = 128\n",
    "num_layers = 1\n",
    "embedding_dim = 400\n",
    "d_a = 2000\n",
    "r = 1000\n",
    "sgld_rnn = SelfAttentionRNN(hidden_size, num_layers, nb_tokens, embedding_dim, num_classes)\n",
    "sgld_rnn = sgld_rnn.cuda()\n",
    "sgld_rnn.load_state_dict(torch.load('psgld_rnn_with_att_ab_res_0.375431_acc_96.311475_cyclical.pkl'))\n",
    "# sgld_rnn_with_att_ab_res_0.383152_acc_96.684054_cyclical.pkl\n",
    "# sgld_rnn_with_att_ab_res_0.352620_acc_96.646796_cyclical.pkl\n",
    "val_tensor_x = torch.from_numpy(X_test.values)\n",
    "val_tensor_y = torch.from_numpy(y_test.values)\n",
    "\n",
    "print (val_tensor_x.size())\n",
    "print (val_tensor_y.size())\n",
    "# create your dataset\n",
    "val_dataset = torch.utils.data.TensorDataset(val_tensor_x, val_tensor_y) \n",
    "# create your dataloader\n",
    "val_dataloader = torch.utils.data.DataLoader(val_dataset, batch_size=64,\n",
    "                                             shuffle = False, \n",
    "                                                        drop_last = False, \n",
    "                                                         pin_memory = True) \n",
    "\n",
    "sgld_rnn.eval()\n",
    "correct = 0\n",
    "total = 0\n",
    "predictions = []\n",
    "for seqs, labels in val_dataloader:\n",
    "    #print (seqs.size())\n",
    "    #print (labels.size())\n",
    "    #print (seqs.size(0))\n",
    "    sgld_rnn.batch_size = seqs.size(0)\n",
    "    seqs = Variable(seqs).long().cuda()\n",
    "    #labels = Variable(labels).long().cuda()\n",
    "    sgld_rnn.hidden_state = sgld_rnn.init_hidden()\n",
    "    outputs, att = sgld_rnn(seqs)\n",
    "    _, predicted = torch.max(outputs.data, 1)\n",
    "    total += labels.size(0)\n",
    "    #print (labels.size())\n",
    "    #print (predicted.size())\n",
    "    correct += (predicted.cpu() == labels.long()).sum()\n",
    "    #print (correct)\n",
    "    #print (labels)\n",
    "    #print (predicted)\n",
    "    predictions.append(predicted.cpu())\n",
    "    \n",
    "    \n",
    "print('Test Accuracy of the model: %f %%' % (100 * correct.item() / total)) \n",
    "print (len(predictions))"
   ]
  },
  {
   "cell_type": "code",
   "execution_count": 8,
   "metadata": {
    "hidden": true
   },
   "outputs": [
    {
     "name": "stdout",
     "output_type": "stream",
     "text": [
      "1491\n"
     ]
    }
   ],
   "source": [
    "predictions_flatten = []\n",
    "for l in predictions:\n",
    "    for l_in in l:\n",
    "        predictions_flatten.append(l_in)\n",
    "print (len(predictions_flatten))"
   ]
  },
  {
   "cell_type": "code",
   "execution_count": 9,
   "metadata": {
    "hidden": true
   },
   "outputs": [
    {
     "name": "stdout",
     "output_type": "stream",
     "text": [
      "1491\n",
      "1491\n"
     ]
    }
   ],
   "source": [
    "pred_flat_np = np.array(predictions_flatten)\n",
    "print (len(pred_flat_np))\n",
    "print (len(y_test.values))"
   ]
  },
  {
   "cell_type": "code",
   "execution_count": 10,
   "metadata": {
    "hidden": true
   },
   "outputs": [
    {
     "name": "stdout",
     "output_type": "stream",
     "text": [
      "             precision    recall  f1-score   support\n",
      "\n",
      "        0.0       0.83      0.92      0.87       109\n",
      "        1.0       0.98      0.97      0.97       519\n",
      "        2.0       0.91      0.89      0.90        87\n",
      "        3.0       1.00      1.00      1.00         3\n",
      "        4.0       0.95      0.70      0.81        27\n",
      "        5.0       0.92      0.92      0.92        13\n",
      "        6.0       0.92      0.94      0.93       111\n",
      "        7.0       0.94      1.00      0.97        29\n",
      "        8.0       1.00      0.97      0.98        90\n",
      "        9.0       1.00      0.98      0.99        47\n",
      "       10.0       1.00      0.99      0.99       421\n",
      "       11.0       1.00      1.00      1.00         3\n",
      "       12.0       0.86      0.75      0.80         8\n",
      "       13.0       0.40      1.00      0.57         2\n",
      "       14.0       0.62      0.91      0.74        22\n",
      "\n",
      "avg / total       0.96      0.96      0.96      1491\n",
      "\n"
     ]
    }
   ],
   "source": [
    "# Result for bayesian rnn\n",
    "from sklearn.metrics import classification_report\n",
    "print (classification_report(y_test.values, pred_flat_np))"
   ]
  },
  {
   "cell_type": "markdown",
   "metadata": {
    "heading_collapsed": true
   },
   "source": [
    "## Result on Test data distribution"
   ]
  },
  {
   "cell_type": "code",
   "execution_count": 15,
   "metadata": {
    "hidden": true
   },
   "outputs": [
    {
     "name": "stdout",
     "output_type": "stream",
     "text": [
      "torch.Size([1491, 1600])\n",
      "torch.Size([1491])\n"
     ]
    }
   ],
   "source": [
    "test_tensor_x = torch.from_numpy(X_test.values)\n",
    "test_tensor_y = torch.from_numpy(y_test.values)\n",
    "\n",
    "print (test_tensor_x.size())\n",
    "print (test_tensor_y.size())\n",
    "# create your dataset\n",
    "test_dataset = torch.utils.data.TensorDataset(test_tensor_x, test_tensor_y) \n",
    "# create your dataloader\n",
    "test_dataloader = torch.utils.data.DataLoader(test_dataset, batch_size=64,\n",
    "                                             shuffle = False, \n",
    "                                                        drop_last = False, \n",
    "                                                         pin_memory = True) "
   ]
  },
  {
   "cell_type": "code",
   "execution_count": 29,
   "metadata": {
    "hidden": true
   },
   "outputs": [
    {
     "name": "stderr",
     "output_type": "stream",
     "text": [
      "/home/nafizh/anaconda3/lib/python3.6/site-packages/torch/nn/functional.py:1089: UserWarning: nn.functional.tanh is deprecated. Use torch.tanh instead.\n",
      "  warnings.warn(\"nn.functional.tanh is deprecated. Use torch.tanh instead.\")\n"
     ]
    }
   ],
   "source": [
    "import normalRNN_ab_res_ADAM\n",
    "normal_rnn = normalRNN_ab_res_ADAM.SelfAttentionRNNnormal(hidden_size = 64, num_layers = 3, nb_tokens = 20, \n",
    "                                              embedding_dim = 10, num_classes = 15)\n",
    "normal_rnn = normal_rnn.cuda()\n",
    "normal_rnn.load_state_dict(torch.load('rnn_with_attention_whole_ab_resistance_model_adam.pkl'))\n",
    "\n",
    "normal_rnn.eval()\n",
    "correct = 0\n",
    "total = 0\n",
    "predictions = []\n",
    "predictions_true = []\n",
    "predictions_false = []\n",
    "for seqs, labels in test_dataloader:\n",
    "    normal_rnn.batch_size = seqs.size(0)\n",
    "    normal_rnn.hidden_state = normal_rnn.init_hidden()\n",
    "    \n",
    "    seqs = Variable(seqs).long().cuda()\n",
    "    #labels = Variable(labels).long().cuda()\n",
    "    \n",
    "    outputs, att = normal_rnn(seqs)\n",
    "    #print (outputs)\n",
    "    #print (torch.sum(outputs, 1))\n",
    "    #predicted = torch.max(F.softmax(outputs.data), 1)[0]\n",
    "    predicted, predicted_labels = torch.max(outputs.data, 1)\n",
    "    predictions.append(predicted)\n",
    "    #print (predicted)\n",
    "    #print (predicted_labels)\n",
    "    #print (labels)\n",
    "    \n",
    "    # Take only probabilities where the prediction is true\n",
    "    predictions_false.append(predicted[predicted_labels.cpu() != labels.long()])\n",
    "    predictions_true.append(predicted[predicted_labels.cpu() == labels.long()])"
   ]
  },
  {
   "cell_type": "code",
   "execution_count": 30,
   "metadata": {
    "hidden": true
   },
   "outputs": [
    {
     "name": "stdout",
     "output_type": "stream",
     "text": [
      "[-0.005953788757324219, -1.0551443099975586, -0.015211105346679688, -0.08156013488769531, -0.14867544174194336, -0.00146484375, -0.0018415451049804688, -0.002445220947265625, -0.0014362335205078125, -0.0029621124267578125, -0.00032806396484375, -0.005161285400390625, -0.00024127960205078125, -0.46874523162841797, -0.0030221939086914062, -0.016427040100097656, -0.050817012786865234, -0.35472917556762695, -0.004254341125488281, -0.013702392578125, -0.004818916320800781, -0.14253759384155273, -0.16031265258789062, -0.1669936180114746, -0.007132530212402344, -0.009989738464355469, -0.003962516784667969, -0.0032854080200195312, -0.0028362274169921875, -0.000301361083984375, -0.0013818740844726562, -0.20059776306152344, -0.016509056091308594, -0.005710601806640625, -0.0024652481079101562, -0.002780914306640625, -0.004459381103515625, -0.05428600311279297, -0.0017614364624023438, -0.1048583984375, -0.015080451965332031, -1.2156643867492676, -0.0037145614624023438, -0.0015087127685546875, -0.015639305114746094, -0.04226398468017578, -0.36480045318603516, -0.0005464553833007812, -0.010133743286132812, -0.02169513702392578, -0.007292747497558594, -0.0035734176635742188, -0.009016036987304688, -0.004885673522949219, -0.0848245620727539, -0.7370798587799072, -0.007006645202636719, -0.22292613983154297, -0.0028448104858398438, -0.0069713592529296875, -0.017599105834960938, -0.2603435516357422, -0.26522159576416016, -0.0039691925048828125, -0.0029392242431640625, -0.05052757263183594, -0.0016889572143554688, -0.010783195495605469, -0.012868881225585938, -0.0022993087768554688, -0.007054328918457031, -0.012108802795410156, -1.200641393661499, -0.0706787109375, -0.0029191970825195312, -0.0012531280517578125, -0.43160295486450195, -0.004012107849121094, -0.005339622497558594, -0.040912628173828125, -0.0030317306518554688, -0.1256723403930664, -0.30966663360595703, -0.0033016204833984375, -0.014451980590820312, -0.07632255554199219, -0.12502431869506836, -0.0060882568359375, -0.06635379791259766, -0.30565643310546875, -0.059305667877197266, -0.07400703430175781, -0.22596168518066406, -0.0063018798828125, -0.010575294494628906, -0.001430511474609375, -0.9959902763366699, -0.0013895034790039062, -0.001667022705078125, -0.003467559814453125, -0.0036611557006835938, -0.0009031295776367188, -0.011296272277832031, -0.002399444580078125, -0.03502225875854492, -0.000522613525390625, -0.0011959075927734375, -0.0020742416381835938, -0.007407188415527344, -0.4511685371398926, -0.5301933288574219, -0.01865100860595703, -0.0032262802124023438, -0.0026874542236328125, -0.0022001266479492188, -0.0029840469360351562, -0.00262451171875, -0.0020494461059570312, -0.0034351348876953125, -0.08139848709106445, -0.0045013427734375, -0.0015459060668945312, -0.04941749572753906, -0.11620521545410156, -0.014974594116210938, -0.0020580291748046875, -0.059420108795166016, -0.00492095947265625, -0.08496761322021484, -0.008111953735351562, -0.0073146820068359375, -0.02373027801513672, -0.07905054092407227, -0.00014400482177734375, -0.1768655776977539, -0.31093454360961914, -0.006062507629394531, -0.002658843994140625, -0.058236122131347656, -0.017133235931396484, -0.0024328231811523438, -0.046036720275878906, -0.0008592605590820312, -0.01768970489501953, -0.1751089096069336, -0.018548011779785156, -0.008113861083984375, -0.02161121368408203, -0.005400657653808594, -0.003376007080078125, -0.0034770965576171875, -0.04863119125366211, -0.007090568542480469, -0.00864410400390625, -0.0395965576171875, -0.0012302398681640625, -0.019184589385986328, -0.0019512176513671875, -0.003368377685546875, -0.0028162002563476562, -0.01973724365234375, -0.0031938552856445312, -0.14788150787353516, -0.031042098999023438, -0.05179119110107422, -1.142249584197998, -0.0031023025512695312, -0.0039825439453125, -0.0018291473388671875, -0.026426315307617188, -0.007260322570800781, -0.01990509033203125, -0.0481719970703125, -0.0019121170043945312, -0.019721031188964844, -0.32988882064819336, -0.032929420471191406, -0.010656356811523438, -0.005519866943359375, -0.013112068176269531, -0.0028562545776367188, -0.002254486083984375, -0.00118255615234375, -0.42022228240966797, -0.004871368408203125, -0.006480216979980469, -0.009173393249511719, -0.00347137451171875, -0.7181844711303711, -0.5044741630554199, -0.0031156539916992188, -0.0013017654418945312, -0.0057811737060546875, -0.0010128021240234375, -0.004218101501464844, -0.002105712890625, -0.004284858703613281, -0.01568317413330078, -0.0035543441772460938, -0.05696582794189453, -0.10705804824829102, -0.0720677375793457, -0.010420799255371094, -0.0013875961303710938, -0.0057525634765625, -0.0016422271728515625, -0.003025054931640625, -0.023775577545166016, -0.006730079650878906, -0.004179954528808594, -0.006526947021484375, -0.018184661865234375, -0.00240325927734375, -0.009881973266601562, -0.015649795532226562, -0.008905410766601562, -0.8640432357788086, -0.0023508071899414062, -0.0709524154663086, -0.0003757476806640625, -0.04613542556762695, -0.050498008728027344, -0.06346940994262695, -0.00019359588623046875, -0.0016145706176757812, -0.0023126602172851562, -0.019692420959472656, -0.05713844299316406, -0.45438337326049805, -0.12206459045410156, -0.004971504211425781, -0.005692481994628906, -0.0035524368286132812, -0.009914398193359375, -0.029984474182128906, -0.0007562637329101562, -0.038041114807128906, -0.0026102066040039062, -0.012768745422363281, -0.13629674911499023, -0.004731178283691406, -0.01904773712158203, -0.039917945861816406, -0.26091861724853516, -0.005837440490722656, -0.014225959777832031, -0.4189944267272949, -0.0007295608520507812, -0.005558013916015625, -0.017282485961914062, -0.0065860748291015625, -0.004200935363769531, -0.07160758972167969, -0.0017747879028320312, -0.006358146667480469, -0.014191627502441406, -0.0048389434814453125, -0.0014944076538085938, -0.004582405090332031, -0.0025091171264648438, -0.028240203857421875, -0.0040225982666015625, -0.0027456283569335938, -0.27289867401123047, -0.030704498291015625, -0.19125032424926758, -0.31086158752441406, -0.004708290100097656, -0.004738807678222656, -0.0068531036376953125, -0.15823030471801758, -0.005046844482421875, -0.00148773193359375, -0.045891761779785156, -0.03071737289428711, -0.0076389312744140625, -0.0019435882568359375, -0.011956214904785156, -0.013757705688476562, -0.018224716186523438, -0.006472587585449219, -0.03338432312011719, -0.015100479125976562, -0.0028886795043945312, -0.002197265625, -0.22794532775878906, -2.86102294921875e-05, -0.22789573669433594, -0.0048274993896484375, -0.00661468505859375, -0.0054988861083984375, -0.007620811462402344, -0.0002956390380859375, -0.002811431884765625, -0.3521261215209961, -0.020414352416992188, -0.0028715133666992188, -0.032756805419921875, -0.011678695678710938, -0.4468522071838379, -0.009791374206542969, -0.004590034484863281, -0.060006141662597656, -0.1927642822265625, -0.0319061279296875, -0.007297515869140625, -0.0020008087158203125, -0.002880096435546875, -0.597236156463623, -0.04889869689941406, -0.0010309219360351562, -0.012207984924316406, -0.005204200744628906, -0.001232147216796875, -0.001636505126953125, -0.0032186508178710938, -0.0014190673828125, -0.0015211105346679688, -0.0015316009521484375, -0.03452110290527344, -0.0016040802001953125, -0.004603385925292969, -0.0007638931274414062, -0.0013742446899414062, -0.00025081634521484375, -0.1466522216796875, -0.0391077995300293, -0.08484125137329102, -0.0017642974853515625, -0.006110191345214844, -0.09429264068603516, -0.11736106872558594, -0.0021104812622070312, -0.0023555755615234375, -0.008270263671875, -0.00191497802734375, -0.02596569061279297, -0.4771451950073242, -0.0024499893188476562, -0.0017614364624023438, -0.0018072128295898438, -0.18134689331054688, -0.002262115478515625, -0.6810169219970703, -0.003930091857910156, -0.00041866302490234375, -0.0590977668762207, -0.0041027069091796875, -0.008052825927734375, -0.000278472900390625, -0.0010175704956054688, -0.0015420913696289062, -0.0023632049560546875, -0.007462501525878906, -0.023397445678710938, -0.012163162231445312, -0.007321357727050781, -0.006107330322265625, -0.13308334350585938, -0.04511594772338867, -0.003907203674316406, -0.0029859542846679688, -0.0039768218994140625, -0.00974273681640625, -0.07260704040527344, -0.0031299591064453125, -0.014499664306640625, -0.0072231292724609375, -0.0009489059448242188, -0.0023670196533203125, -0.03628253936767578, -0.0022764205932617188, -0.5480241775512695, -0.004322052001953125, -0.006299018859863281, -0.016089439392089844, -0.022243976593017578, -0.009477615356445312, -0.0026235580444335938, -0.0003223419189453125, -0.047556400299072266, -0.01728343963623047, -0.05529212951660156, -0.0033369064331054688, -0.0052947998046875, -0.0017261505126953125, -0.005320549011230469, -0.000728607177734375, -0.003597259521484375, -0.00037097930908203125, -0.2589879035949707, -0.0034341812133789062, -0.003162384033203125, -0.03217363357543945, -0.001312255859375, -0.0003833770751953125, -0.0017900466918945312, -0.012943267822265625, -0.0153045654296875, -0.12509822845458984, -0.0015058517456054688, -0.02838134765625, -0.06869173049926758, -0.021477699279785156, -0.008611679077148438, -0.0804438591003418, -0.07721805572509766, -0.0020923614501953125, -0.03180694580078125, -0.011491775512695312, -0.019807815551757812, -0.015781402587890625, -0.023379802703857422, -0.1760263442993164, -0.0064792633056640625, -0.011090278625488281, -0.0021572113037109375, -0.004627227783203125, -0.0001392364501953125, -0.4859628677368164, -0.00034999847412109375, -0.016895294189453125, -0.017435073852539062, -0.00429534912109375, -0.0001735687255859375, -0.018578529357910156, -0.0030050277709960938, -0.0005655288696289062, -0.772437572479248, -0.21329784393310547, -0.7243523597717285, -0.009021759033203125, -0.004506111145019531, -0.1381978988647461, -0.0002727508544921875, -0.9761364459991455, -0.0015497207641601562, -0.07169151306152344, -0.004231452941894531, -0.0757908821105957, -0.012945175170898438, -0.003627777099609375, -0.0023288726806640625, -0.001617431640625, -0.028186321258544922, -0.000102996826171875, -0.01601409912109375, -0.011050224304199219, -0.07043838500976562, -0.017942428588867188, -0.0024728775024414062, -0.007176399230957031, -0.20779752731323242, -0.001399993896484375, -0.07363605499267578, -0.008762359619140625, -0.0057010650634765625, -0.001861572265625, -0.2508378028869629, -0.0012197494506835938, -0.0011949539184570312, -0.055698394775390625, -0.37159061431884766, -0.0010509490966796875, -0.37883806228637695, -0.38805675506591797, -0.04041862487792969, -0.0004253387451171875, -0.27406930923461914, -0.8826847076416016, -0.0019817352294921875, -0.008328437805175781, -0.0020303726196289062, -0.00186920166015625, -0.0031175613403320312, -0.032039642333984375, -0.005173683166503906, -0.26995038986206055, -0.06692695617675781, -0.08458805084228516, -0.041762351989746094, -0.011966705322265625, -0.015118598937988281, -0.07000494003295898, -0.0222930908203125, -0.008914947509765625, -0.001560211181640625, -0.0075511932373046875, -0.004052162170410156, -0.0022735595703125, -0.013018608093261719, -0.060755252838134766, -0.11625814437866211, -0.00091552734375, -0.015821456909179688, -0.011693000793457031, -0.005481719970703125, -0.28383827209472656, -0.0007715225219726562, -0.4504585266113281, -0.0012674331665039062, -0.0030002593994140625, -0.005335807800292969, -0.000934600830078125, -0.0031566619873046875, -0.008538246154785156, -0.0017938613891601562, -0.09653902053833008, -0.0654897689819336, -0.004630088806152344, -0.003966331481933594, -0.007572174072265625, -0.008394241333007812, -0.0639333724975586, -0.04163360595703125, -0.06968069076538086, -0.008686065673828125, -0.00269317626953125, -0.004245758056640625, -0.012409210205078125, -0.009405136108398438, -0.10712242126464844, -0.0037107467651367188, -0.4439382553100586, -0.07520389556884766, -0.0013837814331054688, -0.38440656661987305, -3.528594970703125e-05, -0.004521369934082031, -0.002223968505859375, -0.002269744873046875, -0.008009910583496094, -0.001308441162109375, -0.0005397796630859375, -0.004460334777832031, -0.5221390724182129, -0.0061702728271484375, -0.3496241569519043, -0.012722015380859375, -0.01279449462890625, -0.0022268295288085938, -0.005146026611328125, -0.004741668701171875, -0.00569915771484375, -0.015324592590332031, -0.0051326751708984375, -0.004258155822753906, -0.0004177093505859375, -0.005718231201171875, -0.05643415451049805, -0.06352663040161133, -0.0035982131958007812, -0.0025510787963867188, -0.0020666122436523438, -0.0016841888427734375, -0.0038890838623046875, -0.062313079833984375, -0.5773711204528809, -0.14195775985717773, -0.010469436645507812, -0.04112052917480469, -0.1836233139038086, -0.04076576232910156, -0.14531278610229492, -0.1875152587890625, -0.0064525604248046875, -0.010736465454101562, -0.0011854171752929688, -0.1363353729248047, -0.0022869110107421875, -0.027614116668701172, -0.003368377685546875, -0.007397651672363281, -0.18316125869750977, -0.0031528472900390625, -0.0012216567993164062, -0.0022974014282226562, -0.04880332946777344, -0.000431060791015625, -0.007464408874511719, -0.06303119659423828, -0.0050716400146484375, -2.86102294921875e-05, -0.000125885009765625, -0.01595306396484375, -0.11434602737426758, -0.02372455596923828, -0.0016965866088867188, -0.0003223419189453125, -0.0016841888427734375, -0.08164119720458984, -0.05194425582885742, -0.0028438568115234375, -0.05751752853393555, -0.12822723388671875, -0.48068904876708984, -0.0038585662841796875, -0.022765159606933594, -0.02628803253173828, -0.00041675567626953125, -0.04353809356689453, -0.07983970642089844, -0.051654815673828125, -0.017594337463378906, -0.002655029296875, -0.0997457504272461, -0.045934200286865234, -0.00327301025390625, -0.005414009094238281, -0.007283210754394531, -0.014464378356933594, -0.00774383544921875, -0.005717277526855469, -0.006482124328613281, -0.012986183166503906, -0.01902484893798828, -0.018749237060546875, -0.0011625289916992188, -0.16458415985107422, -0.0022449493408203125, -0.019428253173828125, -0.061364173889160156, -0.0036296844482421875, -0.003681182861328125, -0.4944286346435547, -0.029970645904541016, -0.00928497314453125, -0.4660453796386719, -0.0020294189453125, -0.005641937255859375, -0.0014276504516601562, -0.007700920104980469, -1.0044665336608887, -0.0028009414672851562, -0.02020740509033203, -0.051650047302246094, -0.006340980529785156, -0.05028867721557617, -0.05014467239379883, -0.0078125, -0.004199981689453125, -0.006899833679199219, -0.02023601531982422, -0.36911630630493164, -0.011766433715820312, -0.07186651229858398, -0.0038604736328125, -0.0064563751220703125, -0.0035076141357421875, -0.38851451873779297, -0.019454002380371094, -0.004023551940917969, -0.0905160903930664, -0.0029811859130859375, -0.002349853515625, -0.020076751708984375, -0.000392913818359375, -0.011115074157714844, -0.0018987655639648438, -0.26407623291015625, -0.003398895263671875, -0.0022516250610351562, -0.2355952262878418, -0.049512386322021484, -0.004633903503417969, -0.12505626678466797, -0.07373237609863281, -0.005574226379394531, -0.0025682449340820312, -1.0176119804382324, -0.003719329833984375, -0.0016298294067382812, -0.0651693344116211, -0.010313987731933594, -0.032309532165527344, -0.00167083740234375, -0.0024356842041015625, -0.009488105773925781, -0.2769193649291992, -0.0040740966796875, -0.008755683898925781, -0.00264739990234375, -0.009575843811035156, -0.14901351928710938, -0.0022974014282226562, -0.0018663406372070312, -0.22719812393188477, -0.006633758544921875, -0.005999565124511719, -0.0019054412841796875, -0.050203800201416016, -0.08262825012207031, -0.0020837783813476562, -0.04206275939941406, -0.0023279190063476562, -0.010794639587402344, -0.009626388549804688, -0.18228816986083984, -0.0026960372924804688, -0.05492687225341797, -0.1890888214111328, -0.013018608093261719, -0.0031023025512695312, -0.0051250457763671875, -0.0009164810180664062, -0.0019617080688476562, -0.037964820861816406, -0.3923487663269043, -0.004279136657714844, -0.00412750244140625, -0.07992172241210938, -0.011775970458984375, -0.017147064208984375, -0.0025281906127929688, -0.5793061256408691, -0.0029087066650390625, -0.006539344787597656, -0.0014486312866210938, -0.725787878036499, -0.01623058319091797, -0.0021467208862304688, -0.49175262451171875, -0.037250518798828125, -0.006014823913574219, -0.0037860870361328125, -0.011553764343261719, -0.005100250244140625, -0.0004444122314453125, -0.662111759185791, -0.024198532104492188, -0.007895469665527344, -0.3233346939086914, -0.0023698806762695312, -0.03199005126953125, -0.51019287109375, -0.1270747184753418, -0.0030736923217773438, -0.2581319808959961, -0.3455982208251953, -0.001552581787109375, -0.0013265609741210938, -0.07204818725585938, -0.007145881652832031, -0.016176700592041016, -0.0028295516967773438, -0.011951446533203125, -0.3220229148864746, -0.0016326904296875, -0.16885900497436523, -0.0015478134155273438, -0.001556396484375, -0.016241073608398438, -0.008243560791015625, -0.06381416320800781, -0.014459609985351562, -0.07529115676879883, -0.00533294677734375, -0.6712722778320312, -0.014387130737304688, -0.00174713134765625, -0.0051860809326171875, -0.004136085510253906, -0.37065696716308594, -0.03313636779785156, -0.007889747619628906, -0.3495001792907715, -0.0032262802124023438, -0.015604019165039062, -0.10787153244018555, -0.07229328155517578, -0.005465507507324219, -0.032441139221191406, -0.006295204162597656, -0.022125244140625, -0.011585235595703125, -0.049297332763671875, -1.050429344177246, -0.005326271057128906, -0.0007076263427734375, -0.013316154479980469, -0.026876449584960938, -0.22846174240112305, -0.20511150360107422, -0.08171367645263672, -0.016265869140625, -0.007601737976074219, -0.0008249282836914062, -0.063720703125, -0.1233072280883789, -0.004111289978027344, -0.0029554367065429688, -0.0019464492797851562, -0.011295318603515625, -0.3681206703186035, -0.0051631927490234375, -0.0038995742797851562, -0.8065218925476074, -0.004276275634765625, -0.0017414093017578125, -0.4856138229370117, -0.018854618072509766, -0.01909923553466797, -0.6185421943664551, -0.09583520889282227, -0.007831573486328125, -0.00555419921875, -0.016350746154785156, -0.02280712127685547, -0.005007743835449219, -0.02367687225341797, -0.0037946701049804688, -0.4141712188720703, -0.0027933120727539062, -0.015707969665527344, -0.0019369125366210938, -0.004187583923339844, -0.017571449279785156, -0.0022001266479492188, -0.022586822509765625, -0.00243377685546875, -0.023883342742919922, -0.0015897750854492188, -0.01000213623046875, -0.12475442886352539, -0.030547142028808594, -0.179931640625, -0.007811546325683594, -0.0052013397216796875, -0.05282020568847656, -0.13916921615600586, -0.0032873153686523438, -0.015702247619628906, -0.02064990997314453, -0.0005979537963867188, -0.011361122131347656, -0.05846977233886719, -0.013323783874511719, -0.006709098815917969, -0.00019741058349609375, -0.0019397735595703125, -0.04613208770751953, -0.751439094543457, -0.03523063659667969, -0.005040168762207031, -0.026038169860839844, -0.0008697509765625, -0.0046977996826171875, -0.38875913619995117, -0.016991615295410156, -0.01993846893310547, -0.0021944046020507812, -0.0029153823852539062, -0.2889080047607422, -0.07051897048950195, -0.004917144775390625, -0.0050373077392578125, -0.00217437744140625, -0.0024995803833007812, -0.02715015411376953, -0.0016775131225585938, -0.002628326416015625, -0.021814823150634766, -0.0010204315185546875, -0.0061435699462890625, -0.0014944076538085938, -0.0026025772094726562, -0.21390581130981445, -0.005599021911621094, -0.0050945281982421875, -0.012410163879394531, -0.44295263290405273, -0.000850677490234375, -0.9041445255279541, -0.0027894973754882812, -0.00171661376953125, -0.049068450927734375, -0.009322166442871094, -0.0032863616943359375, -0.0039196014404296875, -0.1175222396850586, -0.0017805099487304688, -0.0017223358154296875, -0.0030975341796875, -0.009815216064453125, -0.0029001235961914062, -3.719329833984375e-05, -0.008184432983398438, -0.11625099182128906, -0.08469486236572266, -0.012360572814941406, -0.04919147491455078, -0.7304682731628418, -0.006290435791015625, -0.00662994384765625, -0.06191444396972656, -0.12520408630371094, -0.0037984848022460938, -0.0035152435302734375, -0.003215789794921875, -0.0725555419921875, -0.08536338806152344, -0.000797271728515625, -0.011957168579101562, -0.00029659271240234375, -0.0014600753784179688, -0.01803874969482422, -0.6611895561218262, -0.006107330322265625, -0.0032787322998046875, -0.009770393371582031, -0.03313732147216797, -0.4276466369628906, -0.02413463592529297, -0.005047798156738281, -0.07617902755737305, -0.3413047790527344, -0.02504110336303711, -0.0016613006591796875, -0.10460424423217773, -0.5588340759277344, -0.0011453628540039062, -0.07541608810424805, -0.0004482269287109375, -0.05079364776611328, -0.0020170211791992188, -0.00704193115234375, -0.05168771743774414, -0.0056056976318359375, -0.0033512115478515625, -0.004117012023925781, -0.004673957824707031, -0.308835506439209, -0.0024471282958984375, -0.0013446807861328125, -0.010460853576660156, -0.049976348876953125, -0.09145975112915039, -0.007590293884277344, -0.0015764236450195312, -0.0018253326416015625, -0.009281158447265625, -0.004504203796386719, -0.0019903182983398438, -0.04636669158935547, -0.0013370513916015625, -0.0028944015502929688, -0.24104738235473633, -0.0026636123657226562, -0.008528709411621094, -0.00276947021484375, -0.2142925262451172, -0.013469696044921875, -0.0245819091796875, -0.00592803955078125, -0.022568702697753906, -0.11922836303710938, -0.0032253265380859375, -0.03731346130371094, -0.00605010986328125, -0.0041217803955078125, -0.0020885467529296875, -0.5324077606201172, -0.0031833648681640625, -0.22183513641357422, -0.024393081665039062, -0.0018720626831054688, -0.0017042160034179688, -0.0013895034790039062, -0.40549564361572266, -0.0046977996826171875, -0.008976936340332031, -0.11841440200805664, -0.0012493133544921875, -0.022098541259765625, -0.0036191940307617188, -0.0010509490966796875, -0.002552032470703125, -0.0021944046020507812, -0.036347389221191406, -0.034307003021240234, -0.0015163421630859375, -0.011087417602539062, -0.008058547973632812, -0.2762141227722168, -0.0015621185302734375, -0.009012222290039062, -0.0033130645751953125, -0.0012178421020507812, -0.00044918060302734375, -0.033577919006347656, -0.023092269897460938, -0.05953502655029297, -0.0050201416015625, -0.006447792053222656, -0.0038661956787109375, -0.022444725036621094, -0.003627777099609375, -0.006049156188964844, -0.0032749176025390625, -0.0023107528686523438, -0.017434120178222656, -0.00252532958984375, -0.18941640853881836, -0.004337310791015625, -0.00376129150390625, -0.006525993347167969, -0.007657051086425781, -0.28185033798217773, -0.3055267333984375, -0.010190963745117188, -0.0071849822998046875, -0.0013818740844726562, -0.0018749237060546875, -0.001949310302734375, -0.9461684226989746, -0.003574371337890625, -0.0058803558349609375, -0.022606849670410156, -0.002727508544921875, -0.003505706787109375, -0.00382232666015625, -0.06815481185913086, -0.017681121826171875, -0.00455474853515625, -0.011551856994628906, -0.6116857528686523, -0.0013446807861328125, -0.0003948211669921875, -0.0008325576782226562, -0.029015541076660156, -0.0024261474609375, -0.008495330810546875, -0.00251007080078125, -0.10407447814941406, -0.0046634674072265625, -0.03937244415283203, -0.008513450622558594, -0.03325080871582031, -0.05653095245361328, -0.0017547607421875, -0.023263931274414062, -0.0020198822021484375, -0.0036211013793945312, -0.0017604827880859375, -0.023107528686523438, -0.004679679870605469, -0.029771804809570312, -0.1425766944885254, -0.0706787109375, -0.003536224365234375, -0.20021867752075195, -0.0520477294921875, -0.00530242919921875, -0.0053577423095703125, -0.005893707275390625, -0.007443428039550781, -0.011914253234863281, -0.0022430419921875, -0.00041961669921875, -0.007237434387207031, -0.05776071548461914, -0.028593063354492188, -0.005320549011230469, -0.05247974395751953, -0.3742403984069824, -0.007143974304199219, -0.12652969360351562, -0.008461952209472656, -0.6670074462890625, -0.0013971328735351562, -0.01948833465576172, -0.026000022888183594, -0.10229301452636719, -0.005401611328125, -0.0062847137451171875, -0.005314826965332031, -0.07755708694458008, -0.015385627746582031, -0.008200645446777344, -0.0025157928466796875, -0.004261970520019531, -0.009020805358886719, -0.02080059051513672, -0.005283355712890625, -0.04970359802246094, -0.008681297302246094, -0.0010385513305664062, -0.0033559799194335938, -0.007908821105957031, -0.0017080307006835938, -0.8653030395507812, -0.17293596267700195, -0.002674102783203125, -0.004042625427246094, -0.013209342956542969, -0.009634017944335938, -0.010118961334228516, -0.0014209747314453125, -0.005642890930175781, -0.013588905334472656, -0.002349853515625, -0.013321399688720703, -0.11303997039794922, -0.11991405487060547, -0.032077789306640625, -0.0004730224609375, -0.007175445556640625, -0.040462493896484375, -0.0024089813232421875, -0.19335365295410156, -0.09048938751220703, -0.05021953582763672, -0.0006170272827148438, -0.02077198028564453, -0.09722900390625, -0.6939907073974609, -0.008577346801757812, -0.0038537979125976562, -0.03555774688720703, -0.011514663696289062, -0.0062007904052734375, -0.0020503997802734375, -0.04547834396362305, -0.03201866149902344, -0.013395309448242188, -0.0036792755126953125, -0.12336921691894531, -0.03961801528930664, -0.0024690628051757812, -0.0020093917846679688, -0.00231170654296875, -0.007452964782714844, -0.047089576721191406, -0.0015497207641601562, -0.0021562576293945312, -0.0009050369262695312, -0.03269672393798828, -0.0052509307861328125, -0.0019254684448242188, -0.00592803955078125, -0.004199981689453125, -0.3908414840698242, -0.009332656860351562, -0.005682945251464844, -0.0017080307006835938, -0.010128974914550781, -0.0017404556274414062, -0.0002727508544921875, -0.3064589500427246, -0.007239341735839844, -0.045907020568847656, -0.013159751892089844, -0.010271072387695312, -0.0018301010131835938, -0.004085540771484375, -0.0030012130737304688, -0.0015869140625, -0.015758514404296875, -0.000324249267578125, -0.0028200149536132812, -0.00159454345703125, -0.026647567749023438, -0.6624288558959961, -0.004033088684082031, -0.0028018951416015625, -0.009404182434082031, -0.012799263000488281, -0.0021600723266601562, -0.004025459289550781, -0.04169464111328125, -0.11602163314819336, -0.04327678680419922, -0.00135040283203125, -0.008810997009277344, -0.001392364501953125, -0.055509090423583984, -0.0019283294677734375, -1.2478725910186768, -0.027914047241210938, -0.11400604248046875, -0.004038810729980469, -0.008406639099121094, -0.0005121231079101562, -0.0820465087890625, -0.016576766967773438, -0.0030565261840820312, -0.06157112121582031, -0.004626274108886719, -0.05697345733642578, -0.00145721435546875, -0.005253791809082031, -0.12230300903320312, -0.01631641387939453, -0.008124351501464844, -0.01779460906982422, -0.0016269683837890625, -0.009177207946777344, -0.03215312957763672, -0.1987171173095703, -0.004282951354980469, -0.0042324066162109375, -0.026346206665039062, -0.0037679672241210938, -0.0032529830932617188, -0.20527267456054688, -0.008767127990722656, -0.05272626876831055, -0.23433160781860352, -0.004336357116699219, -0.024629592895507812, -0.009710311889648438, -0.0021600723266601562, -0.10088920593261719, -0.15371465682983398, -0.0011396408081054688, -0.0020627975463867188, -0.027787208557128906, -0.001430511474609375, -0.003139495849609375, -0.014814376831054688, -0.004298210144042969, -0.0004711151123046875, -0.0034465789794921875, -0.0021457672119140625, -0.06314945220947266, -0.34066247940063477, -0.03604316711425781, -0.007913589477539062, -0.04471921920776367, -0.08500003814697266, -0.0023431777954101562, -0.025345802307128906, -0.8406262397766113, -0.12348413467407227, -0.0017948150634765625, -0.0061206817626953125, -0.004811286926269531, -0.13878917694091797, -0.009273529052734375, -0.049158573150634766, -0.0006189346313476562, -0.1492443084716797, -0.0015287399291992188, -0.0013990402221679688, -0.023346900939941406, -0.10177469253540039, -0.0028133392333984375, -0.005911827087402344, -0.004139900207519531, -0.010201454162597656, -0.0719609260559082, -0.01092529296875, -0.06493806838989258, -0.005551338195800781, -0.026083946228027344, -0.08181428909301758, -1.0390455722808838, -0.006756782531738281, -0.00040531158447265625, -0.02275562286376953, -0.028214454650878906, -0.7426562309265137, -0.05767631530761719, -0.011353492736816406, -0.00334930419921875, -0.03792095184326172, -0.0021009445190429688, -0.007033348083496094, -0.0065517425537109375, -0.0004711151123046875, -0.7332005500793457, -0.0022687911987304688, -0.010605812072753906, -0.0018177032470703125, -0.0025787353515625, -0.010297775268554688, -0.009535789489746094, -0.0014677047729492188, -0.00293731689453125, -0.008527755737304688, -0.0031595230102539062, -0.32695865631103516, -0.008652687072753906, -0.016501426696777344, -0.11387157440185547, -0.0040721893310546875, -0.012569427490234375, -0.00048732757568359375, -0.0033054351806640625, -0.7964677810668945, -0.0025281906127929688, -0.0012979507446289062, -0.0033960342407226562, -0.007868766784667969, -0.02686309814453125, -0.0023260116577148438, -0.024894237518310547, -0.023763656616210938, -0.41490936279296875, -0.014850616455078125, -0.008672714233398438, -0.0001392364501953125, -0.0010051727294921875, -0.31638479232788086, -0.007306098937988281, -0.05549764633178711, -0.2696218490600586, -0.00017833709716796875, -0.00054168701171875, -0.0022230148315429688, -0.00360107421875, -0.025359153747558594, -0.0042209625244140625, -0.022979736328125, -0.028029441833496094, -0.0034589767456054688, -0.08441734313964844, -0.12213516235351562, -0.0023670196533203125, -0.004637718200683594, -0.012507438659667969, -0.0382843017578125, -0.7986350059509277, -0.000446319580078125, -0.5965309143066406, -0.006702423095703125, -0.009186744689941406, -0.13414621353149414, -0.0016298294067382812, -0.00039958953857421875, -0.07860946655273438, -0.008051872253417969, -0.016921043395996094, -0.026920318603515625, -0.037711143493652344, -0.06107616424560547, -0.008747100830078125, -0.2768688201904297, -0.0035839080810546875, -0.019542694091796875, -0.0023450851440429688, -0.005092620849609375, -0.14192819595336914, -0.5528240203857422, -0.2220745086669922, -0.009253501892089844, -0.00440216064453125, -0.27680349349975586, -0.5372953414916992, -0.0029058456420898438, -0.05542945861816406, -0.009416580200195312, -0.005728721618652344, -0.44409656524658203, -0.028778076171875, -0.00441741943359375, -0.04335308074951172, -0.012209892272949219, -0.0017251968383789062, -0.011120796203613281, -0.0009975433349609375, -0.7013101577758789, -0.10123109817504883, -0.10159969329833984, -0.06775760650634766, -0.6921253204345703, -0.32741880416870117, -0.06295299530029297, -0.016271114349365234, -0.0014324188232421875, -0.0007724761962890625, -0.46840429306030273, -0.00116729736328125, -0.01792621612548828, -0.0938405990600586, -0.008082389831542969, -0.023847579956054688, -0.018756866455078125, -0.07983589172363281, -0.0006008148193359375, -0.0022840499877929688, -0.0032367706298828125, -0.0027837753295898438, -0.0037069320678710938, -0.012608528137207031, -0.00025653839111328125, -0.04676055908203125, -0.014593124389648438, -0.0015554428100585938, -0.0027017593383789062, -0.0013628005981445312, -0.6984925270080566, -0.005364418029785156, -0.021724700927734375, -0.0028295516967773438, -0.010683059692382812, -0.00762939453125, -0.007956504821777344, -0.001888275146484375, -0.1007833480834961, -0.00014781951904296875, -0.0048675537109375, -0.003055572509765625, -0.0022249221801757812, -0.006051063537597656, -0.009523391723632812, -0.0034809112548828125, -0.0013370513916015625, -0.5838313102722168, -0.015882492065429688, -1.0253932476043701, -0.0012140274047851562, -0.00043392181396484375, -0.09629487991333008, -0.0006961822509765625, -0.0024995803833007812, -0.0028018951416015625, -0.0010747909545898438, -0.06433868408203125, -0.0006017684936523438, -0.034012794494628906, -0.0036945343017578125, -0.15483999252319336, -0.0036020278930664062, -0.0021028518676757812, -0.0037097930908203125, -0.034476280212402344, -0.03249359130859375, -0.0015630722045898438, -0.010090827941894531, -0.004899024963378906, -0.31006431579589844, -0.00408935546875, -0.3739047050476074, -0.000698089599609375, -0.0025386810302734375, -0.020780563354492188, -0.009156227111816406, -0.0066852569580078125, -0.007012367248535156, -0.010557174682617188, -0.004776954650878906, -0.07490062713623047, -0.041408538818359375, -0.08383846282958984, -0.0053844451904296875, -0.0035915374755859375, -0.0012359619140625, -0.0014600753784179688, -0.0035142898559570312, -0.33632993698120117, -0.008036613464355469, -0.008344650268554688, -0.0021715164184570312, -0.037178993225097656, -0.01517486572265625, -0.00191497802734375, -0.0035505294799804688, -0.0063457489013671875, -0.03903961181640625, -0.3907041549682617, -0.00173187255859375, -0.00041294097900390625, -0.008199691772460938, -0.0019788742065429688, -0.03331756591796875, -0.00319671630859375, -0.0017337799072265625, -0.5100083351135254, -0.0026063919067382812, -0.0036840438842773438, -0.03549957275390625, -0.01842498779296875, -0.001819610595703125, -0.00685882568359375, -0.06180095672607422, -0.07873153686523438, -0.005988121032714844, -0.012701034545898438, -0.0015325546264648438, -0.016814708709716797, -0.1429448127746582, -0.006253242492675781, -0.0015325546264648438, -0.0017824172973632812, -0.0024862289428710938, -0.0069980621337890625, -0.0017004013061523438, -0.019443511962890625, -0.0006122589111328125, -0.011424064636230469]\n"
     ]
    }
   ],
   "source": [
    "confidences_normal_rnn_adam = []\n",
    "for l in predictions:\n",
    "    for l_in in l:\n",
    "        confidences_normal_rnn_adam.append(l_in.item())\n",
    "#confidences_normal_rnn = torch.cat(confidences_normal_rnn)\n",
    "print ((confidences_normal_rnn_adam))"
   ]
  },
  {
   "cell_type": "code",
   "execution_count": 31,
   "metadata": {
    "hidden": true
   },
   "outputs": [
    {
     "name": "stdout",
     "output_type": "stream",
     "text": [
      "1421\n"
     ]
    }
   ],
   "source": [
    "confidences_normal_rnn_adam_true = []\n",
    "for l in predictions_true:\n",
    "    for l_in in l:\n",
    "        confidences_normal_rnn_adam_true.append(l_in.item())\n",
    "#confidences_normal_rnn = torch.cat(confidences_normal_rnn)\n",
    "print (len(confidences_normal_rnn_adam_true))"
   ]
  },
  {
   "cell_type": "code",
   "execution_count": 32,
   "metadata": {
    "hidden": true
   },
   "outputs": [
    {
     "name": "stdout",
     "output_type": "stream",
     "text": [
      "70\n"
     ]
    }
   ],
   "source": [
    "confidences_normal_rnn_adam_false = []\n",
    "for l in predictions_false:\n",
    "    for l_in in l:\n",
    "        confidences_normal_rnn_adam_false.append(l_in.item())\n",
    "#confidences_normal_rnn = torch.cat(confidences_normal_rnn)\n",
    "print (len(confidences_normal_rnn_adam_false))"
   ]
  },
  {
   "cell_type": "code",
   "execution_count": 21,
   "metadata": {
    "hidden": true
   },
   "outputs": [
    {
     "name": "stderr",
     "output_type": "stream",
     "text": [
      "/home/nafizh/anaconda3/lib/python3.6/site-packages/torch/nn/modules/rnn.py:46: UserWarning: dropout option adds dropout after all but last recurrent layer, so non-zero dropout expects num_layers greater than 1, but got dropout=0.4 and num_layers=1\n",
      "  \"num_layers={}\".format(dropout, num_layers))\n",
      "/home/nafizh/anaconda3/lib/python3.6/site-packages/torch/nn/functional.py:1089: UserWarning: nn.functional.tanh is deprecated. Use torch.tanh instead.\n",
      "  warnings.warn(\"nn.functional.tanh is deprecated. Use torch.tanh instead.\")\n"
     ]
    }
   ],
   "source": [
    "import sgldRNN_ab_res\n",
    "sgld_rnn = sgldRNN_ab_res.SelfAttentionRNNsgld(hidden_size = 128, num_layers = 1, nb_tokens = 20, \n",
    "                                              embedding_dim = 400, num_classes = 15)\n",
    "sgld_rnn = sgld_rnn.cuda()\n",
    "sgld_rnn.load_state_dict(torch.load('psgld_rnn_with_att_ab_res_0.375431_acc_96.311475_cyclical.pkl'))\n",
    "\n",
    "\n",
    "sgld_rnn.eval()\n",
    "correct = 0\n",
    "total = 0\n",
    "predictions = []\n",
    "predictions_true = []\n",
    "predictions_false = []\n",
    "for seqs, labels in test_dataloader:\n",
    "    sgld_rnn.batch_size = seqs.size(0)\n",
    "    sgld_rnn.hidden_state = sgld_rnn.init_hidden()\n",
    "    \n",
    "    seqs = Variable(seqs).long().cuda()\n",
    "    #labels = Variable(labels).long().cuda()\n",
    "    \n",
    "    outputs, att = sgld_rnn(seqs)\n",
    "    #print (outputs)\n",
    "    #print (torch.sum(outputs, 1))\n",
    "    predicted, predicted_labels = torch.max(outputs.data, 1)\n",
    "    predictions.append(predicted)\n",
    "    #print (predicted)\n",
    "    #print (predicted_labels)\n",
    "    #print (labels)\n",
    "    \n",
    "    # Take only probabilities where the prediction is true\n",
    "    predictions_true.append(predicted[predicted_labels.cpu() == labels.long()])\n",
    "    predictions_false.append(predicted[predicted_labels.cpu() != labels.long()])\n",
    "    #print ('hello')\n",
    "    #print (torch.exp(outputs))\n",
    "    #break\n",
    "    \n",
    "    \n",
    "# print('Validation Accuracy of the model: %f %%' % (100 * correct.item() / total)) \n",
    "# print (len(predictions))"
   ]
  },
  {
   "cell_type": "code",
   "execution_count": 22,
   "metadata": {
    "hidden": true
   },
   "outputs": [
    {
     "name": "stdout",
     "output_type": "stream",
     "text": [
      "torch.Size([4])\n",
      "torch.Size([60])\n",
      "torch.Size([64])\n"
     ]
    }
   ],
   "source": [
    "print (predictions_false[0].size())\n",
    "print (predictions_true[0].size())\n",
    "print (predictions[0].size())"
   ]
  },
  {
   "cell_type": "code",
   "execution_count": 23,
   "metadata": {
    "hidden": true
   },
   "outputs": [
    {
     "name": "stdout",
     "output_type": "stream",
     "text": [
      "1491\n"
     ]
    }
   ],
   "source": [
    "confidences_bayesian_rnn = []\n",
    "for l in predictions:\n",
    "    for l_in in l:\n",
    "        confidences_bayesian_rnn.append(l_in.item())\n",
    "#confidences_normal_rnn = torch.cat(confidences_normal_rnn)\n",
    "print (len(confidences_bayesian_rnn))"
   ]
  },
  {
   "cell_type": "code",
   "execution_count": 24,
   "metadata": {
    "hidden": true
   },
   "outputs": [
    {
     "name": "stdout",
     "output_type": "stream",
     "text": [
      "1422\n"
     ]
    }
   ],
   "source": [
    "confidences_bayesian_rnn_true = []\n",
    "for l in predictions_true:\n",
    "    for l_in in l:\n",
    "        confidences_bayesian_rnn_true.append(l_in.item())\n",
    "#confidences_normal_rnn = torch.cat(confidences_normal_rnn)\n",
    "print (len(confidences_bayesian_rnn_true))"
   ]
  },
  {
   "cell_type": "code",
   "execution_count": 25,
   "metadata": {
    "hidden": true
   },
   "outputs": [
    {
     "name": "stdout",
     "output_type": "stream",
     "text": [
      "69\n"
     ]
    }
   ],
   "source": [
    "confidences_bayesian_rnn_false = []\n",
    "for l in predictions_false:\n",
    "    for l_in in l:\n",
    "        confidences_bayesian_rnn_false.append(l_in.item())\n",
    "#confidences_normal_rnn = torch.cat(confidences_normal_rnn)\n",
    "print (len(confidences_bayesian_rnn_false))"
   ]
  },
  {
   "cell_type": "code",
   "execution_count": 118,
   "metadata": {
    "hidden": true
   },
   "outputs": [],
   "source": [
    "confidences_normal_rnn_adam_true = np.load('adam_normal_rnn_correct_predictions_test_data_in_dist_ab_res.npy')\n",
    "confidences_bayesian_rnn_true = np.load('psgld_bayesian_rnn_correct_predictions_test_data_in_dist_ab_res.npy')"
   ]
  },
  {
   "cell_type": "code",
   "execution_count": 125,
   "metadata": {
    "hidden": true
   },
   "outputs": [
    {
     "data": {
      "image/png": "[encoded data removed]",
      "text/plain": [
       "<Figure size 864x648 with 1 Axes>"
      ]
     },
     "metadata": {},
     "output_type": "display_data"
    }
   ],
   "source": [
    "import seaborn as sns\n",
    "sns.set_style(\"white\")\n",
    "plt.rc('ytick',labelsize=18)\n",
    "plt.rc('xtick',labelsize=18)\n",
    "fig, axs = plt.subplots(1, 1, figsize=(12, 9))\n",
    "axs.set_xlim(0.0, 1.0)\n",
    "axs.set_ylim(0.0, 1500.0)\n",
    "#axs.scatter(range(67), confidences.data.cpu().numpy())\n",
    "bins = np.linspace(0, 1, 30)\n",
    "# axs.hist(x=np.exp(confidences_normal_rnn_true), bins = bins, color = 'blue', alpha = 0.5,\n",
    "#          edgecolor = \"black\", label = 'RMSProp')# fc=(0, 0, 1, 0.5))\n",
    "axs.hist(x=np.exp(confidences_normal_rnn_adam_true), bins = bins, color = 'blue', alpha = 0.5,\n",
    "         edgecolor = \"black\", label = 'ADAM')\n",
    "axs.hist(x=np.exp(confidences_bayesian_rnn_true), bins = bins, alpha = 0.5, color = 'green', \n",
    "         edgecolor = \"black\", label = 'pSGLD')\n",
    "\n",
    "# plt.hist([np.exp(confidences_bayesian_rnn_true), np.exp(confidences_normal_rnn_adam_true)], bins, \n",
    "#           label=['pSGLD', 'ADAM'],\n",
    "#         color = ['green', 'blue'], alpha = 0.6, edgecolor = \"black\")\n",
    "\n",
    "plt.tick_params(size = 10)\n",
    "axs.set_xlabel('Probability of predicted class', fontsize = 22)\n",
    "axs.set_ylabel('Count of protein sequences', fontsize = 22)\n",
    "axs.spines[\"top\"].set_visible(False)  \n",
    "axs.spines[\"right\"].set_visible(False)\n",
    "axs.figure.set_size_inches(12, 9)\n",
    "axs.legend(loc = 'upper right', fontsize=20)\n",
    "axs.figure.savefig('prob_of_pred_ab_test_data_correct_rms_adam_psgld.pdf', format = 'pdf', dpi = 1200, bbox_inches=\"tight\")\n",
    "axs.figure.savefig('prob_of_pred_ab_test_data_correct_rms_adam_psgld.svg', format = 'svg', dpi = 1200, bbox_inches=\"tight\")\n",
    "axs.figure.savefig('prob_of_pred_ab_test_data_correct_rms_adam_psgld.eps', format = 'eps', dpi = 1200, bbox_inches=\"tight\")\n",
    "\n",
    "\n",
    "# axs.hist([confidences_bayesian_rnn, confidences_normal_rnn], bins, color = ['blue', 'g'],\n",
    "#         alpha = 0.5)\n",
    "#        fc=(1, 0, 0, 0.5))\n",
    "#axs.bar(range(67), confidences.data.cpu().numpy())"
   ]
  },
  {
   "cell_type": "code",
   "execution_count": 126,
   "metadata": {
    "hidden": true
   },
   "outputs": [],
   "source": [
    "confidences_normal_rnn_adam_false = np.load('adam_normal_rnn_incorrect_predictions_test_data_in_dist_ab_res.npy')\n",
    "confidences_bayesian_rnn_false = np.load('psgld_bayesian_rnn_incorrect_predictions_test_data_in_dist_ab_res.npy')"
   ]
  },
  {
   "cell_type": "code",
   "execution_count": 128,
   "metadata": {
    "hidden": true
   },
   "outputs": [
    {
     "data": {
      "image/png": "[encoded data removed]",
      "text/plain": [
       "<Figure size 864x648 with 1 Axes>"
      ]
     },
     "metadata": {},
     "output_type": "display_data"
    }
   ],
   "source": [
    "import seaborn as sns\n",
    "sns.set_style(\"white\")\n",
    "plt.rc('ytick',labelsize=18)\n",
    "plt.rc('xtick',labelsize=18)\n",
    "fig, axs = plt.subplots(1, 1, figsize=(12, 9))\n",
    "axs.set_xlim(0.0, 1.0)\n",
    "axs.set_ylim(0.0, 30.0)\n",
    "#axs.scatter(range(67), confidences.data.cpu().numpy())\n",
    "bins = np.linspace(0, 1, 30)\n",
    "# axs.hist(x=np.exp(confidences_normal_rnn_false), bins = bins, color = 'blue', alpha = 0.5,\n",
    "#          edgecolor = \"black\", label = 'RMSProp')# fc=(0, 0, 1, 0.5))\n",
    "axs.hist(x=np.exp(confidences_normal_rnn_adam_false), bins = bins, color = 'blue', alpha = 0.5,\n",
    "         edgecolor = \"black\", label = 'ADAM')\n",
    "axs.hist(x=np.exp(confidences_bayesian_rnn_false), bins = bins, alpha = 0.5, color = 'green', \n",
    "         edgecolor = \"black\", label = 'pSGLD')\n",
    "\n",
    "# plt.hist([np.exp(confidences_bayesian_rnn_false), np.exp(confidences_normal_rnn_adam_false),\n",
    "#          np.exp(confidences_normal_rnn_false)], bins, label=['pSGLD', 'ADAM', 'RMSprop'],\n",
    "#         color = ['green', 'red', 'blue'], alpha = 0.6, edgecolor = \"black\")\n",
    "plt.tick_params(size = 10)\n",
    "axs.set_xlabel('Probability of predicted class', fontsize = 22)\n",
    "axs.set_ylabel('Count of protein sequences', fontsize = 22)\n",
    "axs.spines[\"top\"].set_visible(False)  \n",
    "axs.spines[\"right\"].set_visible(False)\n",
    "axs.figure.set_size_inches(12, 9)\n",
    "axs.legend(loc = 'upper right', fontsize=20)\n",
    "axs.figure.savefig('prob_of_pred_ab_test_data_incorrect_rms_adam_psgld.pdf', format = 'pdf', dpi = 1200, bbox_inches=\"tight\")\n",
    "axs.figure.savefig('prob_of_pred_ab_test_data_incorrect_rms_adam_psgld.svg', format = 'svg', dpi = 1200, bbox_inches=\"tight\")\n",
    "axs.figure.savefig('prob_of_pred_ab_test_data_incorrect_rms_adam_psgld.eps', format = 'eps', dpi = 1200, bbox_inches=\"tight\")\n",
    "\n",
    "\n",
    "# axs.hist([confidences_bayesian_rnn, confidences_normal_rnn], bins, color = ['blue', 'g'],\n",
    "#         alpha = 0.5)\n",
    "#        fc=(1, 0, 0, 0.5))\n",
    "#axs.bar(range(67), confidences.data.cpu().numpy())"
   ]
  },
  {
   "cell_type": "markdown",
   "metadata": {},
   "source": [
    "## Applying on the not included datasets classes"
   ]
  },
  {
   "cell_type": "code",
   "execution_count": 10,
   "metadata": {},
   "outputs": [
    {
     "name": "stdout",
     "output_type": "stream",
     "text": [
      "692\n",
      " M T K K N I R P Q Q V A P V E R E T I S T A K D Q S G Q V Q A Q S S V I W G S P V P F A G D D A E\n"
     ]
    }
   ],
   "source": [
    "# # Creating lists of separate trigrams for each sequence\n",
    "# print('Processing text dataset')\n",
    "\n",
    "texts = []\n",
    "for index, record in enumerate(SeqIO.parse('primary_bacteriocin_training_set', 'fasta')):\n",
    "    #tri_tokens = trigrams(record.seq)\n",
    "    temp_str = \"\"\n",
    "    for item in (record.seq):\n",
    "        if item in amino_acids:\n",
    "            temp_str = temp_str + \" \" + item\n",
    "    #print (temp_str)\n",
    "    texts.append(temp_str)\n",
    "    #break\n",
    "    #break\n",
    "print (len(texts))\n",
    "print (texts[0])"
   ]
  },
  {
   "cell_type": "code",
   "execution_count": 639,
   "metadata": {},
   "outputs": [],
   "source": [
    "#np.save('not_included_ab_res_texts.npy', texts)\n",
    "#np.save('ab_res_whole_dataset_texts.npy', texts)"
   ]
  },
  {
   "cell_type": "code",
   "execution_count": 72,
   "metadata": {},
   "outputs": [
    {
     "name": "stdout",
     "output_type": "stream",
     "text": [
      "Found 20 unique tokens.\n"
     ]
    }
   ],
   "source": [
    "texts = np.load('ab_res_whole_dataset_texts.npy')\n",
    "\n",
    "MAX_SEQUENCE_LENGTH = 1600\n",
    "MAX_NB_CHARS = 20\n",
    "tokenizer = Tokenizer(num_words=MAX_NB_CHARS) #MAX_NB_WORDS = 10334\n",
    "tokenizer.fit_on_texts(texts)\n",
    "sequences = tokenizer.texts_to_sequences(texts)\n",
    "\n",
    "char_index = tokenizer.word_index\n",
    "print('Found %s unique tokens.' % len(char_index))"
   ]
  },
  {
   "cell_type": "code",
   "execution_count": 73,
   "metadata": {},
   "outputs": [],
   "source": [
    "# 67 datapoints that belong to the 18 classes we did not include\n",
    "new_texts = np.load('not_included_ab_res_texts.npy')"
   ]
  },
  {
   "cell_type": "code",
   "execution_count": 74,
   "metadata": {},
   "outputs": [
    {
     "name": "stdout",
     "output_type": "stream",
     "text": [
      "Found 20 unique tokens.\n"
     ]
    }
   ],
   "source": [
    "# this tokenizer is defined on the training text and should not change\n",
    "# otherwise, the chacter index dictionary changes\n",
    "new_sequences = tokenizer.texts_to_sequences(new_texts)\n",
    "\n",
    "ab_char_index = tokenizer.word_index\n",
    "print('Found %s unique tokens.' % len(char_index))"
   ]
  },
  {
   "cell_type": "code",
   "execution_count": 75,
   "metadata": {},
   "outputs": [
    {
     "name": "stdout",
     "output_type": "stream",
     "text": [
      "67\n",
      "<class 'dict'>\n",
      "{'l': 1, 'a': 2, 'g': 3, 'v': 4, 'i': 5, 's': 6, 't': 7, 'f': 8, 'r': 9, 'e': 10, 'k': 11, 'd': 12, 'p': 13, 'q': 14, 'n': 15, 'y': 16, 'm': 17, 'h': 18, 'w': 19, 'c': 20}\n"
     ]
    }
   ],
   "source": [
    "print (len(new_sequences))\n",
    "#print (sequences[0])\n",
    "print (type(char_index))\n",
    "print (ab_char_index)"
   ]
  },
  {
   "cell_type": "code",
   "execution_count": 76,
   "metadata": {},
   "outputs": [
    {
     "data": {
      "text/plain": [
       "True"
      ]
     },
     "execution_count": 76,
     "metadata": {},
     "output_type": "execute_result"
    }
   ],
   "source": [
    "ab_char_index == char_index"
   ]
  },
  {
   "cell_type": "code",
   "execution_count": 77,
   "metadata": {},
   "outputs": [
    {
     "name": "stdout",
     "output_type": "stream",
     "text": [
      "Shape of data tensor: (67, 1600)\n"
     ]
    }
   ],
   "source": [
    "data = pad_sequences(new_sequences, maxlen=MAX_SEQUENCE_LENGTH) #MAX_SEQUENCE_LENGTH = 1602\n",
    "\n",
    "#labels = to_categorical(np.asarray(labels))\n",
    "print('Shape of data tensor:', data.shape)"
   ]
  },
  {
   "cell_type": "code",
   "execution_count": 78,
   "metadata": {},
   "outputs": [
    {
     "data": {
      "text/plain": [
       "(67, 1600)"
      ]
     },
     "execution_count": 78,
     "metadata": {},
     "output_type": "execute_result"
    }
   ],
   "source": [
    "data.shape"
   ]
  },
  {
   "cell_type": "code",
   "execution_count": 79,
   "metadata": {},
   "outputs": [
    {
     "name": "stdout",
     "output_type": "stream",
     "text": [
      "(67, 1)\n"
     ]
    }
   ],
   "source": [
    "#type(data)\n",
    "y_ = np.zeros([data.shape[0], 1])\n",
    "print (y_.shape)"
   ]
  },
  {
   "cell_type": "code",
   "execution_count": 86,
   "metadata": {},
   "outputs": [
    {
     "name": "stderr",
     "output_type": "stream",
     "text": [
      "/home/nafizh/anaconda3/lib/python3.6/site-packages/torch/nn/functional.py:1089: UserWarning: nn.functional.tanh is deprecated. Use torch.tanh instead.\n",
      "  warnings.warn(\"nn.functional.tanh is deprecated. Use torch.tanh instead.\")\n"
     ]
    }
   ],
   "source": [
    "import normalRNN_ab_res_ADAM\n",
    "normal_rnn = normalRNN_ab_res_ADAM.SelfAttentionRNNnormal(hidden_size = 64, num_layers = 3, nb_tokens = 20, \n",
    "                                              embedding_dim = 10, num_classes = 15)\n",
    "normal_rnn = normal_rnn.cuda()\n",
    "normal_rnn.load_state_dict(torch.load('rnn_with_attention_whole_ab_resistance_model_adam.pkl'))\n",
    "\n",
    "val_tensor_x = torch.from_numpy(data)\n",
    "val_tensor_y = torch.from_numpy(y_)\n",
    "\n",
    "# create your dataset\n",
    "val_dataset = torch.utils.data.TensorDataset(val_tensor_x, val_tensor_y) \n",
    "# create your dataloader\n",
    "val_dataloader = torch.utils.data.DataLoader(val_dataset, batch_size=64,\n",
    "                                             shuffle = False, \n",
    "                                                        drop_last = False, \n",
    "                                                         pin_memory = True) \n",
    "\n",
    "normal_rnn.eval()\n",
    "# correct = 0\n",
    "# total = 0\n",
    "predictions = []\n",
    "for seqs, _ in val_dataloader:\n",
    "    normal_rnn.batch_size = seqs.size(0)\n",
    "    normal_rnn.hidden_state = normal_rnn.init_hidden()\n",
    "    \n",
    "    seqs = Variable(seqs).long().cuda()\n",
    "    #labels = Variable(labels).long().cuda()\n",
    "    \n",
    "    outputs, att = normal_rnn(seqs)\n",
    "    #print (outputs)\n",
    "    #print (torch.sum(outputs, 1))\n",
    "    predicted, predicted_labels = torch.max(outputs.data, 1)\n",
    "    #predicted = torch.max(F.softmax(outputs.data), 1)[0]\n",
    "    predictions.append(predicted)"
   ]
  },
  {
   "cell_type": "code",
   "execution_count": 87,
   "metadata": {},
   "outputs": [
    {
     "name": "stdout",
     "output_type": "stream",
     "text": [
      "67\n"
     ]
    }
   ],
   "source": [
    "confidences_normal_rnn_adam = []\n",
    "for l in predictions:\n",
    "    for l_in in l:\n",
    "        confidences_normal_rnn_adam.append(l_in.item())\n",
    "#confidences_normal_rnn = torch.cat(confidences_normal_rnn)\n",
    "print (len(confidences_normal_rnn_adam))"
   ]
  },
  {
   "cell_type": "code",
   "execution_count": 88,
   "metadata": {},
   "outputs": [],
   "source": [
    "#np.save('adam_normal_rnn_all_predictions_not_included_classes_out_dist_ab_res.npy', confidences_normal_rnn_adam)"
   ]
  },
  {
   "cell_type": "code",
   "execution_count": 83,
   "metadata": {},
   "outputs": [
    {
     "name": "stderr",
     "output_type": "stream",
     "text": [
      "/home/nafizh/anaconda3/lib/python3.6/site-packages/torch/nn/modules/rnn.py:46: UserWarning: dropout option adds dropout after all but last recurrent layer, so non-zero dropout expects num_layers greater than 1, but got dropout=0.4 and num_layers=1\n",
      "  \"num_layers={}\".format(dropout, num_layers))\n",
      "/home/nafizh/anaconda3/lib/python3.6/site-packages/torch/nn/functional.py:1089: UserWarning: nn.functional.tanh is deprecated. Use torch.tanh instead.\n",
      "  warnings.warn(\"nn.functional.tanh is deprecated. Use torch.tanh instead.\")\n"
     ]
    }
   ],
   "source": [
    "import sgldRNN_ab_res\n",
    "sgld_rnn = sgldRNN_ab_res.SelfAttentionRNNsgld(hidden_size = 128, num_layers = 1, nb_tokens = 20, \n",
    "                                              embedding_dim = 400, num_classes = 15)\n",
    "sgld_rnn = sgld_rnn.cuda()\n",
    "sgld_rnn.load_state_dict(torch.load('psgld_rnn_with_att_ab_res_0.375431_acc_96.311475_cyclical.pkl'))\n",
    "\n",
    "\n",
    "val_tensor_x = torch.from_numpy(data)\n",
    "val_tensor_y = torch.from_numpy(y_)\n",
    "\n",
    "# create your dataset\n",
    "val_dataset = torch.utils.data.TensorDataset(val_tensor_x, val_tensor_y) \n",
    "# create your dataloader\n",
    "val_dataloader = torch.utils.data.DataLoader(val_dataset, batch_size=64,\n",
    "                                             shuffle = False, \n",
    "                                                        drop_last = False, \n",
    "                                                         pin_memory = True) \n",
    "\n",
    "sgld_rnn.eval()\n",
    "# correct = 0\n",
    "# total = 0\n",
    "predictions = []\n",
    "for seqs, _ in val_dataloader:\n",
    "    sgld_rnn.batch_size = seqs.size(0)\n",
    "    sgld_rnn.hidden_state = sgld_rnn.init_hidden()\n",
    "    \n",
    "    seqs = Variable(seqs).long().cuda()\n",
    "    #labels = Variable(labels).long().cuda()\n",
    "    \n",
    "    outputs, att = sgld_rnn(seqs)\n",
    "    #print (outputs)\n",
    "    #print (torch.sum(outputs, 1))\n",
    "    predicted, predicted_labels = torch.max(outputs.data, 1)\n",
    "    #predicted = torch.max(F.softmax(outputs.data), 1)[0]\n",
    "    predictions.append(predicted)"
   ]
  },
  {
   "cell_type": "code",
   "execution_count": 84,
   "metadata": {},
   "outputs": [
    {
     "name": "stdout",
     "output_type": "stream",
     "text": [
      "67\n"
     ]
    }
   ],
   "source": [
    "confidences_bayesian_rnn = []\n",
    "for l in predictions:\n",
    "    for l_in in l:\n",
    "        confidences_bayesian_rnn.append(l_in.item())\n",
    "#confidences_normal_rnn = torch.cat(confidences_normal_rnn)\n",
    "print (len(confidences_bayesian_rnn))"
   ]
  },
  {
   "cell_type": "code",
   "execution_count": 85,
   "metadata": {},
   "outputs": [],
   "source": [
    "#np.save('psgld_bayesian_rnn_all_predictions_not_included_classes_out_dist_ab_res.npy', confidences_bayesian_rnn)"
   ]
  },
  {
   "cell_type": "code",
   "execution_count": 129,
   "metadata": {},
   "outputs": [],
   "source": [
    "confidences_bayesian_rnn = np.load('psgld_bayesian_rnn_all_predictions_not_included_classes_out_dist_ab_res.npy')\n",
    "confidences_normal_rnn_adam =  np.load('adam_normal_rnn_all_predictions_not_included_classes_out_dist_ab_res.npy')"
   ]
  },
  {
   "cell_type": "code",
   "execution_count": 132,
   "metadata": {},
   "outputs": [
    {
     "data": {
      "image/png": "[encoded data removed]",
      "text/plain": [
       "<Figure size 864x648 with 1 Axes>"
      ]
     },
     "metadata": {},
     "output_type": "display_data"
    }
   ],
   "source": [
    "import seaborn as sns\n",
    "sns.set_style(\"white\")\n",
    "plt.rc('ytick',labelsize=18)\n",
    "plt.rc('xtick',labelsize=18)\n",
    "fig, axs = plt.subplots(1, 1, figsize=(12, 9))\n",
    "axs.set_xlim(0.0, 1.0)\n",
    "axs.set_ylim(0.0, 30.0)\n",
    "#axs.scatter(range(67), confidences.data.cpu().numpy())\n",
    "bins = np.linspace(0, 1, 30)\n",
    "axs.hist(x=np.exp(confidences_normal_rnn_adam), bins = bins, color = 'blue', alpha = 0.5,\n",
    "         edgecolor = \"black\", label = 'Adam')# fc=(0, 0, 1, 0.5))\n",
    "axs.hist(x=np.exp(confidences_bayesian_rnn), bins = bins, alpha = 0.5, color = 'green', \n",
    "         edgecolor = \"black\", label = 'pSGLD')\n",
    "\n",
    "# plt.hist([np.exp(confidences_bayesian_rnn), np.exp(confidences_normal_rnn_adam),\n",
    "#          np.exp(confidences_normal_rnn)], bins, label=['pSGLD', 'ADAM', 'RMSprop'],\n",
    "#         color = ['green', 'red', 'blue'], alpha = 0.6, edgecolor = \"black\")\n",
    "\n",
    "plt.tick_params(size = 10)\n",
    "axs.set_xlabel('Probability of predicted class', fontsize = 22)\n",
    "axs.set_ylabel('Count of protein sequences', fontsize = 22)\n",
    "axs.spines[\"top\"].set_visible(False)  \n",
    "axs.spines[\"right\"].set_visible(False)\n",
    "axs.figure.set_size_inches(12, 9)\n",
    "axs.legend(loc = 'upper right', fontsize=20)\n",
    "axs.figure.savefig('prob_of_pred_ab_test_data_not_included_classes.pdf', format = 'pdf', dpi = 1200, bbox_inches=\"tight\")\n",
    "axs.figure.savefig('prob_of_pred_ab_test_data_not_included_classes.svg', format = 'svg', dpi = 1200, bbox_inches=\"tight\")\n",
    "axs.figure.savefig('prob_of_pred_ab_test_data_not_included_classes.eps', format = 'eps', dpi = 1200, bbox_inches=\"tight\")\n",
    "\n",
    "\n",
    "# axs.hist([confidences_bayesian_rnn, confidences_normal_rnn], bins, color = ['blue', 'g'],\n",
    "#         alpha = 0.5)\n",
    "#        fc=(1, 0, 0, 0.5))\n",
    "#axs.bar(range(67), confidences.data.cpu().numpy())"
   ]
  },
  {
   "cell_type": "markdown",
   "metadata": {
    "collapsed": true
   },
   "source": [
    "## Applying on human proteins"
   ]
  },
  {
   "cell_type": "code",
   "execution_count": 79,
   "metadata": {},
   "outputs": [
    {
     "name": "stdout",
     "output_type": "stream",
     "text": [
      "Done\n"
     ]
    }
   ],
   "source": [
    "out_handle = open('uniprot_not_keyword_antibiotic_resistance_length_1600.fasta', 'w')\n",
    "with open('uniprot_not_keyword_antibiotic_resistance_KW-0046_-filtered-organis--.fasta', 'r') as in_handle:\n",
    "    for index, record in enumerate(SeqIO.parse(in_handle, 'fasta')):\n",
    "        if len(record.seq) <= 1600:\n",
    "            out_handle.write(\">%s\\n%s\\n\" % (record.description, record.seq))\n",
    "out_handle.close()\n",
    "print (\"Done\")"
   ]
  },
  {
   "cell_type": "code",
   "execution_count": 80,
   "metadata": {},
   "outputs": [
    {
     "name": "stdout",
     "output_type": "stream",
     "text": [
      "19576\n",
      " M K Y I L V T G G V I S G I G K G I I A S S V G T I L K S C G L H V T S I K I D P Y I N I D A G T F S P Y E H G E V F V L D D G G E V D L D L G N Y E R F L D I R L T K D N N L T T G K I Y Q Y V I N K E R K G D Y L G K T V Q V V P H I T D A I Q E W V M R Q A L I P V D E D G L E P Q V C V I E L G G T V G D I E S M P F I E A F R Q F Q F K V K R E N F C N I H V S L V P Q P S S T G E Q K T K P T Q N S V R E L R G L G L S P D L V V C R C S N P L D T S V K E K I S M F C H V E P E Q V I C V H D V S S I Y R V P L L L E E Q G V V D Y F L R R L D L P I E R Q P R K M L M K W K E M A D R Y D R L L E T C S I A L V G K Y T K F S D S Y A S V I K A L E H S A L A I N H K L E I K Y I D S A D L E P I T S Q E E P V R Y H E A W Q K L C S A H G V L V P G G F G V R G T E G K I Q A I A W A R N Q K K P F L G V C L G M Q L A V V E F S R N V L G W Q D A N S T E F D P T T S H P V V V D M P E H N P G Q M G G T M R L G K R R T L F Q T K N S V M R K L Y G D A D Y L E E R H R H R F E V N P V W K K C L E E Q G L K F V G Q D V E G E R M E I V E L E D H P F F V G V Q Y H P E F L S R P I K P S P P Y F G L L L A S V G R L S H Y L Q K G C R L S P R D T Y S D R S G S S S P D S E I T E L K F P S I N H D\n"
     ]
    }
   ],
   "source": [
    "texts = []\n",
    "for index, record in enumerate(SeqIO.parse('uniprot_not_keyword_antibiotic_resistance_length_1600.fasta', 'fasta')):\n",
    "    #tri_tokens = trigrams(record.seq)\n",
    "    temp_str = \"\"\n",
    "    for item in (record.seq):\n",
    "        if item in amino_acids:\n",
    "            temp_str = temp_str + \" \" + item\n",
    "    #print (temp_str)\n",
    "    texts.append(temp_str)\n",
    "    #break\n",
    "    #break\n",
    "print (len(texts))\n",
    "print (texts[0])"
   ]
  },
  {
   "cell_type": "code",
   "execution_count": 81,
   "metadata": {},
   "outputs": [],
   "source": [
    "#np.save('uniprot_not_ab_res_human_1600.npy', texts)"
   ]
  },
  {
   "cell_type": "code",
   "execution_count": 99,
   "metadata": {},
   "outputs": [
    {
     "name": "stdout",
     "output_type": "stream",
     "text": [
      "Found 20 unique tokens.\n"
     ]
    }
   ],
   "source": [
    "texts = np.load('ab_res_whole_dataset_texts.npy')\n",
    "\n",
    "MAX_SEQUENCE_LENGTH = 1600\n",
    "MAX_NB_CHARS = 20\n",
    "tokenizer = Tokenizer(num_words=MAX_NB_CHARS) #MAX_NB_WORDS = 10334\n",
    "tokenizer.fit_on_texts(texts)\n",
    "sequences = tokenizer.texts_to_sequences(texts)\n",
    "\n",
    "char_index = tokenizer.word_index\n",
    "print('Found %s unique tokens.' % len(char_index))"
   ]
  },
  {
   "cell_type": "code",
   "execution_count": 100,
   "metadata": {},
   "outputs": [
    {
     "name": "stdout",
     "output_type": "stream",
     "text": [
      "Found 20 unique tokens.\n",
      "19576\n",
      "<class 'dict'>\n",
      "{'l': 1, 'a': 2, 'g': 3, 'v': 4, 'i': 5, 's': 6, 't': 7, 'f': 8, 'r': 9, 'e': 10, 'k': 11, 'd': 12, 'p': 13, 'q': 14, 'n': 15, 'y': 16, 'm': 17, 'h': 18, 'w': 19, 'c': 20}\n",
      "True\n",
      "Shape of data tensor: (19576, 1600)\n",
      "(19576, 1)\n"
     ]
    }
   ],
   "source": [
    "new_texts = np.load('uniprot_not_ab_res_human_1600.npy')\n",
    "new_sequences = tokenizer.texts_to_sequences(new_texts)\n",
    "\n",
    "ab_char_index = tokenizer.word_index\n",
    "print('Found %s unique tokens.' % len(char_index))\n",
    "print (len(new_sequences))\n",
    "#print (sequences[0])\n",
    "print (type(char_index))\n",
    "print (ab_char_index)\n",
    "print (ab_char_index == char_index)\n",
    "data = pad_sequences(new_sequences, maxlen=MAX_SEQUENCE_LENGTH) #MAX_SEQUENCE_LENGTH = 1602\n",
    "\n",
    "#labels = to_categorical(np.asarray(labels))\n",
    "print('Shape of data tensor:', data.shape)\n",
    "#type(data)\n",
    "y_ = np.zeros([data.shape[0], 1])\n",
    "print (y_.shape)"
   ]
  },
  {
   "cell_type": "code",
   "execution_count": 107,
   "metadata": {},
   "outputs": [
    {
     "name": "stderr",
     "output_type": "stream",
     "text": [
      "/home/nafizh/anaconda3/lib/python3.6/site-packages/torch/nn/functional.py:1089: UserWarning: nn.functional.tanh is deprecated. Use torch.tanh instead.\n",
      "  warnings.warn(\"nn.functional.tanh is deprecated. Use torch.tanh instead.\")\n"
     ]
    }
   ],
   "source": [
    "import normalRNN_ab_res_ADAM\n",
    "normal_rnn = normalRNN_ab_res_ADAM.SelfAttentionRNNnormal(hidden_size = 64, num_layers = 3, nb_tokens = 20, \n",
    "                                              embedding_dim = 10, num_classes = 15)\n",
    "normal_rnn = normal_rnn.cuda()\n",
    "normal_rnn.load_state_dict(torch.load('rnn_with_attention_whole_ab_resistance_model_adam.pkl'))\n",
    "\n",
    "val_tensor_x = torch.from_numpy(data)\n",
    "val_tensor_y = torch.from_numpy(y_)\n",
    "\n",
    "# create your dataset\n",
    "val_dataset = torch.utils.data.TensorDataset(val_tensor_x, val_tensor_y) \n",
    "# create your dataloader\n",
    "val_dataloader = torch.utils.data.DataLoader(val_dataset, batch_size=64,\n",
    "                                             shuffle = False, \n",
    "                                                        drop_last = False, \n",
    "                                                         pin_memory = True) \n",
    "\n",
    "normal_rnn.eval()\n",
    "# correct = 0\n",
    "# total = 0\n",
    "predictions = []\n",
    "for seqs, _ in val_dataloader:\n",
    "    normal_rnn.batch_size = seqs.size(0)\n",
    "    normal_rnn.hidden_state = normal_rnn.init_hidden()\n",
    "    \n",
    "    seqs = Variable(seqs).long().cuda()\n",
    "    #labels = Variable(labels).long().cuda()\n",
    "    \n",
    "    outputs, att = normal_rnn(seqs)\n",
    "    #print (outputs)\n",
    "    #print (torch.sum(outputs, 1))\n",
    "    predicted, predicted_labels = torch.max(outputs.data, 1)\n",
    "    #predicted = torch.max(F.softmax(outputs.data), 1)[0]\n",
    "    predictions.append(predicted)"
   ]
  },
  {
   "cell_type": "code",
   "execution_count": 108,
   "metadata": {},
   "outputs": [
    {
     "name": "stdout",
     "output_type": "stream",
     "text": [
      "19576\n"
     ]
    }
   ],
   "source": [
    "confidences_normal_rnn_adam = []\n",
    "for l in predictions:\n",
    "    for l_in in l:\n",
    "        confidences_normal_rnn_adam.append(l_in.item())\n",
    "#confidences_normal_rnn = torch.cat(confidences_normal_rnn)\n",
    "print (len(confidences_normal_rnn_adam))"
   ]
  },
  {
   "cell_type": "code",
   "execution_count": 109,
   "metadata": {},
   "outputs": [],
   "source": [
    "#np.save('adam_normal_rnn_all_predictions_human_proteins_out_dist_ab_res.npy', confidences_normal_rnn_adam)"
   ]
  },
  {
   "cell_type": "code",
   "execution_count": 104,
   "metadata": {},
   "outputs": [
    {
     "name": "stderr",
     "output_type": "stream",
     "text": [
      "/home/nafizh/anaconda3/lib/python3.6/site-packages/torch/nn/modules/rnn.py:46: UserWarning: dropout option adds dropout after all but last recurrent layer, so non-zero dropout expects num_layers greater than 1, but got dropout=0.4 and num_layers=1\n",
      "  \"num_layers={}\".format(dropout, num_layers))\n",
      "/home/nafizh/anaconda3/lib/python3.6/site-packages/torch/nn/functional.py:1089: UserWarning: nn.functional.tanh is deprecated. Use torch.tanh instead.\n",
      "  warnings.warn(\"nn.functional.tanh is deprecated. Use torch.tanh instead.\")\n"
     ]
    }
   ],
   "source": [
    "import sgldRNN_ab_res\n",
    "sgld_rnn = sgldRNN_ab_res.SelfAttentionRNNsgld(hidden_size = 128, num_layers = 1, nb_tokens = 20, \n",
    "                                              embedding_dim = 400, num_classes = 15)\n",
    "sgld_rnn = sgld_rnn.cuda()\n",
    "sgld_rnn.load_state_dict(torch.load('psgld_rnn_with_att_ab_res_0.375431_acc_96.311475_cyclical.pkl'))\n",
    "\n",
    "\n",
    "val_tensor_x = torch.from_numpy(data)\n",
    "val_tensor_y = torch.from_numpy(y_)\n",
    "\n",
    "# create your dataset\n",
    "val_dataset = torch.utils.data.TensorDataset(val_tensor_x, val_tensor_y) \n",
    "# create your dataloader\n",
    "val_dataloader = torch.utils.data.DataLoader(val_dataset, batch_size=64,\n",
    "                                             shuffle = False, \n",
    "                                                        drop_last = False, \n",
    "                                                         pin_memory = True) \n",
    "\n",
    "sgld_rnn.eval()\n",
    "# correct = 0\n",
    "# total = 0\n",
    "predictions = []\n",
    "for seqs, _ in val_dataloader:\n",
    "    sgld_rnn.batch_size = seqs.size(0)\n",
    "    sgld_rnn.hidden_state = sgld_rnn.init_hidden()\n",
    "    \n",
    "    seqs = Variable(seqs).long().cuda()\n",
    "    #labels = Variable(labels).long().cuda()\n",
    "    \n",
    "    outputs, att = sgld_rnn(seqs)\n",
    "    #print (outputs)\n",
    "    #print (torch.sum(outputs, 1))\n",
    "    predicted, predicted_labels = torch.max(outputs.data, 1)\n",
    "    predictions.append(predicted)"
   ]
  },
  {
   "cell_type": "code",
   "execution_count": 105,
   "metadata": {},
   "outputs": [
    {
     "name": "stdout",
     "output_type": "stream",
     "text": [
      "19576\n"
     ]
    }
   ],
   "source": [
    "confidences_bayesian_rnn = []\n",
    "for l in predictions:\n",
    "    for l_in in l:\n",
    "        confidences_bayesian_rnn.append(l_in.item())\n",
    "#confidences_normal_rnn = torch.cat(confidences_normal_rnn)\n",
    "print (len(confidences_bayesian_rnn))"
   ]
  },
  {
   "cell_type": "code",
   "execution_count": 106,
   "metadata": {},
   "outputs": [],
   "source": [
    "#np.save('psgld_bayesian_rnn_all_predictions_human_proteins_out_dist_ab_res.npy', confidences_bayesian_rnn)"
   ]
  },
  {
   "cell_type": "code",
   "execution_count": 133,
   "metadata": {},
   "outputs": [],
   "source": [
    "confidences_bayesian_rnn = np.load('psgld_bayesian_rnn_all_predictions_human_proteins_out_dist_ab_res.npy')\n",
    "confidences_normal_rnn_adam = np.load('adam_normal_rnn_all_predictions_human_proteins_out_dist_ab_res.npy')"
   ]
  },
  {
   "cell_type": "code",
   "execution_count": 137,
   "metadata": {},
   "outputs": [
    {
     "data": {
      "image/png": "[encoded data removed]",
      "text/plain": [
       "<Figure size 864x648 with 1 Axes>"
      ]
     },
     "metadata": {},
     "output_type": "display_data"
    }
   ],
   "source": [
    "import seaborn as sns\n",
    "sns.set_style(\"white\")\n",
    "plt.rc('ytick',labelsize=18)\n",
    "plt.rc('xtick',labelsize=18)\n",
    "fig, axs = plt.subplots(1, 1, figsize=(12, 9))\n",
    "axs.set_xlim(0.0, 1.0)\n",
    "axs.set_ylim(0.0, 500.0)\n",
    "#axs.scatter(range(67), confidences.data.cpu().numpy())\n",
    "bins = np.linspace(0, 1, 200)\n",
    "\n",
    "axs.hist(x=np.exp(confidences_normal_rnn_adam), bins = bins, alpha = 0.5, color = 'blue', \n",
    "         edgecolor = \"black\", label = 'ADAM')\n",
    "axs.hist(x=np.exp(confidences_bayesian_rnn), bins = bins, alpha = 0.5, color = 'green', \n",
    "         edgecolor = \"black\", label = 'pSGLD')\n",
    "\n",
    "\n",
    "plt.tick_params(size = 10)\n",
    "axs.set_xlabel('Probability of predicted class', fontsize = 22)\n",
    "axs.set_ylabel('Count of protein sequences', fontsize = 22)\n",
    "axs.spines[\"top\"].set_visible(False)  \n",
    "axs.spines[\"right\"].set_visible(False)\n",
    "axs.figure.set_size_inches(12, 9)\n",
    "axs.legend(loc = 'upper right', fontsize=20)\n",
    "axs.figure.savefig('prob_of_pred_ab_res_human_out_dist.pdf', format = 'pdf', dpi = 1200, bbox_inches=\"tight\")\n",
    "axs.figure.savefig('prob_of_pred_ab_res_human_out_dist.svg', format = 'svg', dpi = 1200, bbox_inches=\"tight\")\n",
    "axs.figure.savefig('prob_of_pred_ab_res_human_out_dist.eps', format = 'eps', dpi = 1200, bbox_inches=\"tight\")\n",
    "\n",
    "\n",
    "# axs.hist([confidences_bayesian_rnn, confidences_normal_rnn], bins, color = ['blue', 'g'],\n",
    "#         alpha = 0.5)\n",
    "#        fc=(1, 0, 0, 0.5))\n",
    "#axs.bar(range(67), confidences.data.cpu().numpy())"
   ]
  },
  {
   "cell_type": "markdown",
   "metadata": {},
   "source": [
    "## Apply on Bacteria metabolism genes"
   ]
  },
  {
   "cell_type": "code",
   "execution_count": 2,
   "metadata": {},
   "outputs": [
    {
     "name": "stdout",
     "output_type": "stream",
     "text": [
      "Done\n"
     ]
    }
   ],
   "source": [
    "out_handle = open('bacteria_metabolism_upto_page_3_kegg.fa_cd_hit_1600', 'w')\n",
    "with open('bacteria_metabolism_upto_page_3_kegg.fa_cd_hit', 'r') as in_handle:\n",
    "    for index, record in enumerate(SeqIO.parse(in_handle, 'fasta')):\n",
    "        if len(record.seq) <= 1600:\n",
    "            out_handle.write(\">%s\\n%s\\n\" % (record.description, record.seq))\n",
    "out_handle.close()\n",
    "print (\"Done\")"
   ]
  },
  {
   "cell_type": "code",
   "execution_count": 4,
   "metadata": {},
   "outputs": [
    {
     "name": "stdout",
     "output_type": "stream",
     "text": [
      "['A', 'R', 'N', 'D', 'C', 'E', 'Q', 'G', 'H', 'I', 'L', 'K', 'M', 'F', 'P', 'S', 'T', 'W', 'Y', 'V']\n"
     ]
    }
   ],
   "source": [
    "amino_acids = list(\"ARNDCEQGHILKMFPSTWYV\")\n",
    "print (amino_acids)"
   ]
  },
  {
   "cell_type": "code",
   "execution_count": 5,
   "metadata": {},
   "outputs": [
    {
     "name": "stdout",
     "output_type": "stream",
     "text": [
      "480\n",
      " M E F S P P L Q R A T L I Q R Y K R F L A D V I T P D G R E L T L H C P N T G A M T G C A T P G D T V W Y S T S D N T K R K Y P H T W E L T Q S Q S G A F I C V N T L W A N R L T K E A I L N E S I S E L S G Y S S L K S E V K Y G A E R S R I D F M L Q A D S R P D C Y I E V K S V T L A E N E Q G Y F P D A V T E R G Q K H L R E L M S V A A E G Q R A V I F F A V L H S A I T R F S P A R H I D E K Y A Q L L S E A Q Q R G V E I L A Y K A E I S A E G M A L K K S L P V T L\n"
     ]
    }
   ],
   "source": [
    "texts = []\n",
    "for index, record in enumerate(SeqIO.parse('bacteria_metabolism_upto_page_3_kegg.fa_cd_hit_1600', 'fasta')):\n",
    "    #tri_tokens = trigrams(record.seq)\n",
    "    temp_str = \"\"\n",
    "    for item in (record.seq):\n",
    "        if item in amino_acids:\n",
    "            temp_str = temp_str + \" \" + item\n",
    "    #print (temp_str)\n",
    "    texts.append(temp_str)\n",
    "    #break\n",
    "    #break\n",
    "print (len(texts))\n",
    "print (texts[0])"
   ]
  },
  {
   "cell_type": "code",
   "execution_count": 6,
   "metadata": {},
   "outputs": [],
   "source": [
    "#np.save('bacteria_metabolism_upto_page_3_cd_hit_0.7_length_1600.npy', texts)"
   ]
  },
  {
   "cell_type": "code",
   "execution_count": 146,
   "metadata": {},
   "outputs": [
    {
     "name": "stdout",
     "output_type": "stream",
     "text": [
      "Found 20 unique tokens.\n"
     ]
    }
   ],
   "source": [
    "texts = np.load('ab_res_whole_dataset_texts.npy')\n",
    "\n",
    "MAX_SEQUENCE_LENGTH = 1600\n",
    "MAX_NB_CHARS = 20\n",
    "tokenizer = Tokenizer(num_words=MAX_NB_CHARS) #MAX_NB_WORDS = 10334\n",
    "tokenizer.fit_on_texts(texts)\n",
    "sequences = tokenizer.texts_to_sequences(texts)\n",
    "\n",
    "char_index = tokenizer.word_index\n",
    "print('Found %s unique tokens.' % len(char_index))"
   ]
  },
  {
   "cell_type": "code",
   "execution_count": 147,
   "metadata": {},
   "outputs": [
    {
     "name": "stdout",
     "output_type": "stream",
     "text": [
      "Found 20 unique tokens.\n",
      "480\n",
      "<class 'dict'>\n",
      "{'l': 1, 'a': 2, 'g': 3, 'v': 4, 'i': 5, 's': 6, 't': 7, 'f': 8, 'r': 9, 'e': 10, 'k': 11, 'd': 12, 'p': 13, 'q': 14, 'n': 15, 'y': 16, 'm': 17, 'h': 18, 'w': 19, 'c': 20}\n",
      "True\n",
      "Shape of data tensor: (480, 1600)\n",
      "(480, 1)\n"
     ]
    }
   ],
   "source": [
    "new_texts = np.load('bacteria_metabolism_upto_page_3_cd_hit_0.7_length_1600.npy')\n",
    "new_sequences = tokenizer.texts_to_sequences(new_texts)\n",
    "\n",
    "ab_char_index = tokenizer.word_index\n",
    "print('Found %s unique tokens.' % len(char_index))\n",
    "print (len(new_sequences))\n",
    "#print (sequences[0])\n",
    "print (type(char_index))\n",
    "print (ab_char_index)\n",
    "print (ab_char_index == char_index)\n",
    "data = pad_sequences(new_sequences, maxlen=MAX_SEQUENCE_LENGTH) #MAX_SEQUENCE_LENGTH = 1602\n",
    "\n",
    "#labels = to_categorical(np.asarray(labels))\n",
    "print('Shape of data tensor:', data.shape)\n",
    "#type(data)\n",
    "y_ = np.zeros([data.shape[0], 1])\n",
    "print (y_.shape)"
   ]
  },
  {
   "cell_type": "code",
   "execution_count": 154,
   "metadata": {},
   "outputs": [
    {
     "name": "stderr",
     "output_type": "stream",
     "text": [
      "/home/nafizh/anaconda3/lib/python3.6/site-packages/torch/nn/functional.py:1089: UserWarning: nn.functional.tanh is deprecated. Use torch.tanh instead.\n",
      "  warnings.warn(\"nn.functional.tanh is deprecated. Use torch.tanh instead.\")\n"
     ]
    }
   ],
   "source": [
    "import normalRNN_ab_res_ADAM\n",
    "normal_rnn = normalRNN_ab_res_ADAM.SelfAttentionRNNnormal(hidden_size = 64, num_layers = 3, nb_tokens = 20, \n",
    "                                              embedding_dim = 10, num_classes = 15)\n",
    "normal_rnn = normal_rnn.cuda()\n",
    "normal_rnn.load_state_dict(torch.load('rnn_with_attention_whole_ab_resistance_model_adam.pkl'))\n",
    "\n",
    "val_tensor_x = torch.from_numpy(data)\n",
    "val_tensor_y = torch.from_numpy(y_)\n",
    "\n",
    "# create your dataset\n",
    "val_dataset = torch.utils.data.TensorDataset(val_tensor_x, val_tensor_y) \n",
    "# create your dataloader\n",
    "val_dataloader = torch.utils.data.DataLoader(val_dataset, batch_size=64,\n",
    "                                             shuffle = False, \n",
    "                                                        drop_last = False, \n",
    "                                                         pin_memory = True) \n",
    "\n",
    "normal_rnn.eval()\n",
    "# correct = 0\n",
    "# total = 0\n",
    "predictions = []\n",
    "for seqs, _ in val_dataloader:\n",
    "    normal_rnn.batch_size = seqs.size(0)\n",
    "    normal_rnn.hidden_state = normal_rnn.init_hidden()\n",
    "    \n",
    "    seqs = Variable(seqs).long().cuda()\n",
    "    #labels = Variable(labels).long().cuda()\n",
    "    \n",
    "    outputs, att = normal_rnn(seqs)\n",
    "    #print (outputs)\n",
    "    #print (torch.sum(outputs, 1))\n",
    "    predicted, predicted_labels = torch.max(outputs.data, 1)\n",
    "    #predicted = torch.max(F.softmax(outputs.data), 1)[0]\n",
    "    predictions.append(predicted)"
   ]
  },
  {
   "cell_type": "code",
   "execution_count": 155,
   "metadata": {},
   "outputs": [
    {
     "name": "stdout",
     "output_type": "stream",
     "text": [
      "480\n"
     ]
    }
   ],
   "source": [
    "confidences_normal_rnn_adam = []\n",
    "for l in predictions:\n",
    "    for l_in in l:\n",
    "        confidences_normal_rnn_adam.append(l_in.item())\n",
    "#confidences_normal_rnn = torch.cat(confidences_normal_rnn)\n",
    "print (len(confidences_normal_rnn_adam))"
   ]
  },
  {
   "cell_type": "code",
   "execution_count": 156,
   "metadata": {},
   "outputs": [],
   "source": [
    "#np.save('adam_normal_rnn_all_predictions_bacteria_metabolism_out_dist_ab_res.npy', confidences_normal_rnn_adam)"
   ]
  },
  {
   "cell_type": "code",
   "execution_count": 151,
   "metadata": {},
   "outputs": [
    {
     "name": "stderr",
     "output_type": "stream",
     "text": [
      "/home/nafizh/anaconda3/lib/python3.6/site-packages/torch/nn/modules/rnn.py:46: UserWarning: dropout option adds dropout after all but last recurrent layer, so non-zero dropout expects num_layers greater than 1, but got dropout=0.4 and num_layers=1\n",
      "  \"num_layers={}\".format(dropout, num_layers))\n",
      "/home/nafizh/anaconda3/lib/python3.6/site-packages/torch/nn/functional.py:1089: UserWarning: nn.functional.tanh is deprecated. Use torch.tanh instead.\n",
      "  warnings.warn(\"nn.functional.tanh is deprecated. Use torch.tanh instead.\")\n"
     ]
    }
   ],
   "source": [
    "import sgldRNN_ab_res\n",
    "sgld_rnn = sgldRNN_ab_res.SelfAttentionRNNsgld(hidden_size = 128, num_layers = 1, nb_tokens = 20, \n",
    "                                              embedding_dim = 400, num_classes = 15)\n",
    "sgld_rnn = sgld_rnn.cuda()\n",
    "sgld_rnn.load_state_dict(torch.load('psgld_rnn_with_att_ab_res_0.375431_acc_96.311475_cyclical.pkl'))\n",
    "\n",
    "\n",
    "val_tensor_x = torch.from_numpy(data)\n",
    "val_tensor_y = torch.from_numpy(y_)\n",
    "\n",
    "# create your dataset\n",
    "val_dataset = torch.utils.data.TensorDataset(val_tensor_x, val_tensor_y) \n",
    "# create your dataloader\n",
    "val_dataloader = torch.utils.data.DataLoader(val_dataset, batch_size=64,\n",
    "                                             shuffle = False, \n",
    "                                                        drop_last = False, \n",
    "                                                         pin_memory = True) \n",
    "\n",
    "sgld_rnn.eval()\n",
    "# correct = 0\n",
    "# total = 0\n",
    "predictions = []\n",
    "for seqs, _ in val_dataloader:\n",
    "    sgld_rnn.batch_size = seqs.size(0)\n",
    "    sgld_rnn.hidden_state = sgld_rnn.init_hidden()\n",
    "    \n",
    "    seqs = Variable(seqs).long().cuda()\n",
    "    #labels = Variable(labels).long().cuda()\n",
    "    \n",
    "    outputs, att = sgld_rnn(seqs)\n",
    "    #print (outputs)\n",
    "    #print (torch.sum(outputs, 1))\n",
    "    predicted, predicted_labels = torch.max(outputs.data, 1)\n",
    "    predictions.append(predicted)"
   ]
  },
  {
   "cell_type": "code",
   "execution_count": 152,
   "metadata": {},
   "outputs": [
    {
     "name": "stdout",
     "output_type": "stream",
     "text": [
      "480\n"
     ]
    }
   ],
   "source": [
    "confidences_bayesian_rnn = []\n",
    "for l in predictions:\n",
    "    for l_in in l:\n",
    "        confidences_bayesian_rnn.append(l_in.item())\n",
    "#confidences_normal_rnn = torch.cat(confidences_normal_rnn)\n",
    "print (len(confidences_bayesian_rnn))"
   ]
  },
  {
   "cell_type": "code",
   "execution_count": 153,
   "metadata": {},
   "outputs": [],
   "source": [
    "#np.save('psgld_bayesian_rnn_all_predictions_bacteria_metabolism_out_dist_ab_res.npy', confidences_bayesian_rnn)"
   ]
  },
  {
   "cell_type": "code",
   "execution_count": 138,
   "metadata": {},
   "outputs": [],
   "source": [
    "confidences_bayesian_rnn = np.load('psgld_bayesian_rnn_all_predictions_bacteria_metabolism_out_dist_ab_res.npy')\n",
    "confidences_normal_rnn_adam = np.load('adam_normal_rnn_all_predictions_bacteria_metabolism_out_dist_ab_res.npy')"
   ]
  },
  {
   "cell_type": "code",
   "execution_count": 143,
   "metadata": {},
   "outputs": [
    {
     "data": {
      "image/png": "[encoded data removed]",
      "text/plain": [
       "<Figure size 864x648 with 1 Axes>"
      ]
     },
     "metadata": {},
     "output_type": "display_data"
    }
   ],
   "source": [
    "import seaborn as sns\n",
    "sns.set_style(\"white\")\n",
    "plt.rc('ytick',labelsize=18)\n",
    "plt.rc('xtick',labelsize=18)\n",
    "fig, axs = plt.subplots(1, 1, figsize=(12, 9))\n",
    "axs.set_xlim(0.0, 1.0)\n",
    "axs.set_ylim(0.0, 90.0)\n",
    "#axs.scatter(range(67), confidences.data.cpu().numpy())\n",
    "bins = np.linspace(0, 1,  30)\n",
    "axs.hist(x=np.exp(confidences_normal_rnn_adam), bins = bins, color = 'blue', alpha = 0.5,\n",
    "         edgecolor = \"black\", label = 'Adam')# fc=(0, 0, 1, 0.5))\n",
    "axs.hist(x=np.exp(confidences_bayesian_rnn), bins = bins, alpha = 0.5, color = 'green', \n",
    "         edgecolor = \"black\", label = 'pSGLD')\n",
    "\n",
    "# plt.hist([np.exp(confidences_bayesian_rnn), np.exp(confidences_normal_rnn_adam),\n",
    "#          np.exp(confidences_normal_rnn)], bins, label=['pSGLD', 'ADAM', 'RMSprop'],\n",
    "#         color = ['green', 'red', 'blue'], alpha = 0.6, edgecolor = \"black\")\n",
    "\n",
    "\n",
    "plt.tick_params(size = 10)\n",
    "axs.set_xlabel('Probability of predicted class', fontsize = 22)\n",
    "axs.set_ylabel('Count of protein sequences', fontsize = 22)\n",
    "axs.spines[\"top\"].set_visible(False)  \n",
    "axs.spines[\"right\"].set_visible(False)\n",
    "axs.figure.set_size_inches(12, 9)\n",
    "axs.legend(loc = 'upper right', fontsize=20)\n",
    "axs.figure.savefig('prob_of_pred_ab_test_data_bac_out_dist.pdf', format = 'pdf', dpi = 1200, bbox_inches=\"tight\")\n",
    "axs.figure.savefig('prob_of_pred_ab_test_data_bac_out_dist.svg', format = 'svg', dpi = 1200, bbox_inches=\"tight\")\n",
    "axs.figure.savefig('prob_of_pred_ab_test_data_bac_out_dist.eps', format = 'eps', dpi = 1200, bbox_inches=\"tight\")\n",
    "\n",
    "\n",
    "# axs.hist([confidences_bayesian_rnn, confidences_normal_rnn], bins, color = ['blue', 'g'],\n",
    "#         alpha = 0.5)\n",
    "#        fc=(1, 0, 0, 0.5))\n",
    "#axs.bar(range(67), confidences.data.cpu().numpy())"
   ]
  },
  {
   "cell_type": "markdown",
   "metadata": {},
   "source": [
    "## Performance on OoD data"
   ]
  },
  {
   "cell_type": "markdown",
   "metadata": {},
   "source": [
    "### Human genes"
   ]
  },
  {
   "cell_type": "code",
   "execution_count": 64,
   "metadata": {},
   "outputs": [
    {
     "name": "stdout",
     "output_type": "stream",
     "text": [
      "Found 20 unique tokens.\n"
     ]
    }
   ],
   "source": [
    "texts = np.load('ab_res_whole_dataset_texts.npy')\n",
    "\n",
    "MAX_SEQUENCE_LENGTH = 1600\n",
    "MAX_NB_CHARS = 20\n",
    "tokenizer = Tokenizer(num_words=MAX_NB_CHARS) #MAX_NB_WORDS = 10334\n",
    "tokenizer.fit_on_texts(texts)\n",
    "sequences = tokenizer.texts_to_sequences(texts)\n",
    "\n",
    "char_index = tokenizer.word_index\n",
    "print('Found %s unique tokens.' % len(char_index))"
   ]
  },
  {
   "cell_type": "code",
   "execution_count": 65,
   "metadata": {},
   "outputs": [
    {
     "name": "stdout",
     "output_type": "stream",
     "text": [
      "Found 20 unique tokens.\n",
      "19576\n",
      "<class 'dict'>\n",
      "{'l': 1, 'a': 2, 'g': 3, 'v': 4, 'i': 5, 's': 6, 't': 7, 'f': 8, 'r': 9, 'e': 10, 'k': 11, 'd': 12, 'p': 13, 'q': 14, 'n': 15, 'y': 16, 'm': 17, 'h': 18, 'w': 19, 'c': 20}\n",
      "True\n",
      "Shape of data tensor: (19576, 1600)\n",
      "(19576, 1)\n"
     ]
    }
   ],
   "source": [
    "new_texts = np.load('uniprot_not_ab_res_human_1600.npy')\n",
    "new_sequences = tokenizer.texts_to_sequences(new_texts)\n",
    "\n",
    "ab_char_index = tokenizer.word_index\n",
    "print('Found %s unique tokens.' % len(char_index))\n",
    "print (len(new_sequences))\n",
    "#print (sequences[0])\n",
    "print (type(char_index))\n",
    "print (ab_char_index)\n",
    "print (ab_char_index == char_index)\n",
    "data = pad_sequences(new_sequences, maxlen=MAX_SEQUENCE_LENGTH) #MAX_SEQUENCE_LENGTH = 1602\n",
    "\n",
    "#labels = to_categorical(np.asarray(labels))\n",
    "print('Shape of data tensor:', data.shape)\n",
    "#type(data)\n",
    "y_ = np.zeros([data.shape[0], 1])\n",
    "print (y_.shape)"
   ]
  },
  {
   "cell_type": "code",
   "execution_count": 171,
   "metadata": {},
   "outputs": [
    {
     "data": {
      "text/plain": [
       "(1491, 1600)"
      ]
     },
     "execution_count": 171,
     "metadata": {},
     "output_type": "execute_result"
    }
   ],
   "source": [
    "X_test.shape"
   ]
  },
  {
   "cell_type": "code",
   "execution_count": 172,
   "metadata": {},
   "outputs": [
    {
     "ename": "TypeError",
     "evalue": "only integer scalar arrays can be converted to a scalar index",
     "output_type": "error",
     "traceback": [
      "\u001b[0;31m---------------------------------------------------------------------------\u001b[0m",
      "\u001b[0;31mTypeError\u001b[0m                                 Traceback (most recent call last)",
      "\u001b[0;32m<ipython-input-172-04d094adf360>\u001b[0m in \u001b[0;36m<module>\u001b[0;34m()\u001b[0m\n\u001b[0;32m----> 1\u001b[0;31m \u001b[0mnp\u001b[0m\u001b[0;34m.\u001b[0m\u001b[0mconcatenate\u001b[0m\u001b[0;34m(\u001b[0m\u001b[0mX_test\u001b[0m\u001b[0;34m.\u001b[0m\u001b[0mvalues\u001b[0m\u001b[0;34m,\u001b[0m \u001b[0mdata\u001b[0m\u001b[0;34m)\u001b[0m\u001b[0;34m.\u001b[0m\u001b[0mshape\u001b[0m\u001b[0;34m\u001b[0m\u001b[0;34m\u001b[0m\u001b[0m\n\u001b[0m",
      "\u001b[0;31mTypeError\u001b[0m: only integer scalar arrays can be converted to a scalar index"
     ]
    }
   ],
   "source": [
    "np.concatenate(X_test.values, data).shape"
   ]
  },
  {
   "cell_type": "code",
   "execution_count": 79,
   "metadata": {},
   "outputs": [
    {
     "name": "stderr",
     "output_type": "stream",
     "text": [
      "/home/nafizh/anaconda3/lib/python3.6/site-packages/torch/nn/functional.py:1089: UserWarning: nn.functional.tanh is deprecated. Use torch.tanh instead.\n",
      "  warnings.warn(\"nn.functional.tanh is deprecated. Use torch.tanh instead.\")\n"
     ]
    }
   ],
   "source": [
    "import normalRNN_ab_res_ADAM\n",
    "normal_rnn = normalRNN_ab_res_ADAM.SelfAttentionRNNnormal(hidden_size = 64, num_layers = 3, nb_tokens = 20, \n",
    "                                              embedding_dim = 10, num_classes = 15)\n",
    "normal_rnn = normal_rnn.cuda()\n",
    "normal_rnn.load_state_dict(torch.load('rnn_with_attention_whole_ab_resistance_model_adam.pkl'))\n",
    "\n",
    "val_tensor_x = torch.from_numpy(data)\n",
    "val_tensor_y = torch.from_numpy(y_)\n",
    "\n",
    "# create your dataset\n",
    "val_dataset = torch.utils.data.TensorDataset(val_tensor_x, val_tensor_y) \n",
    "# create your dataloader\n",
    "val_dataloader = torch.utils.data.DataLoader(val_dataset, batch_size=64,\n",
    "                                             shuffle = False, \n",
    "                                                        drop_last = False, \n",
    "                                                         pin_memory = True) \n",
    "\n",
    "normal_rnn.eval()\n",
    "# correct = 0\n",
    "# total = 0\n",
    "predictions = []\n",
    "for seqs, _ in val_dataloader:\n",
    "    normal_rnn.batch_size = seqs.size(0)\n",
    "    normal_rnn.hidden_state = normal_rnn.init_hidden()\n",
    "    \n",
    "    seqs = Variable(seqs).long().cuda()\n",
    "    #labels = Variable(labels).long().cuda()\n",
    "    \n",
    "    outputs, att = normal_rnn(seqs)\n",
    "    #print (outputs)\n",
    "    #print (torch.sum(outputs, 1))\n",
    "    predicted, predicted_labels = torch.max(outputs.data, 1)\n",
    "    #predicted = torch.max(F.softmax(outputs.data), 1)[0]\n",
    "    predictions.append(predicted)"
   ]
  },
  {
   "cell_type": "code",
   "execution_count": 80,
   "metadata": {},
   "outputs": [
    {
     "name": "stdout",
     "output_type": "stream",
     "text": [
      "19576\n"
     ]
    }
   ],
   "source": [
    "confidences_normal_rnn = []\n",
    "for l in predictions:\n",
    "    for l_in in l:\n",
    "        confidences_normal_rnn.append(l_in.item())\n",
    "print (len(confidences_normal_rnn))"
   ]
  },
  {
   "cell_type": "code",
   "execution_count": 177,
   "metadata": {},
   "outputs": [
    {
     "data": {
      "text/plain": [
       "list"
      ]
     },
     "execution_count": 177,
     "metadata": {},
     "output_type": "execute_result"
    }
   ],
   "source": [
    "type(confidences_normal_rnn)"
   ]
  },
  {
   "cell_type": "code",
   "execution_count": 10,
   "metadata": {},
   "outputs": [
    {
     "name": "stdout",
     "output_type": "stream",
     "text": [
      "torch.Size([1491, 1600])\n",
      "torch.Size([1491])\n"
     ]
    }
   ],
   "source": [
    "test_tensor_x = torch.from_numpy(X_test.values)\n",
    "test_tensor_y = torch.from_numpy(y_test.values)\n",
    "\n",
    "print (test_tensor_x.size())\n",
    "print (test_tensor_y.size())\n",
    "# create your dataset\n",
    "test_dataset = torch.utils.data.TensorDataset(test_tensor_x, test_tensor_y) \n",
    "# create your dataloader\n",
    "test_dataloader = torch.utils.data.DataLoader(test_dataset, batch_size=64,\n",
    "                                             shuffle = False, \n",
    "                                                        drop_last = False, \n",
    "                                                         pin_memory = True) "
   ]
  },
  {
   "cell_type": "code",
   "execution_count": 81,
   "metadata": {},
   "outputs": [
    {
     "name": "stderr",
     "output_type": "stream",
     "text": [
      "/home/nafizh/anaconda3/lib/python3.6/site-packages/torch/nn/functional.py:1089: UserWarning: nn.functional.tanh is deprecated. Use torch.tanh instead.\n",
      "  warnings.warn(\"nn.functional.tanh is deprecated. Use torch.tanh instead.\")\n"
     ]
    }
   ],
   "source": [
    "import normalRNN_ab_res_ADAM\n",
    "normal_rnn = normalRNN_ab_res_ADAM.SelfAttentionRNNnormal(hidden_size = 64, num_layers = 3, nb_tokens = 20, \n",
    "                                              embedding_dim = 10, num_classes = 15)\n",
    "normal_rnn = normal_rnn.cuda()\n",
    "normal_rnn.load_state_dict(torch.load('rnn_with_attention_whole_ab_resistance_model_adam.pkl'))\n",
    "\n",
    "normal_rnn.eval()\n",
    "correct = 0\n",
    "total = 0\n",
    "predictions = []\n",
    "predictions_true = []\n",
    "predictions_false = []\n",
    "for seqs, labels in test_dataloader:\n",
    "    normal_rnn.batch_size = seqs.size(0)\n",
    "    normal_rnn.hidden_state = normal_rnn.init_hidden()\n",
    "    \n",
    "    seqs = Variable(seqs).long().cuda()\n",
    "    #labels = Variable(labels).long().cuda()\n",
    "    \n",
    "    outputs, att = normal_rnn(seqs)\n",
    "    #print (outputs)\n",
    "    #print (torch.sum(outputs, 1))\n",
    "    #predicted = torch.max(F.softmax(outputs.data), 1)[0]\n",
    "    predicted, predicted_labels = torch.max(outputs.data, 1)\n",
    "    predictions.append(predicted)\n",
    "    #print (predicted)\n",
    "    #print (predicted_labels)\n",
    "    #print (labels)\n",
    "    \n",
    "    # Take only probabilities where the prediction is true\n",
    "    predictions_false.append(predicted[predicted_labels.cpu() != labels.long()])\n",
    "    predictions_true.append(predicted[predicted_labels.cpu() == labels.long()])"
   ]
  },
  {
   "cell_type": "code",
   "execution_count": 82,
   "metadata": {},
   "outputs": [
    {
     "name": "stdout",
     "output_type": "stream",
     "text": [
      "21067\n"
     ]
    }
   ],
   "source": [
    "for l in predictions:\n",
    "    for l_in in l:\n",
    "        confidences_normal_rnn.append(l_in.item())\n",
    "print (len(confidences_normal_rnn))"
   ]
  },
  {
   "cell_type": "code",
   "execution_count": 70,
   "metadata": {},
   "outputs": [
    {
     "name": "stdout",
     "output_type": "stream",
     "text": [
      "(21067,)\n"
     ]
    }
   ],
   "source": [
    "y_test_human = np.vstack((np.zeros((19576, 1)), np.ones((1491,1))))\n",
    "c, r = y_test_human.shape\n",
    "y_test_human = y_test_human.reshape(c,)\n",
    "print (y_test_human.shape)"
   ]
  },
  {
   "cell_type": "code",
   "execution_count": 202,
   "metadata": {},
   "outputs": [
    {
     "data": {
      "text/plain": [
       "(21067,)"
      ]
     },
     "execution_count": 202,
     "metadata": {},
     "output_type": "execute_result"
    }
   ],
   "source": [
    "np.exp(confidences_normal_rnn).shape"
   ]
  },
  {
   "cell_type": "code",
   "execution_count": 196,
   "metadata": {},
   "outputs": [],
   "source": [
    "precision, recall, thresholds = precision_recall_curve(y_test_human, np.exp(confidences_normal_rnn))"
   ]
  },
  {
   "cell_type": "code",
   "execution_count": 213,
   "metadata": {},
   "outputs": [],
   "source": [
    "# np.save('precision_human_X_test_adam', precision)\n",
    "# np.save('recall_human_X_test_adam', recall)\n",
    "# np.save('thresholds_human_X_test_adam', thresholds)"
   ]
  },
  {
   "cell_type": "code",
   "execution_count": 201,
   "metadata": {},
   "outputs": [
    {
     "data": {
      "text/plain": [
       "(20837,)"
      ]
     },
     "execution_count": 201,
     "metadata": {},
     "output_type": "execute_result"
    }
   ],
   "source": [
    "thresholds.shape"
   ]
  },
  {
   "cell_type": "code",
   "execution_count": 204,
   "metadata": {},
   "outputs": [
    {
     "data": {
      "text/plain": [
       "0.6388940684944058"
      ]
     },
     "execution_count": 204,
     "metadata": {},
     "output_type": "execute_result"
    }
   ],
   "source": [
    "auc(recall, precision)"
   ]
  },
  {
   "cell_type": "code",
   "execution_count": 83,
   "metadata": {},
   "outputs": [],
   "source": [
    "fpr, tpr, thresholds = roc_curve(y_test_human, np.exp(confidences_normal_rnn))"
   ]
  },
  {
   "cell_type": "code",
   "execution_count": 84,
   "metadata": {},
   "outputs": [
    {
     "data": {
      "text/plain": [
       "0.903606987929484"
      ]
     },
     "execution_count": 84,
     "metadata": {},
     "output_type": "execute_result"
    }
   ],
   "source": [
    "auc(fpr, tpr)"
   ]
  },
  {
   "cell_type": "code",
   "execution_count": 85,
   "metadata": {},
   "outputs": [],
   "source": [
    "# np.save('fpr_human_X_test_adam.npy', fpr)\n",
    "# np.save('tpr_human_X_test_adam.npy', tpr)\n",
    "# np.save('thresholds_human_X_test_adam.npy', thresholds)"
   ]
  },
  {
   "cell_type": "code",
   "execution_count": 110,
   "metadata": {},
   "outputs": [
    {
     "name": "stderr",
     "output_type": "stream",
     "text": [
      "/home/nafizh/anaconda3/lib/python3.6/site-packages/matplotlib/cbook/__init__.py:2446: UserWarning: Saw kwargs ['lw', 'linewidth'] which are all aliases for 'linewidth'.  Kept value from 'linewidth'\n",
      "  seen=seen, canon=canonical, used=seen[-1]))\n"
     ]
    },
    {
     "data": {
      "image/png": "[encoded data removed]",
      "text/plain": [
       "<Figure size 864x648 with 1 Axes>"
      ]
     },
     "metadata": {},
     "output_type": "display_data"
    }
   ],
   "source": [
    "import seaborn as sns\n",
    "sns.set_style(\"white\")\n",
    "plt.rc('ytick',labelsize=18)\n",
    "plt.rc('xtick',labelsize=18)\n",
    "_, axs = plt.subplots(1, 1, figsize=(12,9))\n",
    "#fig.set_size_inches(12.0, 8.0)\n",
    "def label_plot(ax, is_pr=True):\n",
    "    x, y = (('recall', 'precision')\n",
    "            if is_pr else\n",
    "            ('false pos rate', 'true pos rate'))\n",
    "    ax.set_xlabel('Recall', fontsize = 22)\n",
    "    ax.set_ylabel('Precision', fontsize = 22)\n",
    "    ax.set_xlim([0,1.02])\n",
    "    ax.set_ylim([0,1.02])\n",
    "    \n",
    "\n",
    "# average w2v svm \n",
    "axs.errorbar(\n",
    "    np.load('recall_human_X_test_psgld.npy'),\n",
    "    np.load('precision_human_X_test_psgld.npy'),\n",
    "    color='green',\n",
    "    errorevery=10,\n",
    "    alpha = 0.6,\n",
    "    #ecolor='orangered',\n",
    "    ecolor = np.asanyarray([1,0,0, 0]),\n",
    "    lw=2, fmt = '-',  capsize = 5, elinewidth=2,markeredgewidth=2, linewidth = 6.0, \n",
    "    label = 'pSGLD  (%0.3f)' % (0.824))\n",
    "\n",
    "axs.errorbar(\n",
    "    np.load('recall_human_X_test_adam.npy'),\n",
    "    np.load('precision_human_X_test_adam.npy'),\n",
    "    color='blue',\n",
    "    errorevery=10,\n",
    "    alpha = 0.6,\n",
    "    #ecolor='orangered',\n",
    "    ecolor = np.asanyarray([1,0,0, 0]),\n",
    "    lw=2, fmt = '-',  capsize = 5, elinewidth=2,markeredgewidth=2, linewidth = 6.0, \n",
    "    label = 'Adam  (%0.3f)' % (0.638))\n",
    "\n",
    "\n",
    "\n",
    "label_plot(axs)\n",
    "\n",
    "\n",
    "\n",
    "#axs.set_title('N={}'.format(N))\n",
    "plt.tick_params(size = 10)\n",
    "axs.spines[\"top\"].set_visible(False)  \n",
    "axs.spines[\"right\"].set_visible(False)\n",
    "axs.figure.set_size_inches(12, 9)\n",
    "axs.legend(loc = 'lower left', fontsize=20)\n",
    "axs.figure.savefig('pr_human_ab_res.pdf', format = 'pdf', dpi = 1200, bbox_inches=\"tight\")\n",
    "axs.figure.savefig('pr_human_ab_res.svg', format = 'svg', dpi = 1200, bbox_inches=\"tight\")"
   ]
  },
  {
   "cell_type": "code",
   "execution_count": 73,
   "metadata": {},
   "outputs": [
    {
     "name": "stderr",
     "output_type": "stream",
     "text": [
      "/home/nafizh/anaconda3/lib/python3.6/site-packages/torch/nn/modules/rnn.py:46: UserWarning: dropout option adds dropout after all but last recurrent layer, so non-zero dropout expects num_layers greater than 1, but got dropout=0.4 and num_layers=1\n",
      "  \"num_layers={}\".format(dropout, num_layers))\n",
      "/home/nafizh/anaconda3/lib/python3.6/site-packages/torch/nn/functional.py:1089: UserWarning: nn.functional.tanh is deprecated. Use torch.tanh instead.\n",
      "  warnings.warn(\"nn.functional.tanh is deprecated. Use torch.tanh instead.\")\n"
     ]
    }
   ],
   "source": [
    "import sgldRNN_ab_res\n",
    "sgld_rnn = sgldRNN_ab_res.SelfAttentionRNNsgld(hidden_size = 128, num_layers = 1, nb_tokens = 20, \n",
    "                                              embedding_dim = 400, num_classes = 15)\n",
    "sgld_rnn = sgld_rnn.cuda()\n",
    "sgld_rnn.load_state_dict(torch.load('psgld_rnn_with_att_ab_res_0.375431_acc_96.311475_cyclical.pkl'))\n",
    "\n",
    "\n",
    "val_tensor_x = torch.from_numpy(data)\n",
    "val_tensor_y = torch.from_numpy(y_)\n",
    "\n",
    "# create your dataset\n",
    "val_dataset = torch.utils.data.TensorDataset(val_tensor_x, val_tensor_y) \n",
    "# create your dataloader\n",
    "val_dataloader = torch.utils.data.DataLoader(val_dataset, batch_size=64,\n",
    "                                             shuffle = False, \n",
    "                                                        drop_last = False, \n",
    "                                                         pin_memory = True) \n",
    "\n",
    "sgld_rnn.eval()\n",
    "# correct = 0\n",
    "# total = 0\n",
    "predictions = []\n",
    "for seqs, _ in val_dataloader:\n",
    "    sgld_rnn.batch_size = seqs.size(0)\n",
    "    sgld_rnn.hidden_state = sgld_rnn.init_hidden()\n",
    "    \n",
    "    seqs = Variable(seqs).long().cuda()\n",
    "    #labels = Variable(labels).long().cuda()\n",
    "    \n",
    "    outputs, att = sgld_rnn(seqs)\n",
    "    #print (outputs)\n",
    "    #print (torch.sum(outputs, 1))\n",
    "    predicted, predicted_labels = torch.max(outputs.data, 1)\n",
    "    predictions.append(predicted)"
   ]
  },
  {
   "cell_type": "code",
   "execution_count": 74,
   "metadata": {},
   "outputs": [
    {
     "name": "stdout",
     "output_type": "stream",
     "text": [
      "19576\n"
     ]
    }
   ],
   "source": [
    "confidences_normal_rnn = []\n",
    "for l in predictions:\n",
    "    for l_in in l:\n",
    "        confidences_normal_rnn.append(l_in.item())\n",
    "print (len(confidences_normal_rnn))"
   ]
  },
  {
   "cell_type": "code",
   "execution_count": 75,
   "metadata": {},
   "outputs": [
    {
     "name": "stderr",
     "output_type": "stream",
     "text": [
      "/home/nafizh/anaconda3/lib/python3.6/site-packages/torch/nn/modules/rnn.py:46: UserWarning: dropout option adds dropout after all but last recurrent layer, so non-zero dropout expects num_layers greater than 1, but got dropout=0.4 and num_layers=1\n",
      "  \"num_layers={}\".format(dropout, num_layers))\n",
      "/home/nafizh/anaconda3/lib/python3.6/site-packages/torch/nn/functional.py:1089: UserWarning: nn.functional.tanh is deprecated. Use torch.tanh instead.\n",
      "  warnings.warn(\"nn.functional.tanh is deprecated. Use torch.tanh instead.\")\n"
     ]
    }
   ],
   "source": [
    "import sgldRNN_ab_res\n",
    "sgld_rnn = sgldRNN_ab_res.SelfAttentionRNNsgld(hidden_size = 128, num_layers = 1, nb_tokens = 20, \n",
    "                                              embedding_dim = 400, num_classes = 15)\n",
    "sgld_rnn = sgld_rnn.cuda()\n",
    "sgld_rnn.load_state_dict(torch.load('psgld_rnn_with_att_ab_res_0.375431_acc_96.311475_cyclical.pkl'))\n",
    "\n",
    "\n",
    "sgld_rnn.eval()\n",
    "correct = 0\n",
    "total = 0\n",
    "predictions = []\n",
    "predictions_true = []\n",
    "predictions_false = []\n",
    "for seqs, labels in test_dataloader:\n",
    "    sgld_rnn.batch_size = seqs.size(0)\n",
    "    sgld_rnn.hidden_state = sgld_rnn.init_hidden()\n",
    "    \n",
    "    seqs = Variable(seqs).long().cuda()\n",
    "    #labels = Variable(labels).long().cuda()\n",
    "    \n",
    "    outputs, att = sgld_rnn(seqs)\n",
    "    #print (outputs)\n",
    "    #print (torch.sum(outputs, 1))\n",
    "    predicted, predicted_labels = torch.max(outputs.data, 1)\n",
    "    predictions.append(predicted)\n",
    "    #print (predicted)\n",
    "    #print (predicted_labels)\n",
    "    #print (labels)\n",
    "    \n",
    "    # Take only probabilities where the prediction is true\n",
    "    predictions_true.append(predicted[predicted_labels.cpu() == labels.long()])\n",
    "    predictions_false.append(predicted[predicted_labels.cpu() != labels.long()])\n",
    "    #print ('hello')\n",
    "    #print (torch.exp(outputs))\n",
    "    #break\n",
    "    \n",
    "    \n",
    "# print('Validation Accuracy of the model: %f %%' % (100 * correct.item() / total)) \n",
    "# print (len(predictions))"
   ]
  },
  {
   "cell_type": "code",
   "execution_count": 76,
   "metadata": {},
   "outputs": [
    {
     "name": "stdout",
     "output_type": "stream",
     "text": [
      "21067\n"
     ]
    }
   ],
   "source": [
    "for l in predictions:\n",
    "    for l_in in l:\n",
    "        confidences_normal_rnn.append(l_in.item())\n",
    "print (len(confidences_normal_rnn))"
   ]
  },
  {
   "cell_type": "code",
   "execution_count": 297,
   "metadata": {},
   "outputs": [
    {
     "data": {
      "text/plain": [
       "0.6388940684944058"
      ]
     },
     "execution_count": 297,
     "metadata": {},
     "output_type": "execute_result"
    }
   ],
   "source": [
    "auc(np.load('recall_human_X_test_adam.npy'), np.load('precision_human_X_test_adam.npy'))"
   ]
  },
  {
   "cell_type": "code",
   "execution_count": 298,
   "metadata": {},
   "outputs": [
    {
     "data": {
      "text/plain": [
       "0.8238520941247274"
      ]
     },
     "execution_count": 298,
     "metadata": {},
     "output_type": "execute_result"
    }
   ],
   "source": [
    "auc(np.load('recall_human_X_test_psgld.npy'), np.load('precision_human_X_test_psgld.npy'))"
   ]
  },
  {
   "cell_type": "code",
   "execution_count": 224,
   "metadata": {},
   "outputs": [
    {
     "data": {
      "text/plain": [
       "0.8238520941247274"
      ]
     },
     "execution_count": 224,
     "metadata": {},
     "output_type": "execute_result"
    }
   ],
   "source": [
    "precision, recall, thresholds = precision_recall_curve(y_test_human, np.exp(confidences_normal_rnn))\n",
    "auc(recall, precision)"
   ]
  },
  {
   "cell_type": "code",
   "execution_count": 77,
   "metadata": {},
   "outputs": [
    {
     "data": {
      "text/plain": [
       "0.949657452959139"
      ]
     },
     "execution_count": 77,
     "metadata": {},
     "output_type": "execute_result"
    }
   ],
   "source": [
    "fpr, tpr, thresholds = roc_curve(y_test_human, np.exp(confidences_normal_rnn))\n",
    "auc(fpr, tpr)"
   ]
  },
  {
   "cell_type": "code",
   "execution_count": 78,
   "metadata": {},
   "outputs": [],
   "source": [
    "# np.save('fpr_human_X_test_psgld.npy', fpr)\n",
    "# np.save('tpr_human_X_test_psgld.npy', tpr)\n",
    "# np.save('thresholds_human_X_test_psgld.npy', thresholds)"
   ]
  },
  {
   "cell_type": "code",
   "execution_count": 226,
   "metadata": {},
   "outputs": [],
   "source": [
    "# np.save('precision_human_X_test_psgld', precision)\n",
    "# np.save('recall_human_X_test_psgld', recall)\n",
    "# np.save('thresholds_human_X_test_psgld', thresholds)"
   ]
  },
  {
   "cell_type": "code",
   "execution_count": 112,
   "metadata": {},
   "outputs": [
    {
     "name": "stderr",
     "output_type": "stream",
     "text": [
      "/home/nafizh/anaconda3/lib/python3.6/site-packages/matplotlib/cbook/__init__.py:2446: UserWarning: Saw kwargs ['lw', 'linewidth'] which are all aliases for 'linewidth'.  Kept value from 'linewidth'\n",
      "  seen=seen, canon=canonical, used=seen[-1]))\n"
     ]
    },
    {
     "data": {
      "image/png": "[encoded data removed]",
      "text/plain": [
       "<Figure size 864x648 with 1 Axes>"
      ]
     },
     "metadata": {},
     "output_type": "display_data"
    }
   ],
   "source": [
    "import seaborn as sns\n",
    "sns.set_style(\"white\")\n",
    "plt.rc('ytick',labelsize=18)\n",
    "plt.rc('xtick',labelsize=18)\n",
    "_, axs = plt.subplots(1, 1, figsize=(12,9))\n",
    "#fig.set_size_inches(12.0, 8.0)\n",
    "def label_plot(ax, is_pr=True):\n",
    "    x, y = (('recall', 'precision')\n",
    "            if is_pr else\n",
    "            ('false pos rate', 'true pos rate'))\n",
    "    ax.set_xlabel('False Positive Rate', fontsize = 22)\n",
    "    ax.set_ylabel('True Positive Rate', fontsize = 22)\n",
    "    ax.set_xlim([0,1.02])\n",
    "    ax.set_ylim([0,1.02])\n",
    "    \n",
    "\n",
    "# average w2v svm \n",
    "axs.errorbar(\n",
    "    np.load('fpr_human_X_test_psgld.npy'),\n",
    "    np.load('tpr_human_X_test_psgld.npy'),\n",
    "    color='green',\n",
    "    errorevery=10,\n",
    "    alpha = 0.6,\n",
    "    #ecolor='orangered',\n",
    "    ecolor = np.asanyarray([1,0,0, 0]),\n",
    "    lw=2, fmt = '-',  capsize = 5, elinewidth=2,markeredgewidth=2, linewidth = 6.0, \n",
    "    label = 'pSGLD  (%0.3f)' % (0.950))\n",
    "\n",
    "axs.errorbar(\n",
    "    np.load('fpr_human_X_test_adam.npy'),\n",
    "    np.load('tpr_human_X_test_adam.npy'),\n",
    "    color='blue',\n",
    "    errorevery=10,\n",
    "    alpha = 0.6,\n",
    "    #ecolor='orangered',\n",
    "    ecolor = np.asanyarray([1,0,0, 0]),\n",
    "    lw=2, fmt = '-',  capsize = 5, elinewidth=2,markeredgewidth=2, linewidth = 6.0, \n",
    "    label = 'Adam  (%0.3f)' % (0.904))\n",
    "\n",
    "label_plot(axs, is_pr=False)\n",
    "\n",
    "\n",
    "\n",
    "#axs.set_title('N={}'.format(N))\n",
    "plt.tick_params(size = 10)\n",
    "axs.spines[\"top\"].set_visible(False)  \n",
    "axs.spines[\"right\"].set_visible(False)\n",
    "axs.figure.set_size_inches(12, 9)\n",
    "axs.legend(loc = 'lower right', fontsize=20)\n",
    "axs.figure.savefig('roc_human_ab_res.pdf', format = 'pdf', dpi = 1200, bbox_inches=\"tight\")\n",
    "axs.figure.savefig('roc_human_ab_res.svg', format = 'svg', dpi = 1200, bbox_inches=\"tight\")"
   ]
  },
  {
   "cell_type": "markdown",
   "metadata": {},
   "source": [
    "### Bacteria metabolism"
   ]
  },
  {
   "cell_type": "code",
   "execution_count": 5,
   "metadata": {},
   "outputs": [
    {
     "name": "stdout",
     "output_type": "stream",
     "text": [
      "Found 20 unique tokens.\n"
     ]
    }
   ],
   "source": [
    "texts = np.load('ab_res_whole_dataset_texts.npy')\n",
    "\n",
    "MAX_SEQUENCE_LENGTH = 1600\n",
    "MAX_NB_CHARS = 20\n",
    "tokenizer = Tokenizer(num_words=MAX_NB_CHARS) #MAX_NB_WORDS = 10334\n",
    "tokenizer.fit_on_texts(texts)\n",
    "sequences = tokenizer.texts_to_sequences(texts)\n",
    "\n",
    "char_index = tokenizer.word_index\n",
    "print('Found %s unique tokens.' % len(char_index))"
   ]
  },
  {
   "cell_type": "code",
   "execution_count": 6,
   "metadata": {},
   "outputs": [
    {
     "name": "stdout",
     "output_type": "stream",
     "text": [
      "Found 20 unique tokens.\n",
      "480\n",
      "<class 'dict'>\n",
      "{'l': 1, 'a': 2, 'g': 3, 'v': 4, 'i': 5, 's': 6, 't': 7, 'f': 8, 'r': 9, 'e': 10, 'k': 11, 'd': 12, 'p': 13, 'q': 14, 'n': 15, 'y': 16, 'm': 17, 'h': 18, 'w': 19, 'c': 20}\n",
      "True\n",
      "Shape of data tensor: (480, 1600)\n",
      "(480, 1)\n"
     ]
    }
   ],
   "source": [
    "new_texts = np.load('bacteria_metabolism_upto_page_3_cd_hit_0.7_length_1600.npy')\n",
    "new_sequences = tokenizer.texts_to_sequences(new_texts)\n",
    "\n",
    "ab_char_index = tokenizer.word_index\n",
    "print('Found %s unique tokens.' % len(char_index))\n",
    "print (len(new_sequences))\n",
    "#print (sequences[0])\n",
    "print (type(char_index))\n",
    "print (ab_char_index)\n",
    "print (ab_char_index == char_index)\n",
    "data = pad_sequences(new_sequences, maxlen=MAX_SEQUENCE_LENGTH) #MAX_SEQUENCE_LENGTH = 1602\n",
    "\n",
    "#labels = to_categorical(np.asarray(labels))\n",
    "print('Shape of data tensor:', data.shape)\n",
    "#type(data)\n",
    "y_ = np.zeros([data.shape[0], 1])\n",
    "print (y_.shape)"
   ]
  },
  {
   "cell_type": "code",
   "execution_count": 7,
   "metadata": {},
   "outputs": [
    {
     "name": "stdout",
     "output_type": "stream",
     "text": [
      "(1971,)\n"
     ]
    }
   ],
   "source": [
    "y_test_human = np.vstack((np.zeros((480, 1)), np.ones((1491,1))))\n",
    "c, r = y_test_human.shape\n",
    "y_test_human = y_test_human.reshape(c,)\n",
    "print (y_test_human.shape)"
   ]
  },
  {
   "cell_type": "code",
   "execution_count": 56,
   "metadata": {},
   "outputs": [
    {
     "name": "stderr",
     "output_type": "stream",
     "text": [
      "/home/nafizh/anaconda3/lib/python3.6/site-packages/torch/nn/modules/rnn.py:46: UserWarning: dropout option adds dropout after all but last recurrent layer, so non-zero dropout expects num_layers greater than 1, but got dropout=0.4 and num_layers=1\n",
      "  \"num_layers={}\".format(dropout, num_layers))\n",
      "/home/nafizh/anaconda3/lib/python3.6/site-packages/torch/nn/functional.py:1089: UserWarning: nn.functional.tanh is deprecated. Use torch.tanh instead.\n",
      "  warnings.warn(\"nn.functional.tanh is deprecated. Use torch.tanh instead.\")\n"
     ]
    }
   ],
   "source": [
    "import sgldRNN_ab_res\n",
    "sgld_rnn = sgldRNN_ab_res.SelfAttentionRNNsgld(hidden_size = 128, num_layers = 1, nb_tokens = 20, \n",
    "                                              embedding_dim = 400, num_classes = 15)\n",
    "sgld_rnn = sgld_rnn.cuda()\n",
    "sgld_rnn.load_state_dict(torch.load('psgld_rnn_with_att_ab_res_0.375431_acc_96.311475_cyclical.pkl'))\n",
    "\n",
    "\n",
    "val_tensor_x = torch.from_numpy(data)\n",
    "val_tensor_y = torch.from_numpy(y_)\n",
    "\n",
    "# create your dataset\n",
    "val_dataset = torch.utils.data.TensorDataset(val_tensor_x, val_tensor_y) \n",
    "# create your dataloader\n",
    "val_dataloader = torch.utils.data.DataLoader(val_dataset, batch_size=64,\n",
    "                                             shuffle = False, \n",
    "                                                        drop_last = False, \n",
    "                                                         pin_memory = True) \n",
    "\n",
    "sgld_rnn.eval()\n",
    "# correct = 0\n",
    "# total = 0\n",
    "predictions = []\n",
    "for seqs, _ in val_dataloader:\n",
    "    sgld_rnn.batch_size = seqs.size(0)\n",
    "    sgld_rnn.hidden_state = sgld_rnn.init_hidden()\n",
    "    \n",
    "    seqs = Variable(seqs).long().cuda()\n",
    "    #labels = Variable(labels).long().cuda()\n",
    "    \n",
    "    outputs, att = sgld_rnn(seqs)\n",
    "    #print (outputs)\n",
    "    #print (torch.sum(outputs, 1))\n",
    "    predicted, predicted_labels = torch.max(outputs.data, 1)\n",
    "    predictions.append(predicted)"
   ]
  },
  {
   "cell_type": "code",
   "execution_count": 57,
   "metadata": {},
   "outputs": [
    {
     "name": "stdout",
     "output_type": "stream",
     "text": [
      "480\n"
     ]
    }
   ],
   "source": [
    "confidences_normal_rnn = []\n",
    "for l in predictions:\n",
    "    for l_in in l:\n",
    "        confidences_normal_rnn.append(l_in.item())\n",
    "print (len(confidences_normal_rnn))"
   ]
  },
  {
   "cell_type": "code",
   "execution_count": 58,
   "metadata": {},
   "outputs": [
    {
     "name": "stderr",
     "output_type": "stream",
     "text": [
      "/home/nafizh/anaconda3/lib/python3.6/site-packages/torch/nn/modules/rnn.py:46: UserWarning: dropout option adds dropout after all but last recurrent layer, so non-zero dropout expects num_layers greater than 1, but got dropout=0.4 and num_layers=1\n",
      "  \"num_layers={}\".format(dropout, num_layers))\n",
      "/home/nafizh/anaconda3/lib/python3.6/site-packages/torch/nn/functional.py:1089: UserWarning: nn.functional.tanh is deprecated. Use torch.tanh instead.\n",
      "  warnings.warn(\"nn.functional.tanh is deprecated. Use torch.tanh instead.\")\n"
     ]
    }
   ],
   "source": [
    "import sgldRNN_ab_res\n",
    "sgld_rnn = sgldRNN_ab_res.SelfAttentionRNNsgld(hidden_size = 128, num_layers = 1, nb_tokens = 20, \n",
    "                                              embedding_dim = 400, num_classes = 15)\n",
    "sgld_rnn = sgld_rnn.cuda()\n",
    "sgld_rnn.load_state_dict(torch.load('psgld_rnn_with_att_ab_res_0.375431_acc_96.311475_cyclical.pkl'))\n",
    "\n",
    "\n",
    "sgld_rnn.eval()\n",
    "correct = 0\n",
    "total = 0\n",
    "predictions = []\n",
    "predictions_true = []\n",
    "predictions_false = []\n",
    "for seqs, labels in test_dataloader:\n",
    "    sgld_rnn.batch_size = seqs.size(0)\n",
    "    sgld_rnn.hidden_state = sgld_rnn.init_hidden()\n",
    "    \n",
    "    seqs = Variable(seqs).long().cuda()\n",
    "    #labels = Variable(labels).long().cuda()\n",
    "    \n",
    "    outputs, att = sgld_rnn(seqs)\n",
    "    #print (outputs)\n",
    "    #print (torch.sum(outputs, 1))\n",
    "    predicted, predicted_labels = torch.max(outputs.data, 1)\n",
    "    predictions.append(predicted)\n",
    "    #print (predicted)\n",
    "    #print (predicted_labels)\n",
    "    #print (labels)\n",
    "    \n",
    "    # Take only probabilities where the prediction is true\n",
    "    predictions_true.append(predicted[predicted_labels.cpu() == labels.long()])\n",
    "    predictions_false.append(predicted[predicted_labels.cpu() != labels.long()])\n",
    "    #print ('hello')\n",
    "    #print (torch.exp(outputs))\n",
    "    #break\n",
    "    \n",
    "    \n",
    "# print('Validation Accuracy of the model: %f %%' % (100 * correct.item() / total)) \n",
    "# print (len(predictions))"
   ]
  },
  {
   "cell_type": "code",
   "execution_count": 59,
   "metadata": {},
   "outputs": [
    {
     "name": "stdout",
     "output_type": "stream",
     "text": [
      "1971\n"
     ]
    }
   ],
   "source": [
    "for l in predictions:\n",
    "    for l_in in l:\n",
    "        confidences_normal_rnn.append(l_in.item())\n",
    "print (len(confidences_normal_rnn))"
   ]
  },
  {
   "cell_type": "code",
   "execution_count": 60,
   "metadata": {},
   "outputs": [
    {
     "data": {
      "text/plain": [
       "0.9826251057347819"
      ]
     },
     "execution_count": 60,
     "metadata": {},
     "output_type": "execute_result"
    }
   ],
   "source": [
    "precision, recall, thresholds = precision_recall_curve(y_test_human, np.exp(confidences_normal_rnn))\n",
    "auc(recall, precision)"
   ]
  },
  {
   "cell_type": "code",
   "execution_count": 61,
   "metadata": {},
   "outputs": [],
   "source": [
    "# np.save('precision_bac_psgld.npy', precision)\n",
    "# np.save('recall_bac_psgld.npy', recall)\n",
    "# np.save('thresholds_pr_bac_psgld.npy', thresholds)"
   ]
  },
  {
   "cell_type": "code",
   "execution_count": 113,
   "metadata": {},
   "outputs": [
    {
     "name": "stderr",
     "output_type": "stream",
     "text": [
      "/home/nafizh/anaconda3/lib/python3.6/site-packages/matplotlib/cbook/__init__.py:2446: UserWarning: Saw kwargs ['lw', 'linewidth'] which are all aliases for 'linewidth'.  Kept value from 'linewidth'\n",
      "  seen=seen, canon=canonical, used=seen[-1]))\n"
     ]
    },
    {
     "data": {
      "image/png": "[encoded data removed]",
      "text/plain": [
       "<Figure size 864x648 with 1 Axes>"
      ]
     },
     "metadata": {},
     "output_type": "display_data"
    }
   ],
   "source": [
    "import seaborn as sns\n",
    "sns.set_style(\"white\")\n",
    "plt.rc('ytick',labelsize=18)\n",
    "plt.rc('xtick',labelsize=18)\n",
    "_, axs = plt.subplots(1, 1, figsize=(12,9))\n",
    "#fig.set_size_inches(12.0, 8.0)\n",
    "def label_plot(ax, is_pr=True):\n",
    "    x, y = (('recall', 'precision')\n",
    "            if is_pr else\n",
    "            ('false pos rate', 'true pos rate'))\n",
    "    ax.set_xlabel('Recall', fontsize = 22)\n",
    "    ax.set_ylabel('Precision', fontsize = 22)\n",
    "    ax.set_xlim([0,1.02])\n",
    "    ax.set_ylim([0,1.02])\n",
    "    \n",
    "\n",
    "# average w2v svm \n",
    "axs.errorbar(\n",
    "    np.load('recall_bac_psgld.npy'),\n",
    "    np.load('precision_bac_psgld.npy'),\n",
    "    color='green',\n",
    "    errorevery=10,\n",
    "    alpha = 0.6,\n",
    "    #ecolor='orangered',\n",
    "    ecolor = np.asanyarray([1,0,0, 0]),\n",
    "    lw=2, fmt = '-',  capsize = 5, elinewidth=2,markeredgewidth=2, linewidth = 6.0, \n",
    "    label = 'pSGLD  (%0.3f)' % (0.982))\n",
    "\n",
    "axs.errorbar(\n",
    "    np.load('recall_bac_adam.npy'),\n",
    "    np.load('precision_bac_adam.npy'),\n",
    "    color='blue',\n",
    "    errorevery=10,\n",
    "    alpha = 0.6,\n",
    "    #ecolor='orangered',\n",
    "    ecolor = np.asanyarray([1,0,0, 0]),\n",
    "    lw=2, fmt = '-',  capsize = 5, elinewidth=2,markeredgewidth=2, linewidth = 6.0, \n",
    "    label = 'Adam  (%0.3f)' % (0.967))\n",
    "\n",
    "label_plot(axs)\n",
    "\n",
    "\n",
    "\n",
    "#axs.set_title('N={}'.format(N))\n",
    "plt.tick_params(size = 10)\n",
    "axs.spines[\"top\"].set_visible(False)  \n",
    "axs.spines[\"right\"].set_visible(False)\n",
    "axs.figure.set_size_inches(12, 9)\n",
    "axs.legend(loc = 'lower left', fontsize=20)\n",
    "axs.figure.savefig('pr_bac_ab_res.pdf', format = 'pdf', dpi = 1200, bbox_inches=\"tight\")\n",
    "axs.figure.savefig('pr_bac_ab_res.svg', format = 'svg', dpi = 1200, bbox_inches=\"tight\")"
   ]
  },
  {
   "cell_type": "code",
   "execution_count": 15,
   "metadata": {},
   "outputs": [
    {
     "data": {
      "text/plain": [
       "0.9440671808629555"
      ]
     },
     "execution_count": 15,
     "metadata": {},
     "output_type": "execute_result"
    }
   ],
   "source": [
    "fpr, tpr, thresholds = roc_curve(y_test_human, np.exp(confidences_normal_rnn))\n",
    "auc(fpr, tpr)"
   ]
  },
  {
   "cell_type": "code",
   "execution_count": 34,
   "metadata": {
    "scrolled": true
   },
   "outputs": [
    {
     "name": "stdout",
     "output_type": "stream",
     "text": [
      "0.4\n",
      "0.9517102615694165\n"
     ]
    }
   ],
   "source": [
    "#print (np.where(thresholds == 0.50371398))\n",
    "#print (thresholds)\n",
    "print (fpr[255])\n",
    "print (tpr[255])"
   ]
  },
  {
   "cell_type": "code",
   "execution_count": 35,
   "metadata": {},
   "outputs": [],
   "source": [
    "# np.save('fpr_bac_psgld.npy', fpr)\n",
    "# np.save('tpr_bac_psgld.npy', tpr)\n",
    "# np.save('thresholds_roc_bac_psgld.npy', thresholds)"
   ]
  },
  {
   "cell_type": "code",
   "execution_count": 115,
   "metadata": {},
   "outputs": [
    {
     "name": "stderr",
     "output_type": "stream",
     "text": [
      "/home/nafizh/anaconda3/lib/python3.6/site-packages/matplotlib/cbook/__init__.py:2446: UserWarning: Saw kwargs ['lw', 'linewidth'] which are all aliases for 'linewidth'.  Kept value from 'linewidth'\n",
      "  seen=seen, canon=canonical, used=seen[-1]))\n"
     ]
    },
    {
     "data": {
      "image/png": "[encoded data removed]",
      "text/plain": [
       "<Figure size 864x648 with 1 Axes>"
      ]
     },
     "metadata": {},
     "output_type": "display_data"
    }
   ],
   "source": [
    "import seaborn as sns\n",
    "sns.set_style(\"white\")\n",
    "plt.rc('ytick',labelsize=18)\n",
    "plt.rc('xtick',labelsize=18)\n",
    "_, axs = plt.subplots(1, 1, figsize=(12,9))\n",
    "#fig.set_size_inches(12.0, 8.0)\n",
    "def label_plot(ax, is_pr=True):\n",
    "    x, y = (('recall', 'precision')\n",
    "            if is_pr else\n",
    "            ('false pos rate', 'true pos rate'))\n",
    "    ax.set_xlabel('False Positive Rate', fontsize = 22)\n",
    "    ax.set_ylabel('True Positive Rate', fontsize = 22)\n",
    "    ax.set_xlim([0,1.02])\n",
    "    ax.set_ylim([0,1.02])\n",
    "    \n",
    "\n",
    "# average w2v svm \n",
    "axs.errorbar(\n",
    "    np.load('fpr_bac_psgld.npy'),\n",
    "    np.load('tpr_bac_psgld.npy'),\n",
    "    color='green',\n",
    "    errorevery=10,\n",
    "    alpha = 0.6,\n",
    "    #ecolor='orangered',\n",
    "    ecolor = np.asanyarray([1,0,0, 0]),\n",
    "    lw=2, fmt = '-',  capsize = 5, elinewidth=2,markeredgewidth=2, linewidth = 6.0, \n",
    "    label = 'pSGLD  (%0.3f)' % (0.944))\n",
    "\n",
    "axs.errorbar(\n",
    "    np.load('fpr_bac_adam.npy'),\n",
    "    np.load('tpr_bac_adam.npy'),\n",
    "    color='blue',\n",
    "    errorevery=10,\n",
    "    alpha = 0.6,\n",
    "    #ecolor='orangered',\n",
    "    ecolor = np.asanyarray([1,0,0, 0]),\n",
    "    lw=2, fmt = '-',  capsize = 5, elinewidth=2,markeredgewidth=2, linewidth = 6.0, \n",
    "    label = 'Adam  (%0.3f)' % (0.905))\n",
    "\n",
    "label_plot(axs, is_pr=False)\n",
    "\n",
    "\n",
    "\n",
    "#axs.set_title('N={}'.format(N))\n",
    "plt.tick_params(size = 10)\n",
    "axs.spines[\"top\"].set_visible(False)  \n",
    "axs.spines[\"right\"].set_visible(False)\n",
    "axs.figure.set_size_inches(12, 9)\n",
    "axs.legend(loc = 'lower right', fontsize=20)\n",
    "axs.figure.savefig('roc_bac_ab_res.pdf', format = 'pdf', dpi = 1200, bbox_inches=\"tight\")\n",
    "axs.figure.savefig('roc_bac_ab_res.svg', format = 'svg', dpi = 1200, bbox_inches=\"tight\")"
   ]
  },
  {
   "cell_type": "code",
   "execution_count": 37,
   "metadata": {},
   "outputs": [
    {
     "name": "stderr",
     "output_type": "stream",
     "text": [
      "/home/nafizh/anaconda3/lib/python3.6/site-packages/torch/nn/functional.py:1089: UserWarning: nn.functional.tanh is deprecated. Use torch.tanh instead.\n",
      "  warnings.warn(\"nn.functional.tanh is deprecated. Use torch.tanh instead.\")\n"
     ]
    }
   ],
   "source": [
    "import normalRNN_ab_res_ADAM\n",
    "normal_rnn = normalRNN_ab_res_ADAM.SelfAttentionRNNnormal(hidden_size = 64, num_layers = 3, nb_tokens = 20, \n",
    "                                              embedding_dim = 10, num_classes = 15)\n",
    "normal_rnn = normal_rnn.cuda()\n",
    "normal_rnn.load_state_dict(torch.load('rnn_with_attention_whole_ab_resistance_model_adam.pkl'))\n",
    "\n",
    "val_tensor_x = torch.from_numpy(data)\n",
    "val_tensor_y = torch.from_numpy(y_)\n",
    "\n",
    "# create your dataset\n",
    "val_dataset = torch.utils.data.TensorDataset(val_tensor_x, val_tensor_y) \n",
    "# create your dataloader\n",
    "val_dataloader = torch.utils.data.DataLoader(val_dataset, batch_size=64,\n",
    "                                             shuffle = False, \n",
    "                                                        drop_last = False, \n",
    "                                                         pin_memory = True) \n",
    "\n",
    "normal_rnn.eval()\n",
    "# correct = 0\n",
    "# total = 0\n",
    "predictions = []\n",
    "for seqs, _ in val_dataloader:\n",
    "    normal_rnn.batch_size = seqs.size(0)\n",
    "    normal_rnn.hidden_state = normal_rnn.init_hidden()\n",
    "    \n",
    "    seqs = Variable(seqs).long().cuda()\n",
    "    #labels = Variable(labels).long().cuda()\n",
    "    \n",
    "    outputs, att = normal_rnn(seqs)\n",
    "    #print (outputs)\n",
    "    #print (torch.sum(outputs, 1))\n",
    "    predicted, predicted_labels = torch.max(outputs.data, 1)\n",
    "    predictions.append(predicted)"
   ]
  },
  {
   "cell_type": "code",
   "execution_count": 38,
   "metadata": {},
   "outputs": [
    {
     "name": "stdout",
     "output_type": "stream",
     "text": [
      "480\n"
     ]
    }
   ],
   "source": [
    "confidences_normal_rnn = []\n",
    "for l in predictions:\n",
    "    for l_in in l:\n",
    "        confidences_normal_rnn.append(l_in.item())\n",
    "print (len(confidences_normal_rnn))"
   ]
  },
  {
   "cell_type": "code",
   "execution_count": 39,
   "metadata": {},
   "outputs": [
    {
     "name": "stderr",
     "output_type": "stream",
     "text": [
      "/home/nafizh/anaconda3/lib/python3.6/site-packages/torch/nn/functional.py:1089: UserWarning: nn.functional.tanh is deprecated. Use torch.tanh instead.\n",
      "  warnings.warn(\"nn.functional.tanh is deprecated. Use torch.tanh instead.\")\n"
     ]
    }
   ],
   "source": [
    "import normalRNN_ab_res_ADAM\n",
    "normal_rnn = normalRNN_ab_res_ADAM.SelfAttentionRNNnormal(hidden_size = 64, num_layers = 3, nb_tokens = 20, \n",
    "                                              embedding_dim = 10, num_classes = 15)\n",
    "normal_rnn = normal_rnn.cuda()\n",
    "normal_rnn.load_state_dict(torch.load('rnn_with_attention_whole_ab_resistance_model_adam.pkl'))\n",
    "\n",
    "normal_rnn.eval()\n",
    "correct = 0\n",
    "total = 0\n",
    "predictions = []\n",
    "predictions_true = []\n",
    "predictions_false = []\n",
    "for seqs, labels in test_dataloader:\n",
    "    normal_rnn.batch_size = seqs.size(0)\n",
    "    normal_rnn.hidden_state = normal_rnn.init_hidden()\n",
    "    \n",
    "    seqs = Variable(seqs).long().cuda()\n",
    "    #labels = Variable(labels).long().cuda()\n",
    "    \n",
    "    outputs, att = normal_rnn(seqs)\n",
    "    #print (outputs)\n",
    "    #print (torch.sum(outputs, 1))\n",
    "    #predicted = torch.max(F.softmax(outputs.data), 1)[0]\n",
    "    predicted, predicted_labels = torch.max(outputs.data, 1)\n",
    "    predictions.append(predicted)\n",
    "    #print (predicted)\n",
    "    #print (predicted_labels)\n",
    "    #print (labels)\n",
    "    \n",
    "    # Take only probabilities where the prediction is true\n",
    "    predictions_false.append(predicted[predicted_labels.cpu() != labels.long()])\n",
    "    predictions_true.append(predicted[predicted_labels.cpu() == labels.long()])"
   ]
  },
  {
   "cell_type": "code",
   "execution_count": 40,
   "metadata": {},
   "outputs": [
    {
     "name": "stdout",
     "output_type": "stream",
     "text": [
      "1971\n"
     ]
    }
   ],
   "source": [
    "for l in predictions:\n",
    "    for l_in in l:\n",
    "        confidences_normal_rnn.append(l_in.item())\n",
    "print (len(confidences_normal_rnn))"
   ]
  },
  {
   "cell_type": "code",
   "execution_count": 41,
   "metadata": {},
   "outputs": [
    {
     "data": {
      "text/plain": [
       "0.9673232423332234"
      ]
     },
     "execution_count": 41,
     "metadata": {},
     "output_type": "execute_result"
    }
   ],
   "source": [
    "precision, recall, thresholds = precision_recall_curve(y_test_human, np.exp(confidences_normal_rnn))\n",
    "auc(recall, precision)"
   ]
  },
  {
   "cell_type": "code",
   "execution_count": 42,
   "metadata": {},
   "outputs": [],
   "source": [
    "# np.save('precision_bac_adam.npy', precision)\n",
    "# np.save('recall_bac_adam.npy', recall)\n",
    "# np.save('thresholds_pr_bac_adam.npy', thresholds)"
   ]
  },
  {
   "cell_type": "code",
   "execution_count": 43,
   "metadata": {},
   "outputs": [
    {
     "data": {
      "text/plain": [
       "0.9045243684328192"
      ]
     },
     "execution_count": 43,
     "metadata": {},
     "output_type": "execute_result"
    }
   ],
   "source": [
    "fpr, tpr, thresholds = roc_curve(y_test_human, np.exp(confidences_normal_rnn))\n",
    "auc(fpr, tpr)"
   ]
  },
  {
   "cell_type": "code",
   "execution_count": 53,
   "metadata": {},
   "outputs": [
    {
     "data": {
      "text/plain": [
       "0.5583333333333333"
      ]
     },
     "execution_count": 53,
     "metadata": {},
     "output_type": "execute_result"
    }
   ],
   "source": [
    "tpr[420]\n",
    "fpr[420]"
   ]
  },
  {
   "cell_type": "code",
   "execution_count": 44,
   "metadata": {},
   "outputs": [],
   "source": [
    "# np.save('fpr_bac_adam.npy', fpr)\n",
    "# np.save('tpr_bac_adam.npy', tpr)\n",
    "# np.save('thresholds_roc_bac_adam.npy', thresholds)"
   ]
  },
  {
   "cell_type": "markdown",
   "metadata": {},
   "source": [
    "### Not included classes"
   ]
  },
  {
   "cell_type": "code",
   "execution_count": 88,
   "metadata": {},
   "outputs": [
    {
     "name": "stdout",
     "output_type": "stream",
     "text": [
      "Found 20 unique tokens.\n"
     ]
    }
   ],
   "source": [
    "texts = np.load('ab_res_whole_dataset_texts.npy')\n",
    "\n",
    "MAX_SEQUENCE_LENGTH = 1600\n",
    "MAX_NB_CHARS = 20\n",
    "tokenizer = Tokenizer(num_words=MAX_NB_CHARS) #MAX_NB_WORDS = 10334\n",
    "tokenizer.fit_on_texts(texts)\n",
    "sequences = tokenizer.texts_to_sequences(texts)\n",
    "\n",
    "char_index = tokenizer.word_index\n",
    "print('Found %s unique tokens.' % len(char_index))"
   ]
  },
  {
   "cell_type": "code",
   "execution_count": 89,
   "metadata": {},
   "outputs": [
    {
     "name": "stdout",
     "output_type": "stream",
     "text": [
      "Found 20 unique tokens.\n",
      "67\n",
      "<class 'dict'>\n",
      "{'l': 1, 'a': 2, 'g': 3, 'v': 4, 'i': 5, 's': 6, 't': 7, 'f': 8, 'r': 9, 'e': 10, 'k': 11, 'd': 12, 'p': 13, 'q': 14, 'n': 15, 'y': 16, 'm': 17, 'h': 18, 'w': 19, 'c': 20}\n",
      "True\n",
      "Shape of data tensor: (67, 1600)\n",
      "(67, 1)\n"
     ]
    }
   ],
   "source": [
    "# 67 datapoints that belong to the 18 classes we did not include\n",
    "new_texts = np.load('not_included_ab_res_texts.npy')\n",
    "new_sequences = tokenizer.texts_to_sequences(new_texts)\n",
    "\n",
    "ab_char_index = tokenizer.word_index\n",
    "print('Found %s unique tokens.' % len(char_index))\n",
    "print (len(new_sequences))\n",
    "#print (sequences[0])\n",
    "print (type(char_index))\n",
    "print (ab_char_index)\n",
    "print (ab_char_index == char_index)\n",
    "data = pad_sequences(new_sequences, maxlen=MAX_SEQUENCE_LENGTH) #MAX_SEQUENCE_LENGTH = 1602\n",
    "\n",
    "#labels = to_categorical(np.asarray(labels))\n",
    "print('Shape of data tensor:', data.shape)\n",
    "#type(data)\n",
    "y_ = np.zeros([data.shape[0], 1])\n",
    "print (y_.shape)"
   ]
  },
  {
   "cell_type": "code",
   "execution_count": 90,
   "metadata": {},
   "outputs": [
    {
     "name": "stdout",
     "output_type": "stream",
     "text": [
      "(1558,)\n"
     ]
    }
   ],
   "source": [
    "y_test_human = np.vstack((np.zeros((67, 1)), np.ones((1491,1))))\n",
    "c, r = y_test_human.shape\n",
    "y_test_human = y_test_human.reshape(c,)\n",
    "print (y_test_human.shape)"
   ]
  },
  {
   "cell_type": "code",
   "execution_count": 91,
   "metadata": {},
   "outputs": [
    {
     "name": "stderr",
     "output_type": "stream",
     "text": [
      "/home/nafizh/anaconda3/lib/python3.6/site-packages/torch/nn/functional.py:1089: UserWarning: nn.functional.tanh is deprecated. Use torch.tanh instead.\n",
      "  warnings.warn(\"nn.functional.tanh is deprecated. Use torch.tanh instead.\")\n"
     ]
    }
   ],
   "source": [
    "import normalRNN_ab_res_ADAM\n",
    "normal_rnn = normalRNN_ab_res_ADAM.SelfAttentionRNNnormal(hidden_size = 64, num_layers = 3, nb_tokens = 20, \n",
    "                                              embedding_dim = 10, num_classes = 15)\n",
    "normal_rnn = normal_rnn.cuda()\n",
    "normal_rnn.load_state_dict(torch.load('rnn_with_attention_whole_ab_resistance_model_adam.pkl'))\n",
    "\n",
    "val_tensor_x = torch.from_numpy(data)\n",
    "val_tensor_y = torch.from_numpy(y_)\n",
    "\n",
    "# create your dataset\n",
    "val_dataset = torch.utils.data.TensorDataset(val_tensor_x, val_tensor_y) \n",
    "# create your dataloader\n",
    "val_dataloader = torch.utils.data.DataLoader(val_dataset, batch_size=64,\n",
    "                                             shuffle = False, \n",
    "                                                        drop_last = False, \n",
    "                                                         pin_memory = True) \n",
    "\n",
    "normal_rnn.eval()\n",
    "# correct = 0\n",
    "# total = 0\n",
    "predictions = []\n",
    "for seqs, _ in val_dataloader:\n",
    "    normal_rnn.batch_size = seqs.size(0)\n",
    "    normal_rnn.hidden_state = normal_rnn.init_hidden()\n",
    "    \n",
    "    seqs = Variable(seqs).long().cuda()\n",
    "    #labels = Variable(labels).long().cuda()\n",
    "    \n",
    "    outputs, att = normal_rnn(seqs)\n",
    "    #print (outputs)\n",
    "    #print (torch.sum(outputs, 1))\n",
    "    predicted, predicted_labels = torch.max(outputs.data, 1)\n",
    "    predictions.append(predicted)"
   ]
  },
  {
   "cell_type": "code",
   "execution_count": 92,
   "metadata": {},
   "outputs": [
    {
     "name": "stdout",
     "output_type": "stream",
     "text": [
      "67\n"
     ]
    }
   ],
   "source": [
    "confidences_normal_rnn = []\n",
    "for l in predictions:\n",
    "    for l_in in l:\n",
    "        confidences_normal_rnn.append(l_in.item())\n",
    "print (len(confidences_normal_rnn))"
   ]
  },
  {
   "cell_type": "code",
   "execution_count": 93,
   "metadata": {},
   "outputs": [
    {
     "name": "stderr",
     "output_type": "stream",
     "text": [
      "/home/nafizh/anaconda3/lib/python3.6/site-packages/torch/nn/functional.py:1089: UserWarning: nn.functional.tanh is deprecated. Use torch.tanh instead.\n",
      "  warnings.warn(\"nn.functional.tanh is deprecated. Use torch.tanh instead.\")\n"
     ]
    }
   ],
   "source": [
    "import normalRNN_ab_res_ADAM\n",
    "normal_rnn = normalRNN_ab_res_ADAM.SelfAttentionRNNnormal(hidden_size = 64, num_layers = 3, nb_tokens = 20, \n",
    "                                              embedding_dim = 10, num_classes = 15)\n",
    "normal_rnn = normal_rnn.cuda()\n",
    "normal_rnn.load_state_dict(torch.load('rnn_with_attention_whole_ab_resistance_model_adam.pkl'))\n",
    "\n",
    "normal_rnn.eval()\n",
    "correct = 0\n",
    "total = 0\n",
    "predictions = []\n",
    "predictions_true = []\n",
    "predictions_false = []\n",
    "for seqs, labels in test_dataloader:\n",
    "    normal_rnn.batch_size = seqs.size(0)\n",
    "    normal_rnn.hidden_state = normal_rnn.init_hidden()\n",
    "    \n",
    "    seqs = Variable(seqs).long().cuda()\n",
    "    #labels = Variable(labels).long().cuda()\n",
    "    \n",
    "    outputs, att = normal_rnn(seqs)\n",
    "    #print (outputs)\n",
    "    #print (torch.sum(outputs, 1))\n",
    "    #predicted = torch.max(F.softmax(outputs.data), 1)[0]\n",
    "    predicted, predicted_labels = torch.max(outputs.data, 1)\n",
    "    predictions.append(predicted)\n",
    "    #print (predicted)\n",
    "    #print (predicted_labels)\n",
    "    #print (labels)\n",
    "    \n",
    "    # Take only probabilities where the prediction is true\n",
    "    predictions_false.append(predicted[predicted_labels.cpu() != labels.long()])\n",
    "    predictions_true.append(predicted[predicted_labels.cpu() == labels.long()])"
   ]
  },
  {
   "cell_type": "code",
   "execution_count": 94,
   "metadata": {},
   "outputs": [
    {
     "name": "stdout",
     "output_type": "stream",
     "text": [
      "1558\n"
     ]
    }
   ],
   "source": [
    "for l in predictions:\n",
    "    for l_in in l:\n",
    "        confidences_normal_rnn.append(l_in.item())\n",
    "print (len(confidences_normal_rnn))"
   ]
  },
  {
   "cell_type": "code",
   "execution_count": 95,
   "metadata": {},
   "outputs": [
    {
     "data": {
      "text/plain": [
       "0.991999619822238"
      ]
     },
     "execution_count": 95,
     "metadata": {},
     "output_type": "execute_result"
    }
   ],
   "source": [
    "precision, recall, thresholds = precision_recall_curve(y_test_human, np.exp(confidences_normal_rnn))\n",
    "auc(recall, precision)"
   ]
  },
  {
   "cell_type": "code",
   "execution_count": 96,
   "metadata": {},
   "outputs": [],
   "source": [
    "# np.save('precision_not_inc_adam.npy', precision)\n",
    "# np.save('recall_not_inc_adam.npy', recall)\n",
    "# np.save('thresholds_pr_not_inc_adam.npy', thresholds)"
   ]
  },
  {
   "cell_type": "code",
   "execution_count": 97,
   "metadata": {},
   "outputs": [
    {
     "data": {
      "text/plain": [
       "0.8942911198534491"
      ]
     },
     "execution_count": 97,
     "metadata": {},
     "output_type": "execute_result"
    }
   ],
   "source": [
    "fpr, tpr, thresholds = roc_curve(y_test_human, np.exp(confidences_normal_rnn))\n",
    "auc(fpr, tpr)"
   ]
  },
  {
   "cell_type": "code",
   "execution_count": 98,
   "metadata": {},
   "outputs": [],
   "source": [
    "# np.save('fpr_not_inc_adam.npy', fpr)\n",
    "# np.save('tpr_not_inc_adam.npy', tpr)\n",
    "# np.save('thresholds_roc_not_inc_adam.npy', thresholds)"
   ]
  },
  {
   "cell_type": "code",
   "execution_count": 99,
   "metadata": {},
   "outputs": [
    {
     "name": "stderr",
     "output_type": "stream",
     "text": [
      "/home/nafizh/anaconda3/lib/python3.6/site-packages/torch/nn/modules/rnn.py:46: UserWarning: dropout option adds dropout after all but last recurrent layer, so non-zero dropout expects num_layers greater than 1, but got dropout=0.4 and num_layers=1\n",
      "  \"num_layers={}\".format(dropout, num_layers))\n",
      "/home/nafizh/anaconda3/lib/python3.6/site-packages/torch/nn/functional.py:1089: UserWarning: nn.functional.tanh is deprecated. Use torch.tanh instead.\n",
      "  warnings.warn(\"nn.functional.tanh is deprecated. Use torch.tanh instead.\")\n"
     ]
    }
   ],
   "source": [
    "import sgldRNN_ab_res\n",
    "sgld_rnn = sgldRNN_ab_res.SelfAttentionRNNsgld(hidden_size = 128, num_layers = 1, nb_tokens = 20, \n",
    "                                              embedding_dim = 400, num_classes = 15)\n",
    "sgld_rnn = sgld_rnn.cuda()\n",
    "sgld_rnn.load_state_dict(torch.load('psgld_rnn_with_att_ab_res_0.375431_acc_96.311475_cyclical.pkl'))\n",
    "\n",
    "\n",
    "val_tensor_x = torch.from_numpy(data)\n",
    "val_tensor_y = torch.from_numpy(y_)\n",
    "\n",
    "# create your dataset\n",
    "val_dataset = torch.utils.data.TensorDataset(val_tensor_x, val_tensor_y) \n",
    "# create your dataloader\n",
    "val_dataloader = torch.utils.data.DataLoader(val_dataset, batch_size=64,\n",
    "                                             shuffle = False, \n",
    "                                                        drop_last = False, \n",
    "                                                         pin_memory = True) \n",
    "\n",
    "sgld_rnn.eval()\n",
    "# correct = 0\n",
    "# total = 0\n",
    "predictions = []\n",
    "for seqs, _ in val_dataloader:\n",
    "    sgld_rnn.batch_size = seqs.size(0)\n",
    "    sgld_rnn.hidden_state = sgld_rnn.init_hidden()\n",
    "    \n",
    "    seqs = Variable(seqs).long().cuda()\n",
    "    #labels = Variable(labels).long().cuda()\n",
    "    \n",
    "    outputs, att = sgld_rnn(seqs)\n",
    "    #print (outputs)\n",
    "    #print (torch.sum(outputs, 1))\n",
    "    predicted, predicted_labels = torch.max(outputs.data, 1)\n",
    "    predictions.append(predicted)"
   ]
  },
  {
   "cell_type": "code",
   "execution_count": 100,
   "metadata": {},
   "outputs": [
    {
     "name": "stdout",
     "output_type": "stream",
     "text": [
      "67\n"
     ]
    }
   ],
   "source": [
    "confidences_normal_rnn = []\n",
    "for l in predictions:\n",
    "    for l_in in l:\n",
    "        confidences_normal_rnn.append(l_in.item())\n",
    "print (len(confidences_normal_rnn))"
   ]
  },
  {
   "cell_type": "code",
   "execution_count": 101,
   "metadata": {},
   "outputs": [
    {
     "name": "stderr",
     "output_type": "stream",
     "text": [
      "/home/nafizh/anaconda3/lib/python3.6/site-packages/torch/nn/modules/rnn.py:46: UserWarning: dropout option adds dropout after all but last recurrent layer, so non-zero dropout expects num_layers greater than 1, but got dropout=0.4 and num_layers=1\n",
      "  \"num_layers={}\".format(dropout, num_layers))\n",
      "/home/nafizh/anaconda3/lib/python3.6/site-packages/torch/nn/functional.py:1089: UserWarning: nn.functional.tanh is deprecated. Use torch.tanh instead.\n",
      "  warnings.warn(\"nn.functional.tanh is deprecated. Use torch.tanh instead.\")\n"
     ]
    }
   ],
   "source": [
    "import sgldRNN_ab_res\n",
    "sgld_rnn = sgldRNN_ab_res.SelfAttentionRNNsgld(hidden_size = 128, num_layers = 1, nb_tokens = 20, \n",
    "                                              embedding_dim = 400, num_classes = 15)\n",
    "sgld_rnn = sgld_rnn.cuda()\n",
    "sgld_rnn.load_state_dict(torch.load('psgld_rnn_with_att_ab_res_0.375431_acc_96.311475_cyclical.pkl'))\n",
    "\n",
    "\n",
    "sgld_rnn.eval()\n",
    "correct = 0\n",
    "total = 0\n",
    "predictions = []\n",
    "predictions_true = []\n",
    "predictions_false = []\n",
    "for seqs, labels in test_dataloader:\n",
    "    sgld_rnn.batch_size = seqs.size(0)\n",
    "    sgld_rnn.hidden_state = sgld_rnn.init_hidden()\n",
    "    \n",
    "    seqs = Variable(seqs).long().cuda()\n",
    "    #labels = Variable(labels).long().cuda()\n",
    "    \n",
    "    outputs, att = sgld_rnn(seqs)\n",
    "    #print (outputs)\n",
    "    #print (torch.sum(outputs, 1))\n",
    "    predicted, predicted_labels = torch.max(outputs.data, 1)\n",
    "    predictions.append(predicted)\n",
    "    #print (predicted)\n",
    "    #print (predicted_labels)\n",
    "    #print (labels)\n",
    "    \n",
    "    # Take only probabilities where the prediction is true\n",
    "    predictions_true.append(predicted[predicted_labels.cpu() == labels.long()])\n",
    "    predictions_false.append(predicted[predicted_labels.cpu() != labels.long()])\n",
    "    #print ('hello')\n",
    "    #print (torch.exp(outputs))\n",
    "    #break\n",
    "    \n",
    "    \n",
    "# print('Validation Accuracy of the model: %f %%' % (100 * correct.item() / total)) \n",
    "# print (len(predictions))"
   ]
  },
  {
   "cell_type": "code",
   "execution_count": 102,
   "metadata": {},
   "outputs": [
    {
     "name": "stdout",
     "output_type": "stream",
     "text": [
      "1558\n"
     ]
    }
   ],
   "source": [
    "for l in predictions:\n",
    "    for l_in in l:\n",
    "        confidences_normal_rnn.append(l_in.item())\n",
    "print (len(confidences_normal_rnn))"
   ]
  },
  {
   "cell_type": "code",
   "execution_count": 103,
   "metadata": {},
   "outputs": [
    {
     "data": {
      "text/plain": [
       "0.9940022659029996"
      ]
     },
     "execution_count": 103,
     "metadata": {},
     "output_type": "execute_result"
    }
   ],
   "source": [
    "precision, recall, thresholds = precision_recall_curve(y_test_human, np.exp(confidences_normal_rnn))\n",
    "auc(recall, precision)"
   ]
  },
  {
   "cell_type": "code",
   "execution_count": 104,
   "metadata": {},
   "outputs": [],
   "source": [
    "# np.save('precision_not_inc_psgld.npy', precision)\n",
    "# np.save('recall_not_inc_psgld.npy', recall)\n",
    "# np.save('thresholds_pr_not_inc_psgld.npy', thresholds)"
   ]
  },
  {
   "cell_type": "code",
   "execution_count": 105,
   "metadata": {},
   "outputs": [
    {
     "data": {
      "text/plain": [
       "0.8970439552739322"
      ]
     },
     "execution_count": 105,
     "metadata": {},
     "output_type": "execute_result"
    }
   ],
   "source": [
    "fpr, tpr, thresholds = roc_curve(y_test_human, np.exp(confidences_normal_rnn))\n",
    "auc(fpr, tpr)"
   ]
  },
  {
   "cell_type": "code",
   "execution_count": 106,
   "metadata": {},
   "outputs": [],
   "source": [
    "# np.save('fpr_not_inc_psgld.npy', fpr)\n",
    "# np.save('tpr_not_inc_psgld.npy', tpr)\n",
    "# np.save('thresholds_roc_not_inc_psgld.npy', thresholds)"
   ]
  },
  {
   "cell_type": "code",
   "execution_count": 116,
   "metadata": {},
   "outputs": [
    {
     "name": "stderr",
     "output_type": "stream",
     "text": [
      "/home/nafizh/anaconda3/lib/python3.6/site-packages/matplotlib/cbook/__init__.py:2446: UserWarning: Saw kwargs ['lw', 'linewidth'] which are all aliases for 'linewidth'.  Kept value from 'linewidth'\n",
      "  seen=seen, canon=canonical, used=seen[-1]))\n"
     ]
    },
    {
     "data": {
      "image/png": "[encoded data removed]",
      "text/plain": [
       "<Figure size 864x648 with 1 Axes>"
      ]
     },
     "metadata": {},
     "output_type": "display_data"
    }
   ],
   "source": [
    "import seaborn as sns\n",
    "sns.set_style(\"white\")\n",
    "plt.rc('ytick',labelsize=18)\n",
    "plt.rc('xtick',labelsize=18)\n",
    "_, axs = plt.subplots(1, 1, figsize=(12,9))\n",
    "#fig.set_size_inches(12.0, 8.0)\n",
    "def label_plot(ax, is_pr=True):\n",
    "    x, y = (('recall', 'precision')\n",
    "            if is_pr else\n",
    "            ('false pos rate', 'true pos rate'))\n",
    "    ax.set_xlabel('Recall', fontsize = 22)\n",
    "    ax.set_ylabel('Precision', fontsize = 22)\n",
    "    ax.set_xlim([0,1.02])\n",
    "    ax.set_ylim([0,1.02])\n",
    "    \n",
    "\n",
    "# average w2v svm \n",
    "axs.errorbar(\n",
    "    np.load('recall_not_inc_psgld.npy'),\n",
    "    np.load('precision_not_inc_psgld.npy'),\n",
    "    color='green',\n",
    "    errorevery=10,\n",
    "    alpha = 0.6,\n",
    "    #ecolor='orangered',\n",
    "    ecolor = np.asanyarray([1,0,0, 0]),\n",
    "    lw=2, fmt = '-',  capsize = 5, elinewidth=2,markeredgewidth=2, linewidth = 6.0, \n",
    "    label = 'pSGLD  (%0.3f)' % (0.994))\n",
    "\n",
    "axs.errorbar(\n",
    "    np.load('recall_not_inc_adam.npy'),\n",
    "    np.load('precision_not_inc_adam.npy'),\n",
    "    color='blue',\n",
    "    errorevery=10,\n",
    "    alpha = 0.6,\n",
    "    #ecolor='orangered',\n",
    "    ecolor = np.asanyarray([1,0,0, 0]),\n",
    "    lw=2, fmt = '-',  capsize = 5, elinewidth=2,markeredgewidth=2, linewidth = 6.0, \n",
    "    label = 'Adam  (%0.3f)' % (0.992))\n",
    "\n",
    "label_plot(axs)\n",
    "\n",
    "\n",
    "\n",
    "#axs.set_title('N={}'.format(N))\n",
    "plt.tick_params(size = 10)\n",
    "axs.spines[\"top\"].set_visible(False)  \n",
    "axs.spines[\"right\"].set_visible(False)\n",
    "axs.figure.set_size_inches(12, 9)\n",
    "axs.legend(loc = 'lower left', fontsize=20)\n",
    "axs.figure.savefig('pr_not_inc_ab_res.pdf', format = 'pdf', dpi = 1200, bbox_inches=\"tight\")\n",
    "axs.figure.savefig('pr_not_inc_ab_res.svg', format = 'svg', dpi = 1200, bbox_inches=\"tight\")"
   ]
  },
  {
   "cell_type": "code",
   "execution_count": 117,
   "metadata": {},
   "outputs": [
    {
     "name": "stderr",
     "output_type": "stream",
     "text": [
      "/home/nafizh/anaconda3/lib/python3.6/site-packages/matplotlib/cbook/__init__.py:2446: UserWarning: Saw kwargs ['lw', 'linewidth'] which are all aliases for 'linewidth'.  Kept value from 'linewidth'\n",
      "  seen=seen, canon=canonical, used=seen[-1]))\n"
     ]
    },
    {
     "data": {
      "image/png": "[encoded data removed]",
      "text/plain": [
       "<Figure size 864x648 with 1 Axes>"
      ]
     },
     "metadata": {},
     "output_type": "display_data"
    }
   ],
   "source": [
    "import seaborn as sns\n",
    "sns.set_style(\"white\")\n",
    "plt.rc('ytick',labelsize=18)\n",
    "plt.rc('xtick',labelsize=18)\n",
    "_, axs = plt.subplots(1, 1, figsize=(12,9))\n",
    "#fig.set_size_inches(12.0, 8.0)\n",
    "def label_plot(ax, is_pr=True):\n",
    "    x, y = (('recall', 'precision')\n",
    "            if is_pr else\n",
    "            ('false pos rate', 'true pos rate'))\n",
    "    ax.set_xlabel('False Positive Rate', fontsize = 22)\n",
    "    ax.set_ylabel('True Positive Rate', fontsize = 22)\n",
    "    ax.set_xlim([0,1.02])\n",
    "    ax.set_ylim([0,1.02])\n",
    "    \n",
    "\n",
    "# average w2v svm \n",
    "axs.errorbar(\n",
    "    np.load('fpr_not_inc_psgld.npy'),\n",
    "    np.load('tpr_not_inc_psgld.npy'),\n",
    "    color='green',\n",
    "    errorevery=10,\n",
    "    alpha = 0.6,\n",
    "    #ecolor='orangered',\n",
    "    ecolor = np.asanyarray([1,0,0, 0]),\n",
    "    lw=2, fmt = '-',  capsize = 5, elinewidth=2,markeredgewidth=2, linewidth = 6.0, \n",
    "    label = 'pSGLD %0.3f' % (0.897))\n",
    "\n",
    "axs.errorbar(\n",
    "    np.load('fpr_not_inc_adam.npy'),\n",
    "    np.load('tpr_not_inc_adam.npy'),\n",
    "    color='blue',\n",
    "    errorevery=10,\n",
    "    alpha = 0.6,\n",
    "    #ecolor='orangered',\n",
    "    ecolor = np.asanyarray([1,0,0, 0]),\n",
    "    lw=2, fmt = '-',  capsize = 5, elinewidth=2,markeredgewidth=2, linewidth = 6.0, \n",
    "    label = 'Adam %0.3f' % (0.894))\n",
    "\n",
    "label_plot(axs, is_pr=False)\n",
    "\n",
    "\n",
    "\n",
    "#axs.set_title('N={}'.format(N))\n",
    "plt.tick_params(size = 10)\n",
    "axs.spines[\"top\"].set_visible(False)  \n",
    "axs.spines[\"right\"].set_visible(False)\n",
    "axs.figure.set_size_inches(12, 9)\n",
    "axs.legend(loc = 'lower right', fontsize=20)\n",
    "axs.figure.savefig('roc_not_inc_ab_res.pdf', format = 'pdf', dpi = 1200, bbox_inches=\"tight\")\n",
    "axs.figure.savefig('roc_not_inc_ab_res.svg', format = 'svg', dpi = 1200, bbox_inches=\"tight\")"
   ]
  },
  {
   "cell_type": "code",
   "execution_count": 304,
   "metadata": {},
   "outputs": [
    {
     "name": "stdout",
     "output_type": "stream",
     "text": [
      "(142,)\n",
      "(142,)\n",
      "(142,)\n"
     ]
    }
   ],
   "source": [
    "np.exp(confidences_normal_rnn)\n",
    "print (thresholds.shape)\n",
    "print (fpr.shape)\n",
    "print (tpr.shape)"
   ]
  },
  {
   "cell_type": "code",
   "execution_count": 308,
   "metadata": {
    "scrolled": true
   },
   "outputs": [
    {
     "name": "stdout",
     "output_type": "stream",
     "text": [
      "[0.99942224 0.99893817 0.99890197 0.99842196 0.99839625 0.99831628\n",
      " 0.99829343 0.99826867 0.99826487 0.9981849  0.99817157 0.99811922\n",
      " 0.99811827 0.99774996 0.99773093 0.99747595 0.99746359 0.99600828\n",
      " 0.99600353 0.99595509 0.99594559 0.99531227 0.99528664 0.99513858\n",
      " 0.99513573 0.99462149 0.9946139  0.99151796 0.99150567 0.99089123\n",
      " 0.99084871 0.98919171 0.98918039 0.98895119 0.98894364 0.98720604\n",
      " 0.9870893  0.9865811  0.98657827 0.9801141  0.98001502 0.96124085\n",
      " 0.96106257 0.95235888 0.9523339  0.90054906 0.90027857 0.88960461\n",
      " 0.88941163 0.83033151 0.82955584 0.82199412 0.82158189 0.82119061\n",
      " 0.82089855 0.79872993 0.79843862 0.78027648 0.77945391 0.77116981\n",
      " 0.76958178 0.74306391 0.74043702 0.7213058  0.7171386  0.68593122\n",
      " 0.68188905 0.6667296  0.66602101 0.64366736 0.64203199 0.60811271\n",
      " 0.60718927 0.60245001 0.6019518  0.59233068 0.59030731 0.57571715\n",
      " 0.56974981 0.56895313 0.56454004 0.55742631 0.55637804 0.5542828\n",
      " 0.55036009 0.54790488 0.54509415 0.54341324 0.54209295 0.53058847\n",
      " 0.52880073 0.52590716 0.52393054 0.5205724  0.51799894 0.51621275\n",
      " 0.51547483 0.51197384 0.51150142 0.50966606 0.5090608  0.50793101\n",
      " 0.50368072 0.50119973 0.49735556 0.4716542  0.46591682 0.45745344\n",
      " 0.45652602 0.44589393 0.44409605 0.44011163 0.43544676 0.42984779\n",
      " 0.42578721 0.42053197 0.41752616 0.39689814 0.39515091 0.39011443\n",
      " 0.38894843 0.38791352 0.38755651 0.38681432 0.38016371 0.36942795\n",
      " 0.36660164 0.32833311 0.32801255 0.30896916 0.30853926 0.29989312\n",
      " 0.29806293 0.28831643 0.28341797 0.27983616 0.27078036 0.27062798\n",
      " 0.25931657 0.24747275 0.22445564 0.22039553]\n",
      "[0.         0.         0.         0.         0.         0.\n",
      " 0.         0.         0.         0.         0.         0.\n",
      " 0.         0.         0.         0.         0.         0.\n",
      " 0.         0.         0.         0.         0.         0.\n",
      " 0.01492537 0.01492537 0.01492537 0.01492537 0.02985075 0.02985075\n",
      " 0.02985075 0.02985075 0.02985075 0.02985075 0.04477612 0.04477612\n",
      " 0.04477612 0.04477612 0.04477612 0.04477612 0.04477612 0.04477612\n",
      " 0.05970149 0.05970149 0.07462687 0.07462687 0.08955224 0.08955224\n",
      " 0.10447761 0.10447761 0.11940299 0.11940299 0.13432836 0.13432836\n",
      " 0.14925373 0.14925373 0.1641791  0.1641791  0.17910448 0.17910448\n",
      " 0.19402985 0.19402985 0.20895522 0.20895522 0.28358209 0.28358209\n",
      " 0.29850746 0.29850746 0.31343284 0.31343284 0.32835821 0.32835821\n",
      " 0.34328358 0.34328358 0.35820896 0.35820896 0.37313433 0.37313433\n",
      " 0.3880597  0.3880597  0.40298507 0.40298507 0.41791045 0.41791045\n",
      " 0.44776119 0.44776119 0.46268657 0.46268657 0.47761194 0.47761194\n",
      " 0.50746269 0.50746269 0.52238806 0.52238806 0.53731343 0.53731343\n",
      " 0.55223881 0.55223881 0.56716418 0.56716418 0.58208955 0.58208955\n",
      " 0.59701493 0.59701493 0.6119403  0.6119403  0.62686567 0.62686567\n",
      " 0.64179104 0.64179104 0.67164179 0.67164179 0.68656716 0.68656716\n",
      " 0.73134328 0.73134328 0.76119403 0.76119403 0.7761194  0.7761194\n",
      " 0.79104478 0.79104478 0.80597015 0.80597015 0.82089552 0.82089552\n",
      " 0.8358209  0.8358209  0.85074627 0.85074627 0.86567164 0.86567164\n",
      " 0.88059701 0.88059701 0.92537313 0.92537313 0.94029851 0.94029851\n",
      " 0.95522388 0.95522388 1.         1.        ]\n",
      "[6.70690812e-04 1.27431254e-02 1.40845070e-02 3.48759222e-02\n",
      " 3.62173038e-02 4.15828303e-02 4.29242119e-02 4.56069752e-02\n",
      " 4.69483568e-02 5.16431925e-02 5.29845741e-02 5.70087190e-02\n",
      " 5.83501006e-02 8.11535882e-02 8.24949698e-02 9.45674044e-02\n",
      " 9.59087860e-02 1.48893360e-01 1.50234742e-01 1.51576123e-01\n",
      " 1.52917505e-01 1.75050302e-01 1.76391683e-01 1.82427901e-01\n",
      " 1.82427901e-01 1.95841717e-01 1.97183099e-01 2.85714286e-01\n",
      " 2.85714286e-01 2.97786720e-01 2.99128102e-01 3.31991952e-01\n",
      " 3.33333333e-01 3.39369551e-01 3.39369551e-01 3.69550637e-01\n",
      " 3.70892019e-01 3.77598927e-01 3.78940309e-01 4.56069752e-01\n",
      " 4.57411133e-01 5.68075117e-01 5.68075117e-01 6.14352783e-01\n",
      " 6.14352783e-01 7.51173709e-01 7.51173709e-01 7.65258216e-01\n",
      " 7.65258216e-01 8.22266935e-01 8.22266935e-01 8.27632461e-01\n",
      " 8.27632461e-01 8.28303152e-01 8.28303152e-01 8.47082495e-01\n",
      " 8.47082495e-01 8.58484239e-01 8.58484239e-01 8.63849765e-01\n",
      " 8.63849765e-01 8.80617036e-01 8.80617036e-01 8.87994634e-01\n",
      " 8.87994634e-01 9.00067069e-01 9.00067069e-01 9.04091214e-01\n",
      " 9.04091214e-01 9.10798122e-01 9.10798122e-01 9.23541247e-01\n",
      " 9.23541247e-01 9.26224011e-01 9.26224011e-01 9.28906774e-01\n",
      " 9.28906774e-01 9.36284373e-01 9.36284373e-01 9.36955064e-01\n",
      " 9.36955064e-01 9.38967136e-01 9.38967136e-01 9.40308518e-01\n",
      " 9.40308518e-01 9.40979209e-01 9.40979209e-01 9.41649899e-01\n",
      " 9.41649899e-01 9.47015426e-01 9.47015426e-01 9.49698189e-01\n",
      " 9.49698189e-01 9.51039571e-01 9.51039571e-01 9.52380952e-01\n",
      " 9.52380952e-01 9.53051643e-01 9.53051643e-01 9.53722334e-01\n",
      " 9.53722334e-01 9.54393025e-01 9.54393025e-01 9.56405097e-01\n",
      " 9.56405097e-01 9.64453387e-01 9.64453387e-01 9.67806841e-01\n",
      " 9.67806841e-01 9.71160295e-01 9.71160295e-01 9.73843058e-01\n",
      " 9.73843058e-01 9.75855131e-01 9.75855131e-01 9.76525822e-01\n",
      " 9.76525822e-01 9.79879276e-01 9.79879276e-01 9.81891348e-01\n",
      " 9.81891348e-01 9.82562039e-01 9.82562039e-01 9.83232730e-01\n",
      " 9.83232730e-01 9.83903421e-01 9.83903421e-01 9.91281019e-01\n",
      " 9.91281019e-01 9.95305164e-01 9.95305164e-01 9.95975855e-01\n",
      " 9.95975855e-01 9.96646546e-01 9.96646546e-01 9.97987928e-01\n",
      " 9.97987928e-01 9.98658618e-01 9.98658618e-01 9.99329309e-01\n",
      " 9.99329309e-01 1.00000000e+00]\n"
     ]
    }
   ],
   "source": [
    "print (thresholds)\n",
    "print (fpr)\n",
    "print (tpr)"
   ]
  },
  {
   "cell_type": "code",
   "execution_count": 310,
   "metadata": {},
   "outputs": [
    {
     "data": {
      "text/plain": [
       "0.5223880597014925"
      ]
     },
     "execution_count": 310,
     "metadata": {},
     "output_type": "execute_result"
    }
   ],
   "source": [
    "fpr[93]"
   ]
  },
  {
   "cell_type": "markdown",
   "metadata": {},
   "source": [
    "## Barplot"
   ]
  },
  {
   "cell_type": "code",
   "execution_count": 226,
   "metadata": {},
   "outputs": [
    {
     "data": {
      "image/png": "[encoded data removed]",
      "text/plain": [
       "<Figure size 288x1080 with 1 Axes>"
      ]
     },
     "metadata": {},
     "output_type": "display_data"
    }
   ],
   "source": [
    "#       0.92      0.87       109\n",
    "#         1.0             0.97      0.97       519\n",
    "#         2.0             0.89      0.90        87\n",
    "#         3.0             1.00      1.00         3\n",
    "#         4.0             0.70      0.81        27\n",
    "#         5.0             0.92      0.92        13\n",
    "#         6.0             0.94      0.93       111\n",
    "#         7.0             1.00      0.97        29\n",
    "#         8.0             0.97      0.98        90\n",
    "#         9.0             0.98      0.99        47\n",
    "#        10.0             0.99      0.99       421\n",
    "#        11.0             1.00      1.00         3\n",
    "#        12.0             0.75      0.80         8\n",
    "#        13.0             1.00      0.57         2\n",
    "#        14.0             0.91      0.74        22\n",
    "\n",
    "psgld = [0.96,0.62,0.40,0.86,1.00,1.0,1.0,1.0,0.94,0.92,0.92,0.95,1.0,0.91,0.98,0.83]\n",
    "adam = [0.96,0.53,1.0,0.78,1.0,0.99,0.98,1.0,1.0,0.95,0.80,0.86,1.0,0.90,0.99,0.84]\n",
    "\n",
    "plt.rc('ytick',labelsize=15)\n",
    "plt.rc('xtick',labelsize=10)\n",
    "algos = ['pSGLD', 'Adam']\n",
    "pos = list(range(len(psgld))) \n",
    "width = 0.25 \n",
    "\n",
    "fig, ax = plt.subplots()\n",
    "fig.set_size_inches(4, 15.0)\n",
    "plt.tick_params(size = 10)\n",
    "\n",
    "plt.barh(pos, psgld, width, color = 'green', alpha = 0.6, edgecolor = 'black')\n",
    "plt.barh([p + width for p in pos], adam, width, color = 'blue', \n",
    "         alpha = 0.6, edgecolor = 'black') \n",
    "\n",
    "# Set the y axis label\n",
    "ax.set_ylabel('Antibiotics',fontsize = 18)\n",
    "ax.spines[\"top\"].set_visible(False)  \n",
    "ax.spines[\"right\"].set_visible(False)\n",
    "ax.tick_params(axis = 'y', size = 0)\n",
    "plt.yticks([0.1, 1.16, 2.16, 3.16, 4.16, 5.16, 6.16, 7.16, 8.16, 9.16, 10.16, 11.16, 12.16,\n",
    "           13.16,14.16, 15.16], ('Overall', 'Glycopeptide','Sulfonamide','Trimethoprim','Kasugamycin',\n",
    "                                 'Bacitracin','Chloramphenicol',\n",
    "'Polymyxin','Fosfomycin','Macrolide \\n lincosamide \\n streptogramin','Quinolone','Tetracycline','Rifampin',\n",
    "'Aminoglycoside','Beta Lactam','Multidrug'))\n",
    "\n",
    "plt.xlim(0.0,1.02)\n",
    "\n",
    "# Adding the legend and showing the plot\n",
    "#plt.legend(algos, loc='upper right', fontsize = 10)\n",
    "ax.figure.savefig('bar_pr.eps', format = 'eps', dpi = 1200, bbox_inches=\"tight\")\n",
    "ax.figure.savefig('bar_pr.png', format = 'png', dpi = 1200, bbox_inches=\"tight\")\n",
    "ax.figure.savefig('bar_pr.pdf', format = 'pdf', dpi = 1200, bbox_inches=\"tight\")\n",
    "#plt.grid()\n",
    "plt.show()"
   ]
  },
  {
   "cell_type": "code",
   "execution_count": 227,
   "metadata": {},
   "outputs": [
    {
     "data": {
      "image/png": "[encoded data removed]",
      "text/plain": [
       "<Figure size 288x1080 with 1 Axes>"
      ]
     },
     "metadata": {},
     "output_type": "display_data"
    }
   ],
   "source": [
    "#                         0.92      0.87       109\n",
    "#         1.0             0.97      0.97       519\n",
    "#         2.0             0.89      0.90        87\n",
    "#         3.0             1.00      1.00         3\n",
    "#         4.0             0.70      0.81        27\n",
    "#         5.0             0.92      0.92        13\n",
    "#         6.0             0.94      0.93       111\n",
    "#         7.0             1.00      0.97        29\n",
    "#         8.0             0.97      0.98        90\n",
    "#         9.0             0.98      0.99        47\n",
    "#        10.0             0.99      0.99       421\n",
    "#        11.0             1.00      1.00         3\n",
    "#        12.0             0.75      0.80         8\n",
    "#        13.0             1.00      0.57         2\n",
    "#        14.0             0.91      0.74        22\n",
    "\n",
    "psgld = [0.96,0.91,1.0,0.75,1.0,0.99,0.98,0.97,1.0,0.94,0.92,0.70,1.0,0.89,0.97,0.92]\n",
    "adam = [0.95,0.91,1.0,0.88,1.0,0.98,0.89,0.99,0.93,0.94,0.92,0.70,0.67,0.97,0.96,0.92]\n",
    "\n",
    "plt.rc('ytick',labelsize=15)\n",
    "plt.rc('xtick',labelsize=10)\n",
    "algos = ['pSGLD', 'Adam']\n",
    "pos = list(range(len(psgld))) \n",
    "width = 0.25 \n",
    "\n",
    "fig, ax = plt.subplots()\n",
    "fig.set_size_inches(4, 15.0)\n",
    "plt.tick_params(size = 10)\n",
    "\n",
    "plt.barh(pos, psgld, width, color = 'green', alpha = 0.6, edgecolor = 'black')\n",
    "plt.barh([p + width for p in pos], adam, width, color = 'blue', \n",
    "         alpha = 0.6, edgecolor = 'black') \n",
    "\n",
    "# Set the y axis label\n",
    "#ax.set_ylabel('Antibiotics',fontsize = 18)\n",
    "ax.spines[\"top\"].set_visible(False)  \n",
    "ax.spines[\"right\"].set_visible(False)\n",
    "ax.tick_params(axis = 'y', size = 0)\n",
    "plt.setp(ax.get_yticklabels(), visible=False)\n",
    "# plt.yticks([0.1, 1.16, 2.16, 3.16, 4.16, 5.16, 6.16, 7.16, 8.16, 9.16, 10.16, 11.16, 12.16,\n",
    "#            13.16,14.16, 15.16], ('Overall', 'Glycopeptide','Sulfonamide','Trimethoprim','Kasugamycin',\n",
    "#                                  'Bacitracin','Chloramphenicol',\n",
    "# 'Polymyxin','Fosfomycin','Macrolide \\n lincosamide \\n streptogramin','Quinolone','Tetracycline','Rifampin',\n",
    "# 'Aminoglycoside','Beta Lactam','Multidrug'))\n",
    "\n",
    "plt.xlim(0.0,1.02)\n",
    "\n",
    "# Adding the legend and showing the plot\n",
    "#plt.legend(algos, loc='upper right', fontsize = 10)\n",
    "ax.figure.savefig('bar_re.eps', format = 'eps', dpi = 1200, bbox_inches=\"tight\")\n",
    "ax.figure.savefig('bar_re.png', format = 'png', dpi = 1200, bbox_inches=\"tight\")\n",
    "ax.figure.savefig('bar_re.pdf', format = 'pdf', dpi = 1200, bbox_inches=\"tight\")\n",
    "#plt.grid()\n",
    "plt.show()"
   ]
  },
  {
   "cell_type": "code",
   "execution_count": 225,
   "metadata": {},
   "outputs": [
    {
     "data": {
      "image/png": "[encoded data removed]",
      "text/plain": [
       "<Figure size 288x1080 with 1 Axes>"
      ]
     },
     "metadata": {},
     "output_type": "display_data"
    }
   ],
   "source": [
    "psgld = [0.96,0.74,0.57,0.80,1.0,0.99,0.99,0.98,0.97,0.93,0.92,0.81,1.0,0.90,0.97,0.87]\n",
    "adam = [0.96,0.67,1.0,0.82,1.0,0.99,0.93,0.99,0.96,0.95,0.86,0.78,0.80,0.93,0.98,0.88]\n",
    "\n",
    "plt.rc('ytick',labelsize=15)\n",
    "plt.rc('xtick',labelsize=10)\n",
    "algos = ['pSGLD', 'Adam']\n",
    "pos = list(range(len(psgld))) \n",
    "width = 0.25 \n",
    "\n",
    "fig, ax = plt.subplots()\n",
    "fig.set_size_inches(4, 15.0)\n",
    "plt.tick_params(size = 10)\n",
    "\n",
    "plt.barh(pos, psgld, width, color = 'green', alpha = 0.6, edgecolor = 'black')\n",
    "plt.barh([p + width for p in pos], adam, width, color = 'blue', \n",
    "         alpha = 0.6, edgecolor = 'black') \n",
    "\n",
    "# Set the y axis label\n",
    "#ax.set_ylabel('Antibiotics',fontsize = 18)\n",
    "ax.spines[\"top\"].set_visible(False)  \n",
    "ax.spines[\"right\"].set_visible(False)\n",
    "ax.tick_params(axis = 'y', size = 0)\n",
    "plt.setp(ax.get_yticklabels(), visible=False)\n",
    "# plt.yticks([0.1, 1.16, 2.16, 3.16, 4.16, 5.16, 6.16, 7.16, 8.16, 9.16, 10.16, 11.16, 12.16,\n",
    "#            13.16,14.16, 15.16], ('Overall', 'Glycopeptide','Sulfonamide','Trimethoprim','Kasugamycin',\n",
    "#                                  'Bacitracin','Chloramphenicol',\n",
    "# 'Polymyxin','Fosfomycin','Macrolide \\n lincosamide \\n streptogramin','Quinolone','Tetracycline','Rifampin',\n",
    "# 'Aminoglycoside','Beta Lactam','Multidrug'))\n",
    "\n",
    "plt.xlim(0.0,1.02)\n",
    "\n",
    "# Adding the legend and showing the plot\n",
    "plt.legend(algos, loc='upper right', fontsize = 10)\n",
    "ax.figure.savefig('bar_f1.eps', format = 'eps', dpi = 1200, bbox_inches=\"tight\")\n",
    "ax.figure.savefig('bar_f1.png', format = 'png', dpi = 1200, bbox_inches=\"tight\")\n",
    "ax.figure.savefig('bar_f1.pdf', format = 'pdf', dpi = 1200, bbox_inches=\"tight\")\n",
    "# #plt.grid()\n",
    "plt.show()"
   ]
  }
 ],
 "metadata": {
  "kernelspec": {
   "display_name": "Python 3",
   "language": "python",
   "name": "python3"
  },
  "language_info": {
   "codemirror_mode": {
    "name": "ipython",
    "version": 3
   },
   "file_extension": ".py",
   "mimetype": "text/x-python",
   "name": "python",
   "nbconvert_exporter": "python",
   "pygments_lexer": "ipython3",
   "version": "3.7.3"
  }
 },
 "nbformat": 4,
 "nbformat_minor": 2
}
